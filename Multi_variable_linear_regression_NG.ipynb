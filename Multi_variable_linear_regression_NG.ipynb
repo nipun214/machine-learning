{
  "nbformat": 4,
  "nbformat_minor": 0,
  "metadata": {
    "colab": {
      "name": "Multi_variable_linear_regression_NG.ipynb",
      "provenance": [],
      "collapsed_sections": []
    },
    "kernelspec": {
      "name": "python3",
      "display_name": "Python 3"
    }
  },
  "cells": [
    {
      "cell_type": "code",
      "metadata": {
        "id": "XtFT5WcwBZbs",
        "colab_type": "code",
        "colab": {}
      },
      "source": [
        "import numpy as np\n",
        "import matplotlib.pyplot as plt\n",
        "import pandas as pd"
      ],
      "execution_count": 0,
      "outputs": []
    },
    {
      "cell_type": "code",
      "metadata": {
        "id": "2FbAK1ZZ6_-U",
        "colab_type": "code",
        "outputId": "1100dea6-e165-4572-a3ce-cb072b522019",
        "colab": {
          "resources": {
            "http://localhost:8080/nbextensions/google.colab/files.js": {
              "data": "Ly8gQ29weXJpZ2h0IDIwMTcgR29vZ2xlIExMQwovLwovLyBMaWNlbnNlZCB1bmRlciB0aGUgQXBhY2hlIExpY2Vuc2UsIFZlcnNpb24gMi4wICh0aGUgIkxpY2Vuc2UiKTsKLy8geW91IG1heSBub3QgdXNlIHRoaXMgZmlsZSBleGNlcHQgaW4gY29tcGxpYW5jZSB3aXRoIHRoZSBMaWNlbnNlLgovLyBZb3UgbWF5IG9idGFpbiBhIGNvcHkgb2YgdGhlIExpY2Vuc2UgYXQKLy8KLy8gICAgICBodHRwOi8vd3d3LmFwYWNoZS5vcmcvbGljZW5zZXMvTElDRU5TRS0yLjAKLy8KLy8gVW5sZXNzIHJlcXVpcmVkIGJ5IGFwcGxpY2FibGUgbGF3IG9yIGFncmVlZCB0byBpbiB3cml0aW5nLCBzb2Z0d2FyZQovLyBkaXN0cmlidXRlZCB1bmRlciB0aGUgTGljZW5zZSBpcyBkaXN0cmlidXRlZCBvbiBhbiAiQVMgSVMiIEJBU0lTLAovLyBXSVRIT1VUIFdBUlJBTlRJRVMgT1IgQ09ORElUSU9OUyBPRiBBTlkgS0lORCwgZWl0aGVyIGV4cHJlc3Mgb3IgaW1wbGllZC4KLy8gU2VlIHRoZSBMaWNlbnNlIGZvciB0aGUgc3BlY2lmaWMgbGFuZ3VhZ2UgZ292ZXJuaW5nIHBlcm1pc3Npb25zIGFuZAovLyBsaW1pdGF0aW9ucyB1bmRlciB0aGUgTGljZW5zZS4KCi8qKgogKiBAZmlsZW92ZXJ2aWV3IEhlbHBlcnMgZm9yIGdvb2dsZS5jb2xhYiBQeXRob24gbW9kdWxlLgogKi8KKGZ1bmN0aW9uKHNjb3BlKSB7CmZ1bmN0aW9uIHNwYW4odGV4dCwgc3R5bGVBdHRyaWJ1dGVzID0ge30pIHsKICBjb25zdCBlbGVtZW50ID0gZG9jdW1lbnQuY3JlYXRlRWxlbWVudCgnc3BhbicpOwogIGVsZW1lbnQudGV4dENvbnRlbnQgPSB0ZXh0OwogIGZvciAoY29uc3Qga2V5IG9mIE9iamVjdC5rZXlzKHN0eWxlQXR0cmlidXRlcykpIHsKICAgIGVsZW1lbnQuc3R5bGVba2V5XSA9IHN0eWxlQXR0cmlidXRlc1trZXldOwogIH0KICByZXR1cm4gZWxlbWVudDsKfQoKLy8gTWF4IG51bWJlciBvZiBieXRlcyB3aGljaCB3aWxsIGJlIHVwbG9hZGVkIGF0IGEgdGltZS4KY29uc3QgTUFYX1BBWUxPQURfU0laRSA9IDEwMCAqIDEwMjQ7Ci8vIE1heCBhbW91bnQgb2YgdGltZSB0byBibG9jayB3YWl0aW5nIGZvciB0aGUgdXNlci4KY29uc3QgRklMRV9DSEFOR0VfVElNRU9VVF9NUyA9IDMwICogMTAwMDsKCmZ1bmN0aW9uIF91cGxvYWRGaWxlcyhpbnB1dElkLCBvdXRwdXRJZCkgewogIGNvbnN0IHN0ZXBzID0gdXBsb2FkRmlsZXNTdGVwKGlucHV0SWQsIG91dHB1dElkKTsKICBjb25zdCBvdXRwdXRFbGVtZW50ID0gZG9jdW1lbnQuZ2V0RWxlbWVudEJ5SWQob3V0cHV0SWQpOwogIC8vIENhY2hlIHN0ZXBzIG9uIHRoZSBvdXRwdXRFbGVtZW50IHRvIG1ha2UgaXQgYXZhaWxhYmxlIGZvciB0aGUgbmV4dCBjYWxsCiAgLy8gdG8gdXBsb2FkRmlsZXNDb250aW51ZSBmcm9tIFB5dGhvbi4KICBvdXRwdXRFbGVtZW50LnN0ZXBzID0gc3RlcHM7CgogIHJldHVybiBfdXBsb2FkRmlsZXNDb250aW51ZShvdXRwdXRJZCk7Cn0KCi8vIFRoaXMgaXMgcm91Z2hseSBhbiBhc3luYyBnZW5lcmF0b3IgKG5vdCBzdXBwb3J0ZWQgaW4gdGhlIGJyb3dzZXIgeWV0KSwKLy8gd2hlcmUgdGhlcmUgYXJlIG11bHRpcGxlIGFzeW5jaHJvbm91cyBzdGVwcyBhbmQgdGhlIFB5dGhvbiBzaWRlIGlzIGdvaW5nCi8vIHRvIHBvbGwgZm9yIGNvbXBsZXRpb24gb2YgZWFjaCBzdGVwLgovLyBUaGlzIHVzZXMgYSBQcm9taXNlIHRvIGJsb2NrIHRoZSBweXRob24gc2lkZSBvbiBjb21wbGV0aW9uIG9mIGVhY2ggc3RlcCwKLy8gdGhlbiBwYXNzZXMgdGhlIHJlc3VsdCBvZiB0aGUgcHJldmlvdXMgc3RlcCBhcyB0aGUgaW5wdXQgdG8gdGhlIG5leHQgc3RlcC4KZnVuY3Rpb24gX3VwbG9hZEZpbGVzQ29udGludWUob3V0cHV0SWQpIHsKICBjb25zdCBvdXRwdXRFbGVtZW50ID0gZG9jdW1lbnQuZ2V0RWxlbWVudEJ5SWQob3V0cHV0SWQpOwogIGNvbnN0IHN0ZXBzID0gb3V0cHV0RWxlbWVudC5zdGVwczsKCiAgY29uc3QgbmV4dCA9IHN0ZXBzLm5leHQob3V0cHV0RWxlbWVudC5sYXN0UHJvbWlzZVZhbHVlKTsKICByZXR1cm4gUHJvbWlzZS5yZXNvbHZlKG5leHQudmFsdWUucHJvbWlzZSkudGhlbigodmFsdWUpID0+IHsKICAgIC8vIENhY2hlIHRoZSBsYXN0IHByb21pc2UgdmFsdWUgdG8gbWFrZSBpdCBhdmFpbGFibGUgdG8gdGhlIG5leHQKICAgIC8vIHN0ZXAgb2YgdGhlIGdlbmVyYXRvci4KICAgIG91dHB1dEVsZW1lbnQubGFzdFByb21pc2VWYWx1ZSA9IHZhbHVlOwogICAgcmV0dXJuIG5leHQudmFsdWUucmVzcG9uc2U7CiAgfSk7Cn0KCi8qKgogKiBHZW5lcmF0b3IgZnVuY3Rpb24gd2hpY2ggaXMgY2FsbGVkIGJldHdlZW4gZWFjaCBhc3luYyBzdGVwIG9mIHRoZSB1cGxvYWQKICogcHJvY2Vzcy4KICogQHBhcmFtIHtzdHJpbmd9IGlucHV0SWQgRWxlbWVudCBJRCBvZiB0aGUgaW5wdXQgZmlsZSBwaWNrZXIgZWxlbWVudC4KICogQHBhcmFtIHtzdHJpbmd9IG91dHB1dElkIEVsZW1lbnQgSUQgb2YgdGhlIG91dHB1dCBkaXNwbGF5LgogKiBAcmV0dXJuIHshSXRlcmFibGU8IU9iamVjdD59IEl0ZXJhYmxlIG9mIG5leHQgc3RlcHMuCiAqLwpmdW5jdGlvbiogdXBsb2FkRmlsZXNTdGVwKGlucHV0SWQsIG91dHB1dElkKSB7CiAgY29uc3QgaW5wdXRFbGVtZW50ID0gZG9jdW1lbnQuZ2V0RWxlbWVudEJ5SWQoaW5wdXRJZCk7CiAgaW5wdXRFbGVtZW50LmRpc2FibGVkID0gZmFsc2U7CgogIGNvbnN0IG91dHB1dEVsZW1lbnQgPSBkb2N1bWVudC5nZXRFbGVtZW50QnlJZChvdXRwdXRJZCk7CiAgb3V0cHV0RWxlbWVudC5pbm5lckhUTUwgPSAnJzsKCiAgY29uc3QgcGlja2VkUHJvbWlzZSA9IG5ldyBQcm9taXNlKChyZXNvbHZlKSA9PiB7CiAgICBpbnB1dEVsZW1lbnQuYWRkRXZlbnRMaXN0ZW5lcignY2hhbmdlJywgKGUpID0+IHsKICAgICAgcmVzb2x2ZShlLnRhcmdldC5maWxlcyk7CiAgICB9KTsKICB9KTsKCiAgY29uc3QgY2FuY2VsID0gZG9jdW1lbnQuY3JlYXRlRWxlbWVudCgnYnV0dG9uJyk7CiAgaW5wdXRFbGVtZW50LnBhcmVudEVsZW1lbnQuYXBwZW5kQ2hpbGQoY2FuY2VsKTsKICBjYW5jZWwudGV4dENvbnRlbnQgPSAnQ2FuY2VsIHVwbG9hZCc7CiAgY29uc3QgY2FuY2VsUHJvbWlzZSA9IG5ldyBQcm9taXNlKChyZXNvbHZlKSA9PiB7CiAgICBjYW5jZWwub25jbGljayA9ICgpID0+IHsKICAgICAgcmVzb2x2ZShudWxsKTsKICAgIH07CiAgfSk7CgogIC8vIENhbmNlbCB1cGxvYWQgaWYgdXNlciBoYXNuJ3QgcGlja2VkIGFueXRoaW5nIGluIHRpbWVvdXQuCiAgY29uc3QgdGltZW91dFByb21pc2UgPSBuZXcgUHJvbWlzZSgocmVzb2x2ZSkgPT4gewogICAgc2V0VGltZW91dCgoKSA9PiB7CiAgICAgIHJlc29sdmUobnVsbCk7CiAgICB9LCBGSUxFX0NIQU5HRV9USU1FT1VUX01TKTsKICB9KTsKCiAgLy8gV2FpdCBmb3IgdGhlIHVzZXIgdG8gcGljayB0aGUgZmlsZXMuCiAgY29uc3QgZmlsZXMgPSB5aWVsZCB7CiAgICBwcm9taXNlOiBQcm9taXNlLnJhY2UoW3BpY2tlZFByb21pc2UsIHRpbWVvdXRQcm9taXNlLCBjYW5jZWxQcm9taXNlXSksCiAgICByZXNwb25zZTogewogICAgICBhY3Rpb246ICdzdGFydGluZycsCiAgICB9CiAgfTsKCiAgaWYgKCFmaWxlcykgewogICAgcmV0dXJuIHsKICAgICAgcmVzcG9uc2U6IHsKICAgICAgICBhY3Rpb246ICdjb21wbGV0ZScsCiAgICAgIH0KICAgIH07CiAgfQoKICBjYW5jZWwucmVtb3ZlKCk7CgogIC8vIERpc2FibGUgdGhlIGlucHV0IGVsZW1lbnQgc2luY2UgZnVydGhlciBwaWNrcyBhcmUgbm90IGFsbG93ZWQuCiAgaW5wdXRFbGVtZW50LmRpc2FibGVkID0gdHJ1ZTsKCiAgZm9yIChjb25zdCBmaWxlIG9mIGZpbGVzKSB7CiAgICBjb25zdCBsaSA9IGRvY3VtZW50LmNyZWF0ZUVsZW1lbnQoJ2xpJyk7CiAgICBsaS5hcHBlbmQoc3BhbihmaWxlLm5hbWUsIHtmb250V2VpZ2h0OiAnYm9sZCd9KSk7CiAgICBsaS5hcHBlbmQoc3BhbigKICAgICAgICBgKCR7ZmlsZS50eXBlIHx8ICduL2EnfSkgLSAke2ZpbGUuc2l6ZX0gYnl0ZXMsIGAgKwogICAgICAgIGBsYXN0IG1vZGlmaWVkOiAkewogICAgICAgICAgICBmaWxlLmxhc3RNb2RpZmllZERhdGUgPyBmaWxlLmxhc3RNb2RpZmllZERhdGUudG9Mb2NhbGVEYXRlU3RyaW5nKCkgOgogICAgICAgICAgICAgICAgICAgICAgICAgICAgICAgICAgICAnbi9hJ30gLSBgKSk7CiAgICBjb25zdCBwZXJjZW50ID0gc3BhbignMCUgZG9uZScpOwogICAgbGkuYXBwZW5kQ2hpbGQocGVyY2VudCk7CgogICAgb3V0cHV0RWxlbWVudC5hcHBlbmRDaGlsZChsaSk7CgogICAgY29uc3QgZmlsZURhdGFQcm9taXNlID0gbmV3IFByb21pc2UoKHJlc29sdmUpID0+IHsKICAgICAgY29uc3QgcmVhZGVyID0gbmV3IEZpbGVSZWFkZXIoKTsKICAgICAgcmVhZGVyLm9ubG9hZCA9IChlKSA9PiB7CiAgICAgICAgcmVzb2x2ZShlLnRhcmdldC5yZXN1bHQpOwogICAgICB9OwogICAgICByZWFkZXIucmVhZEFzQXJyYXlCdWZmZXIoZmlsZSk7CiAgICB9KTsKICAgIC8vIFdhaXQgZm9yIHRoZSBkYXRhIHRvIGJlIHJlYWR5LgogICAgbGV0IGZpbGVEYXRhID0geWllbGQgewogICAgICBwcm9taXNlOiBmaWxlRGF0YVByb21pc2UsCiAgICAgIHJlc3BvbnNlOiB7CiAgICAgICAgYWN0aW9uOiAnY29udGludWUnLAogICAgICB9CiAgICB9OwoKICAgIC8vIFVzZSBhIGNodW5rZWQgc2VuZGluZyB0byBhdm9pZCBtZXNzYWdlIHNpemUgbGltaXRzLiBTZWUgYi82MjExNTY2MC4KICAgIGxldCBwb3NpdGlvbiA9IDA7CiAgICB3aGlsZSAocG9zaXRpb24gPCBmaWxlRGF0YS5ieXRlTGVuZ3RoKSB7CiAgICAgIGNvbnN0IGxlbmd0aCA9IE1hdGgubWluKGZpbGVEYXRhLmJ5dGVMZW5ndGggLSBwb3NpdGlvbiwgTUFYX1BBWUxPQURfU0laRSk7CiAgICAgIGNvbnN0IGNodW5rID0gbmV3IFVpbnQ4QXJyYXkoZmlsZURhdGEsIHBvc2l0aW9uLCBsZW5ndGgpOwogICAgICBwb3NpdGlvbiArPSBsZW5ndGg7CgogICAgICBjb25zdCBiYXNlNjQgPSBidG9hKFN0cmluZy5mcm9tQ2hhckNvZGUuYXBwbHkobnVsbCwgY2h1bmspKTsKICAgICAgeWllbGQgewogICAgICAgIHJlc3BvbnNlOiB7CiAgICAgICAgICBhY3Rpb246ICdhcHBlbmQnLAogICAgICAgICAgZmlsZTogZmlsZS5uYW1lLAogICAgICAgICAgZGF0YTogYmFzZTY0LAogICAgICAgIH0sCiAgICAgIH07CiAgICAgIHBlcmNlbnQudGV4dENvbnRlbnQgPQogICAgICAgICAgYCR7TWF0aC5yb3VuZCgocG9zaXRpb24gLyBmaWxlRGF0YS5ieXRlTGVuZ3RoKSAqIDEwMCl9JSBkb25lYDsKICAgIH0KICB9CgogIC8vIEFsbCBkb25lLgogIHlpZWxkIHsKICAgIHJlc3BvbnNlOiB7CiAgICAgIGFjdGlvbjogJ2NvbXBsZXRlJywKICAgIH0KICB9Owp9CgpzY29wZS5nb29nbGUgPSBzY29wZS5nb29nbGUgfHwge307CnNjb3BlLmdvb2dsZS5jb2xhYiA9IHNjb3BlLmdvb2dsZS5jb2xhYiB8fCB7fTsKc2NvcGUuZ29vZ2xlLmNvbGFiLl9maWxlcyA9IHsKICBfdXBsb2FkRmlsZXMsCiAgX3VwbG9hZEZpbGVzQ29udGludWUsCn07Cn0pKHNlbGYpOwo=",
              "ok": true,
              "headers": [
                [
                  "content-type",
                  "application/javascript"
                ]
              ],
              "status": 200,
              "status_text": ""
            }
          },
          "base_uri": "https://localhost:8080/",
          "height": 74
        }
      },
      "source": [
        "from google.colab import files\n",
        "uploaded = files.upload()"
      ],
      "execution_count": 4,
      "outputs": [
        {
          "output_type": "display_data",
          "data": {
            "text/html": [
              "\n",
              "     <input type=\"file\" id=\"files-4da2f7e2-d6e9-4bc0-89a4-945f95efbf60\" name=\"files[]\" multiple disabled />\n",
              "     <output id=\"result-4da2f7e2-d6e9-4bc0-89a4-945f95efbf60\">\n",
              "      Upload widget is only available when the cell has been executed in the\n",
              "      current browser session. Please rerun this cell to enable.\n",
              "      </output>\n",
              "      <script src=\"/nbextensions/google.colab/files.js\"></script> "
            ],
            "text/plain": [
              "<IPython.core.display.HTML object>"
            ]
          },
          "metadata": {
            "tags": []
          }
        },
        {
          "output_type": "stream",
          "text": [
            "Saving Real estate.csv to Real estate.csv\n"
          ],
          "name": "stdout"
        }
      ]
    },
    {
      "cell_type": "code",
      "metadata": {
        "id": "7h6FRHRcCSVK",
        "colab_type": "code",
        "outputId": "52a95096-25e7-46eb-be47-81050395786b",
        "colab": {
          "base_uri": "https://localhost:8080/",
          "height": 269
        }
      },
      "source": [
        "columnname=['no.','X1 transaction date','X2 house age','X3 distance to the nearest MRT station','X4 number of convenience stores','X5 latitude','X6 longitude','Y house price of unit area']\n",
        "dataset=pd.read_csv(\"Real estate.csv\",names=columnname)\n",
        "print(dataset)\n",
        "dataset.shape"
      ],
      "execution_count": 5,
      "outputs": [
        {
          "output_type": "stream",
          "text": [
            "     no.  X1 transaction date  ...  X6 longitude  Y house price of unit area\n",
            "0      1             2012.917  ...     121.54024                        37.9\n",
            "1      2             2012.917  ...     121.53951                        42.2\n",
            "2      3             2013.583  ...     121.54391                        47.3\n",
            "3      4             2013.500  ...     121.54391                        54.8\n",
            "4      5             2012.833  ...     121.54245                        43.1\n",
            "..   ...                  ...  ...           ...                         ...\n",
            "409  410             2013.000  ...     121.50381                        15.4\n",
            "410  411             2012.667  ...     121.54310                        50.0\n",
            "411  412             2013.250  ...     121.53986                        40.6\n",
            "412  413             2013.000  ...     121.54067                        52.5\n",
            "413  414             2013.500  ...     121.54310                        63.9\n",
            "\n",
            "[414 rows x 8 columns]\n"
          ],
          "name": "stdout"
        },
        {
          "output_type": "execute_result",
          "data": {
            "text/plain": [
              "(414, 8)"
            ]
          },
          "metadata": {
            "tags": []
          },
          "execution_count": 5
        }
      ]
    },
    {
      "cell_type": "code",
      "metadata": {
        "id": "q8oWWQ20Ch2_",
        "colab_type": "code",
        "outputId": "9b7f62e1-862c-411c-fb3c-80523c8586b6",
        "colab": {
          "base_uri": "https://localhost:8080/",
          "height": 34
        }
      },
      "source": [
        "type(dataset)"
      ],
      "execution_count": 6,
      "outputs": [
        {
          "output_type": "execute_result",
          "data": {
            "text/plain": [
              "pandas.core.frame.DataFrame"
            ]
          },
          "metadata": {
            "tags": []
          },
          "execution_count": 6
        }
      ]
    },
    {
      "cell_type": "code",
      "metadata": {
        "id": "kZyeGggiCnO9",
        "colab_type": "code",
        "outputId": "f160f032-6146-41ff-ab7d-3140fc12d9fe",
        "colab": {
          "base_uri": "https://localhost:8080/",
          "height": 284
        }
      },
      "source": [
        "dataset.describe()"
      ],
      "execution_count": 7,
      "outputs": [
        {
          "output_type": "execute_result",
          "data": {
            "text/html": [
              "<div>\n",
              "<style scoped>\n",
              "    .dataframe tbody tr th:only-of-type {\n",
              "        vertical-align: middle;\n",
              "    }\n",
              "\n",
              "    .dataframe tbody tr th {\n",
              "        vertical-align: top;\n",
              "    }\n",
              "\n",
              "    .dataframe thead th {\n",
              "        text-align: right;\n",
              "    }\n",
              "</style>\n",
              "<table border=\"1\" class=\"dataframe\">\n",
              "  <thead>\n",
              "    <tr style=\"text-align: right;\">\n",
              "      <th></th>\n",
              "      <th>no.</th>\n",
              "      <th>X1 transaction date</th>\n",
              "      <th>X2 house age</th>\n",
              "      <th>X3 distance to the nearest MRT station</th>\n",
              "      <th>X4 number of convenience stores</th>\n",
              "      <th>X5 latitude</th>\n",
              "      <th>X6 longitude</th>\n",
              "      <th>Y house price of unit area</th>\n",
              "    </tr>\n",
              "  </thead>\n",
              "  <tbody>\n",
              "    <tr>\n",
              "      <th>count</th>\n",
              "      <td>414.000000</td>\n",
              "      <td>414.000000</td>\n",
              "      <td>414.000000</td>\n",
              "      <td>414.000000</td>\n",
              "      <td>414.000000</td>\n",
              "      <td>414.000000</td>\n",
              "      <td>414.000000</td>\n",
              "      <td>414.000000</td>\n",
              "    </tr>\n",
              "    <tr>\n",
              "      <th>mean</th>\n",
              "      <td>207.500000</td>\n",
              "      <td>2013.148971</td>\n",
              "      <td>17.712560</td>\n",
              "      <td>1083.885689</td>\n",
              "      <td>4.094203</td>\n",
              "      <td>24.969030</td>\n",
              "      <td>121.533361</td>\n",
              "      <td>37.980193</td>\n",
              "    </tr>\n",
              "    <tr>\n",
              "      <th>std</th>\n",
              "      <td>119.655756</td>\n",
              "      <td>0.281967</td>\n",
              "      <td>11.392485</td>\n",
              "      <td>1262.109595</td>\n",
              "      <td>2.945562</td>\n",
              "      <td>0.012410</td>\n",
              "      <td>0.015347</td>\n",
              "      <td>13.606488</td>\n",
              "    </tr>\n",
              "    <tr>\n",
              "      <th>min</th>\n",
              "      <td>1.000000</td>\n",
              "      <td>2012.667000</td>\n",
              "      <td>0.000000</td>\n",
              "      <td>23.382840</td>\n",
              "      <td>0.000000</td>\n",
              "      <td>24.932070</td>\n",
              "      <td>121.473530</td>\n",
              "      <td>7.600000</td>\n",
              "    </tr>\n",
              "    <tr>\n",
              "      <th>25%</th>\n",
              "      <td>104.250000</td>\n",
              "      <td>2012.917000</td>\n",
              "      <td>9.025000</td>\n",
              "      <td>289.324800</td>\n",
              "      <td>1.000000</td>\n",
              "      <td>24.963000</td>\n",
              "      <td>121.528085</td>\n",
              "      <td>27.700000</td>\n",
              "    </tr>\n",
              "    <tr>\n",
              "      <th>50%</th>\n",
              "      <td>207.500000</td>\n",
              "      <td>2013.167000</td>\n",
              "      <td>16.100000</td>\n",
              "      <td>492.231300</td>\n",
              "      <td>4.000000</td>\n",
              "      <td>24.971100</td>\n",
              "      <td>121.538630</td>\n",
              "      <td>38.450000</td>\n",
              "    </tr>\n",
              "    <tr>\n",
              "      <th>75%</th>\n",
              "      <td>310.750000</td>\n",
              "      <td>2013.417000</td>\n",
              "      <td>28.150000</td>\n",
              "      <td>1454.279000</td>\n",
              "      <td>6.000000</td>\n",
              "      <td>24.977455</td>\n",
              "      <td>121.543305</td>\n",
              "      <td>46.600000</td>\n",
              "    </tr>\n",
              "    <tr>\n",
              "      <th>max</th>\n",
              "      <td>414.000000</td>\n",
              "      <td>2013.583000</td>\n",
              "      <td>43.800000</td>\n",
              "      <td>6488.021000</td>\n",
              "      <td>10.000000</td>\n",
              "      <td>25.014590</td>\n",
              "      <td>121.566270</td>\n",
              "      <td>117.500000</td>\n",
              "    </tr>\n",
              "  </tbody>\n",
              "</table>\n",
              "</div>"
            ],
            "text/plain": [
              "              no.  ...  Y house price of unit area\n",
              "count  414.000000  ...                  414.000000\n",
              "mean   207.500000  ...                   37.980193\n",
              "std    119.655756  ...                   13.606488\n",
              "min      1.000000  ...                    7.600000\n",
              "25%    104.250000  ...                   27.700000\n",
              "50%    207.500000  ...                   38.450000\n",
              "75%    310.750000  ...                   46.600000\n",
              "max    414.000000  ...                  117.500000\n",
              "\n",
              "[8 rows x 8 columns]"
            ]
          },
          "metadata": {
            "tags": []
          },
          "execution_count": 7
        }
      ]
    },
    {
      "cell_type": "code",
      "metadata": {
        "id": "ejhYRgjtCzZj",
        "colab_type": "code",
        "outputId": "53f39646-f9aa-499f-af05-75861914370c",
        "colab": {
          "base_uri": "https://localhost:8080/",
          "height": 402
        }
      },
      "source": [
        "number = dataset.iloc[0:dataset.shape[0],0:1]\n",
        "number"
      ],
      "execution_count": 8,
      "outputs": [
        {
          "output_type": "execute_result",
          "data": {
            "text/html": [
              "<div>\n",
              "<style scoped>\n",
              "    .dataframe tbody tr th:only-of-type {\n",
              "        vertical-align: middle;\n",
              "    }\n",
              "\n",
              "    .dataframe tbody tr th {\n",
              "        vertical-align: top;\n",
              "    }\n",
              "\n",
              "    .dataframe thead th {\n",
              "        text-align: right;\n",
              "    }\n",
              "</style>\n",
              "<table border=\"1\" class=\"dataframe\">\n",
              "  <thead>\n",
              "    <tr style=\"text-align: right;\">\n",
              "      <th></th>\n",
              "      <th>no.</th>\n",
              "    </tr>\n",
              "  </thead>\n",
              "  <tbody>\n",
              "    <tr>\n",
              "      <th>0</th>\n",
              "      <td>1</td>\n",
              "    </tr>\n",
              "    <tr>\n",
              "      <th>1</th>\n",
              "      <td>2</td>\n",
              "    </tr>\n",
              "    <tr>\n",
              "      <th>2</th>\n",
              "      <td>3</td>\n",
              "    </tr>\n",
              "    <tr>\n",
              "      <th>3</th>\n",
              "      <td>4</td>\n",
              "    </tr>\n",
              "    <tr>\n",
              "      <th>4</th>\n",
              "      <td>5</td>\n",
              "    </tr>\n",
              "    <tr>\n",
              "      <th>...</th>\n",
              "      <td>...</td>\n",
              "    </tr>\n",
              "    <tr>\n",
              "      <th>409</th>\n",
              "      <td>410</td>\n",
              "    </tr>\n",
              "    <tr>\n",
              "      <th>410</th>\n",
              "      <td>411</td>\n",
              "    </tr>\n",
              "    <tr>\n",
              "      <th>411</th>\n",
              "      <td>412</td>\n",
              "    </tr>\n",
              "    <tr>\n",
              "      <th>412</th>\n",
              "      <td>413</td>\n",
              "    </tr>\n",
              "    <tr>\n",
              "      <th>413</th>\n",
              "      <td>414</td>\n",
              "    </tr>\n",
              "  </tbody>\n",
              "</table>\n",
              "<p>414 rows × 1 columns</p>\n",
              "</div>"
            ],
            "text/plain": [
              "     no.\n",
              "0      1\n",
              "1      2\n",
              "2      3\n",
              "3      4\n",
              "4      5\n",
              "..   ...\n",
              "409  410\n",
              "410  411\n",
              "411  412\n",
              "412  413\n",
              "413  414\n",
              "\n",
              "[414 rows x 1 columns]"
            ]
          },
          "metadata": {
            "tags": []
          },
          "execution_count": 8
        }
      ]
    },
    {
      "cell_type": "code",
      "metadata": {
        "id": "Mg_WNRH2DPgL",
        "colab_type": "code",
        "outputId": "9043cb14-bf76-4887-c360-51ad2aaadea8",
        "colab": {
          "base_uri": "https://localhost:8080/",
          "height": 402
        }
      },
      "source": [
        " transactiondate = dataset.iloc[0:dataset.shape[0],1:2]\n",
        " transactiondate"
      ],
      "execution_count": 9,
      "outputs": [
        {
          "output_type": "execute_result",
          "data": {
            "text/html": [
              "<div>\n",
              "<style scoped>\n",
              "    .dataframe tbody tr th:only-of-type {\n",
              "        vertical-align: middle;\n",
              "    }\n",
              "\n",
              "    .dataframe tbody tr th {\n",
              "        vertical-align: top;\n",
              "    }\n",
              "\n",
              "    .dataframe thead th {\n",
              "        text-align: right;\n",
              "    }\n",
              "</style>\n",
              "<table border=\"1\" class=\"dataframe\">\n",
              "  <thead>\n",
              "    <tr style=\"text-align: right;\">\n",
              "      <th></th>\n",
              "      <th>X1 transaction date</th>\n",
              "    </tr>\n",
              "  </thead>\n",
              "  <tbody>\n",
              "    <tr>\n",
              "      <th>0</th>\n",
              "      <td>2012.917</td>\n",
              "    </tr>\n",
              "    <tr>\n",
              "      <th>1</th>\n",
              "      <td>2012.917</td>\n",
              "    </tr>\n",
              "    <tr>\n",
              "      <th>2</th>\n",
              "      <td>2013.583</td>\n",
              "    </tr>\n",
              "    <tr>\n",
              "      <th>3</th>\n",
              "      <td>2013.500</td>\n",
              "    </tr>\n",
              "    <tr>\n",
              "      <th>4</th>\n",
              "      <td>2012.833</td>\n",
              "    </tr>\n",
              "    <tr>\n",
              "      <th>...</th>\n",
              "      <td>...</td>\n",
              "    </tr>\n",
              "    <tr>\n",
              "      <th>409</th>\n",
              "      <td>2013.000</td>\n",
              "    </tr>\n",
              "    <tr>\n",
              "      <th>410</th>\n",
              "      <td>2012.667</td>\n",
              "    </tr>\n",
              "    <tr>\n",
              "      <th>411</th>\n",
              "      <td>2013.250</td>\n",
              "    </tr>\n",
              "    <tr>\n",
              "      <th>412</th>\n",
              "      <td>2013.000</td>\n",
              "    </tr>\n",
              "    <tr>\n",
              "      <th>413</th>\n",
              "      <td>2013.500</td>\n",
              "    </tr>\n",
              "  </tbody>\n",
              "</table>\n",
              "<p>414 rows × 1 columns</p>\n",
              "</div>"
            ],
            "text/plain": [
              "     X1 transaction date\n",
              "0               2012.917\n",
              "1               2012.917\n",
              "2               2013.583\n",
              "3               2013.500\n",
              "4               2012.833\n",
              "..                   ...\n",
              "409             2013.000\n",
              "410             2012.667\n",
              "411             2013.250\n",
              "412             2013.000\n",
              "413             2013.500\n",
              "\n",
              "[414 rows x 1 columns]"
            ]
          },
          "metadata": {
            "tags": []
          },
          "execution_count": 9
        }
      ]
    },
    {
      "cell_type": "code",
      "metadata": {
        "id": "t7hG0QksDZWe",
        "colab_type": "code",
        "outputId": "2e761b31-ce7b-4de4-cbe7-e9c1d112824b",
        "colab": {
          "base_uri": "https://localhost:8080/",
          "height": 402
        }
      },
      "source": [
        "houseage = dataset.iloc[0:dataset.shape[0],2:3]\n",
        "houseage"
      ],
      "execution_count": 10,
      "outputs": [
        {
          "output_type": "execute_result",
          "data": {
            "text/html": [
              "<div>\n",
              "<style scoped>\n",
              "    .dataframe tbody tr th:only-of-type {\n",
              "        vertical-align: middle;\n",
              "    }\n",
              "\n",
              "    .dataframe tbody tr th {\n",
              "        vertical-align: top;\n",
              "    }\n",
              "\n",
              "    .dataframe thead th {\n",
              "        text-align: right;\n",
              "    }\n",
              "</style>\n",
              "<table border=\"1\" class=\"dataframe\">\n",
              "  <thead>\n",
              "    <tr style=\"text-align: right;\">\n",
              "      <th></th>\n",
              "      <th>X2 house age</th>\n",
              "    </tr>\n",
              "  </thead>\n",
              "  <tbody>\n",
              "    <tr>\n",
              "      <th>0</th>\n",
              "      <td>32.0</td>\n",
              "    </tr>\n",
              "    <tr>\n",
              "      <th>1</th>\n",
              "      <td>19.5</td>\n",
              "    </tr>\n",
              "    <tr>\n",
              "      <th>2</th>\n",
              "      <td>13.3</td>\n",
              "    </tr>\n",
              "    <tr>\n",
              "      <th>3</th>\n",
              "      <td>13.3</td>\n",
              "    </tr>\n",
              "    <tr>\n",
              "      <th>4</th>\n",
              "      <td>5.0</td>\n",
              "    </tr>\n",
              "    <tr>\n",
              "      <th>...</th>\n",
              "      <td>...</td>\n",
              "    </tr>\n",
              "    <tr>\n",
              "      <th>409</th>\n",
              "      <td>13.7</td>\n",
              "    </tr>\n",
              "    <tr>\n",
              "      <th>410</th>\n",
              "      <td>5.6</td>\n",
              "    </tr>\n",
              "    <tr>\n",
              "      <th>411</th>\n",
              "      <td>18.8</td>\n",
              "    </tr>\n",
              "    <tr>\n",
              "      <th>412</th>\n",
              "      <td>8.1</td>\n",
              "    </tr>\n",
              "    <tr>\n",
              "      <th>413</th>\n",
              "      <td>6.5</td>\n",
              "    </tr>\n",
              "  </tbody>\n",
              "</table>\n",
              "<p>414 rows × 1 columns</p>\n",
              "</div>"
            ],
            "text/plain": [
              "     X2 house age\n",
              "0            32.0\n",
              "1            19.5\n",
              "2            13.3\n",
              "3            13.3\n",
              "4             5.0\n",
              "..            ...\n",
              "409          13.7\n",
              "410           5.6\n",
              "411          18.8\n",
              "412           8.1\n",
              "413           6.5\n",
              "\n",
              "[414 rows x 1 columns]"
            ]
          },
          "metadata": {
            "tags": []
          },
          "execution_count": 10
        }
      ]
    },
    {
      "cell_type": "code",
      "metadata": {
        "id": "cOTMKp8H9X3U",
        "colab_type": "code",
        "outputId": "fa4911cd-f054-4d9d-9bd0-562c7c9041a0",
        "colab": {
          "base_uri": "https://localhost:8080/",
          "height": 402
        }
      },
      "source": [
        "distancestation = dataset.iloc[0:dataset.shape[0],3:4]\n",
        "distancestation"
      ],
      "execution_count": 11,
      "outputs": [
        {
          "output_type": "execute_result",
          "data": {
            "text/html": [
              "<div>\n",
              "<style scoped>\n",
              "    .dataframe tbody tr th:only-of-type {\n",
              "        vertical-align: middle;\n",
              "    }\n",
              "\n",
              "    .dataframe tbody tr th {\n",
              "        vertical-align: top;\n",
              "    }\n",
              "\n",
              "    .dataframe thead th {\n",
              "        text-align: right;\n",
              "    }\n",
              "</style>\n",
              "<table border=\"1\" class=\"dataframe\">\n",
              "  <thead>\n",
              "    <tr style=\"text-align: right;\">\n",
              "      <th></th>\n",
              "      <th>X3 distance to the nearest MRT station</th>\n",
              "    </tr>\n",
              "  </thead>\n",
              "  <tbody>\n",
              "    <tr>\n",
              "      <th>0</th>\n",
              "      <td>84.87882</td>\n",
              "    </tr>\n",
              "    <tr>\n",
              "      <th>1</th>\n",
              "      <td>306.59470</td>\n",
              "    </tr>\n",
              "    <tr>\n",
              "      <th>2</th>\n",
              "      <td>561.98450</td>\n",
              "    </tr>\n",
              "    <tr>\n",
              "      <th>3</th>\n",
              "      <td>561.98450</td>\n",
              "    </tr>\n",
              "    <tr>\n",
              "      <th>4</th>\n",
              "      <td>390.56840</td>\n",
              "    </tr>\n",
              "    <tr>\n",
              "      <th>...</th>\n",
              "      <td>...</td>\n",
              "    </tr>\n",
              "    <tr>\n",
              "      <th>409</th>\n",
              "      <td>4082.01500</td>\n",
              "    </tr>\n",
              "    <tr>\n",
              "      <th>410</th>\n",
              "      <td>90.45606</td>\n",
              "    </tr>\n",
              "    <tr>\n",
              "      <th>411</th>\n",
              "      <td>390.96960</td>\n",
              "    </tr>\n",
              "    <tr>\n",
              "      <th>412</th>\n",
              "      <td>104.81010</td>\n",
              "    </tr>\n",
              "    <tr>\n",
              "      <th>413</th>\n",
              "      <td>90.45606</td>\n",
              "    </tr>\n",
              "  </tbody>\n",
              "</table>\n",
              "<p>414 rows × 1 columns</p>\n",
              "</div>"
            ],
            "text/plain": [
              "     X3 distance to the nearest MRT station\n",
              "0                                  84.87882\n",
              "1                                 306.59470\n",
              "2                                 561.98450\n",
              "3                                 561.98450\n",
              "4                                 390.56840\n",
              "..                                      ...\n",
              "409                              4082.01500\n",
              "410                                90.45606\n",
              "411                               390.96960\n",
              "412                               104.81010\n",
              "413                                90.45606\n",
              "\n",
              "[414 rows x 1 columns]"
            ]
          },
          "metadata": {
            "tags": []
          },
          "execution_count": 11
        }
      ]
    },
    {
      "cell_type": "code",
      "metadata": {
        "id": "SQqDauOt93WO",
        "colab_type": "code",
        "outputId": "8cc5e48c-bf5f-486e-8d22-6d0391da0a95",
        "colab": {
          "base_uri": "https://localhost:8080/",
          "height": 402
        }
      },
      "source": [
        "stores = dataset.iloc[0:dataset.shape[0],4:5]\n",
        "stores"
      ],
      "execution_count": 12,
      "outputs": [
        {
          "output_type": "execute_result",
          "data": {
            "text/html": [
              "<div>\n",
              "<style scoped>\n",
              "    .dataframe tbody tr th:only-of-type {\n",
              "        vertical-align: middle;\n",
              "    }\n",
              "\n",
              "    .dataframe tbody tr th {\n",
              "        vertical-align: top;\n",
              "    }\n",
              "\n",
              "    .dataframe thead th {\n",
              "        text-align: right;\n",
              "    }\n",
              "</style>\n",
              "<table border=\"1\" class=\"dataframe\">\n",
              "  <thead>\n",
              "    <tr style=\"text-align: right;\">\n",
              "      <th></th>\n",
              "      <th>X4 number of convenience stores</th>\n",
              "    </tr>\n",
              "  </thead>\n",
              "  <tbody>\n",
              "    <tr>\n",
              "      <th>0</th>\n",
              "      <td>10</td>\n",
              "    </tr>\n",
              "    <tr>\n",
              "      <th>1</th>\n",
              "      <td>9</td>\n",
              "    </tr>\n",
              "    <tr>\n",
              "      <th>2</th>\n",
              "      <td>5</td>\n",
              "    </tr>\n",
              "    <tr>\n",
              "      <th>3</th>\n",
              "      <td>5</td>\n",
              "    </tr>\n",
              "    <tr>\n",
              "      <th>4</th>\n",
              "      <td>5</td>\n",
              "    </tr>\n",
              "    <tr>\n",
              "      <th>...</th>\n",
              "      <td>...</td>\n",
              "    </tr>\n",
              "    <tr>\n",
              "      <th>409</th>\n",
              "      <td>0</td>\n",
              "    </tr>\n",
              "    <tr>\n",
              "      <th>410</th>\n",
              "      <td>9</td>\n",
              "    </tr>\n",
              "    <tr>\n",
              "      <th>411</th>\n",
              "      <td>7</td>\n",
              "    </tr>\n",
              "    <tr>\n",
              "      <th>412</th>\n",
              "      <td>5</td>\n",
              "    </tr>\n",
              "    <tr>\n",
              "      <th>413</th>\n",
              "      <td>9</td>\n",
              "    </tr>\n",
              "  </tbody>\n",
              "</table>\n",
              "<p>414 rows × 1 columns</p>\n",
              "</div>"
            ],
            "text/plain": [
              "     X4 number of convenience stores\n",
              "0                                 10\n",
              "1                                  9\n",
              "2                                  5\n",
              "3                                  5\n",
              "4                                  5\n",
              "..                               ...\n",
              "409                                0\n",
              "410                                9\n",
              "411                                7\n",
              "412                                5\n",
              "413                                9\n",
              "\n",
              "[414 rows x 1 columns]"
            ]
          },
          "metadata": {
            "tags": []
          },
          "execution_count": 12
        }
      ]
    },
    {
      "cell_type": "code",
      "metadata": {
        "id": "1bZ5cxC9-I9B",
        "colab_type": "code",
        "outputId": "fecba267-5d40-4567-9f5c-7ec704fef8f7",
        "colab": {
          "base_uri": "https://localhost:8080/",
          "height": 402
        }
      },
      "source": [
        "latitude = dataset.iloc[0:dataset.shape[0],5:6]\n",
        "latitude"
      ],
      "execution_count": 13,
      "outputs": [
        {
          "output_type": "execute_result",
          "data": {
            "text/html": [
              "<div>\n",
              "<style scoped>\n",
              "    .dataframe tbody tr th:only-of-type {\n",
              "        vertical-align: middle;\n",
              "    }\n",
              "\n",
              "    .dataframe tbody tr th {\n",
              "        vertical-align: top;\n",
              "    }\n",
              "\n",
              "    .dataframe thead th {\n",
              "        text-align: right;\n",
              "    }\n",
              "</style>\n",
              "<table border=\"1\" class=\"dataframe\">\n",
              "  <thead>\n",
              "    <tr style=\"text-align: right;\">\n",
              "      <th></th>\n",
              "      <th>X5 latitude</th>\n",
              "    </tr>\n",
              "  </thead>\n",
              "  <tbody>\n",
              "    <tr>\n",
              "      <th>0</th>\n",
              "      <td>24.98298</td>\n",
              "    </tr>\n",
              "    <tr>\n",
              "      <th>1</th>\n",
              "      <td>24.98034</td>\n",
              "    </tr>\n",
              "    <tr>\n",
              "      <th>2</th>\n",
              "      <td>24.98746</td>\n",
              "    </tr>\n",
              "    <tr>\n",
              "      <th>3</th>\n",
              "      <td>24.98746</td>\n",
              "    </tr>\n",
              "    <tr>\n",
              "      <th>4</th>\n",
              "      <td>24.97937</td>\n",
              "    </tr>\n",
              "    <tr>\n",
              "      <th>...</th>\n",
              "      <td>...</td>\n",
              "    </tr>\n",
              "    <tr>\n",
              "      <th>409</th>\n",
              "      <td>24.94155</td>\n",
              "    </tr>\n",
              "    <tr>\n",
              "      <th>410</th>\n",
              "      <td>24.97433</td>\n",
              "    </tr>\n",
              "    <tr>\n",
              "      <th>411</th>\n",
              "      <td>24.97923</td>\n",
              "    </tr>\n",
              "    <tr>\n",
              "      <th>412</th>\n",
              "      <td>24.96674</td>\n",
              "    </tr>\n",
              "    <tr>\n",
              "      <th>413</th>\n",
              "      <td>24.97433</td>\n",
              "    </tr>\n",
              "  </tbody>\n",
              "</table>\n",
              "<p>414 rows × 1 columns</p>\n",
              "</div>"
            ],
            "text/plain": [
              "     X5 latitude\n",
              "0       24.98298\n",
              "1       24.98034\n",
              "2       24.98746\n",
              "3       24.98746\n",
              "4       24.97937\n",
              "..           ...\n",
              "409     24.94155\n",
              "410     24.97433\n",
              "411     24.97923\n",
              "412     24.96674\n",
              "413     24.97433\n",
              "\n",
              "[414 rows x 1 columns]"
            ]
          },
          "metadata": {
            "tags": []
          },
          "execution_count": 13
        }
      ]
    },
    {
      "cell_type": "code",
      "metadata": {
        "id": "GZuOppzs-Yco",
        "colab_type": "code",
        "outputId": "13c041dc-6658-43e9-ca00-22060f5c6cbe",
        "colab": {
          "base_uri": "https://localhost:8080/",
          "height": 402
        }
      },
      "source": [
        "longitude = dataset.iloc[0:dataset.shape[0],6:7]\n",
        "longitude"
      ],
      "execution_count": 14,
      "outputs": [
        {
          "output_type": "execute_result",
          "data": {
            "text/html": [
              "<div>\n",
              "<style scoped>\n",
              "    .dataframe tbody tr th:only-of-type {\n",
              "        vertical-align: middle;\n",
              "    }\n",
              "\n",
              "    .dataframe tbody tr th {\n",
              "        vertical-align: top;\n",
              "    }\n",
              "\n",
              "    .dataframe thead th {\n",
              "        text-align: right;\n",
              "    }\n",
              "</style>\n",
              "<table border=\"1\" class=\"dataframe\">\n",
              "  <thead>\n",
              "    <tr style=\"text-align: right;\">\n",
              "      <th></th>\n",
              "      <th>X6 longitude</th>\n",
              "    </tr>\n",
              "  </thead>\n",
              "  <tbody>\n",
              "    <tr>\n",
              "      <th>0</th>\n",
              "      <td>121.54024</td>\n",
              "    </tr>\n",
              "    <tr>\n",
              "      <th>1</th>\n",
              "      <td>121.53951</td>\n",
              "    </tr>\n",
              "    <tr>\n",
              "      <th>2</th>\n",
              "      <td>121.54391</td>\n",
              "    </tr>\n",
              "    <tr>\n",
              "      <th>3</th>\n",
              "      <td>121.54391</td>\n",
              "    </tr>\n",
              "    <tr>\n",
              "      <th>4</th>\n",
              "      <td>121.54245</td>\n",
              "    </tr>\n",
              "    <tr>\n",
              "      <th>...</th>\n",
              "      <td>...</td>\n",
              "    </tr>\n",
              "    <tr>\n",
              "      <th>409</th>\n",
              "      <td>121.50381</td>\n",
              "    </tr>\n",
              "    <tr>\n",
              "      <th>410</th>\n",
              "      <td>121.54310</td>\n",
              "    </tr>\n",
              "    <tr>\n",
              "      <th>411</th>\n",
              "      <td>121.53986</td>\n",
              "    </tr>\n",
              "    <tr>\n",
              "      <th>412</th>\n",
              "      <td>121.54067</td>\n",
              "    </tr>\n",
              "    <tr>\n",
              "      <th>413</th>\n",
              "      <td>121.54310</td>\n",
              "    </tr>\n",
              "  </tbody>\n",
              "</table>\n",
              "<p>414 rows × 1 columns</p>\n",
              "</div>"
            ],
            "text/plain": [
              "     X6 longitude\n",
              "0       121.54024\n",
              "1       121.53951\n",
              "2       121.54391\n",
              "3       121.54391\n",
              "4       121.54245\n",
              "..            ...\n",
              "409     121.50381\n",
              "410     121.54310\n",
              "411     121.53986\n",
              "412     121.54067\n",
              "413     121.54310\n",
              "\n",
              "[414 rows x 1 columns]"
            ]
          },
          "metadata": {
            "tags": []
          },
          "execution_count": 14
        }
      ]
    },
    {
      "cell_type": "code",
      "metadata": {
        "id": "m9buHPTWAcLc",
        "colab_type": "code",
        "outputId": "78d46b6f-48eb-4fa3-d655-8c68553912f4",
        "colab": {
          "base_uri": "https://localhost:8080/",
          "height": 402
        }
      },
      "source": [
        "price = dataset.iloc[0:dataset.shape[0],7:8]\n",
        "price"
      ],
      "execution_count": 15,
      "outputs": [
        {
          "output_type": "execute_result",
          "data": {
            "text/html": [
              "<div>\n",
              "<style scoped>\n",
              "    .dataframe tbody tr th:only-of-type {\n",
              "        vertical-align: middle;\n",
              "    }\n",
              "\n",
              "    .dataframe tbody tr th {\n",
              "        vertical-align: top;\n",
              "    }\n",
              "\n",
              "    .dataframe thead th {\n",
              "        text-align: right;\n",
              "    }\n",
              "</style>\n",
              "<table border=\"1\" class=\"dataframe\">\n",
              "  <thead>\n",
              "    <tr style=\"text-align: right;\">\n",
              "      <th></th>\n",
              "      <th>Y house price of unit area</th>\n",
              "    </tr>\n",
              "  </thead>\n",
              "  <tbody>\n",
              "    <tr>\n",
              "      <th>0</th>\n",
              "      <td>37.9</td>\n",
              "    </tr>\n",
              "    <tr>\n",
              "      <th>1</th>\n",
              "      <td>42.2</td>\n",
              "    </tr>\n",
              "    <tr>\n",
              "      <th>2</th>\n",
              "      <td>47.3</td>\n",
              "    </tr>\n",
              "    <tr>\n",
              "      <th>3</th>\n",
              "      <td>54.8</td>\n",
              "    </tr>\n",
              "    <tr>\n",
              "      <th>4</th>\n",
              "      <td>43.1</td>\n",
              "    </tr>\n",
              "    <tr>\n",
              "      <th>...</th>\n",
              "      <td>...</td>\n",
              "    </tr>\n",
              "    <tr>\n",
              "      <th>409</th>\n",
              "      <td>15.4</td>\n",
              "    </tr>\n",
              "    <tr>\n",
              "      <th>410</th>\n",
              "      <td>50.0</td>\n",
              "    </tr>\n",
              "    <tr>\n",
              "      <th>411</th>\n",
              "      <td>40.6</td>\n",
              "    </tr>\n",
              "    <tr>\n",
              "      <th>412</th>\n",
              "      <td>52.5</td>\n",
              "    </tr>\n",
              "    <tr>\n",
              "      <th>413</th>\n",
              "      <td>63.9</td>\n",
              "    </tr>\n",
              "  </tbody>\n",
              "</table>\n",
              "<p>414 rows × 1 columns</p>\n",
              "</div>"
            ],
            "text/plain": [
              "     Y house price of unit area\n",
              "0                          37.9\n",
              "1                          42.2\n",
              "2                          47.3\n",
              "3                          54.8\n",
              "4                          43.1\n",
              "..                          ...\n",
              "409                        15.4\n",
              "410                        50.0\n",
              "411                        40.6\n",
              "412                        52.5\n",
              "413                        63.9\n",
              "\n",
              "[414 rows x 1 columns]"
            ]
          },
          "metadata": {
            "tags": []
          },
          "execution_count": 15
        }
      ]
    },
    {
      "cell_type": "code",
      "metadata": {
        "id": "MpyF2jpAA_O0",
        "colab_type": "code",
        "outputId": "f0a4591a-8d41-4f36-c47c-4025f0b3fb32",
        "colab": {
          "base_uri": "https://localhost:8080/",
          "height": 34
        }
      },
      "source": [
        "type(number.values)"
      ],
      "execution_count": 16,
      "outputs": [
        {
          "output_type": "execute_result",
          "data": {
            "text/plain": [
              "numpy.ndarray"
            ]
          },
          "metadata": {
            "tags": []
          },
          "execution_count": 16
        }
      ]
    },
    {
      "cell_type": "code",
      "metadata": {
        "id": "VTwEOlcPBJXw",
        "colab_type": "code",
        "outputId": "7c21c8cd-22a0-4d4d-e692-bf2a8ca4d4a9",
        "colab": {
          "base_uri": "https://localhost:8080/",
          "height": 34
        }
      },
      "source": [
        "type(houseage.values)"
      ],
      "execution_count": 0,
      "outputs": [
        {
          "output_type": "execute_result",
          "data": {
            "text/plain": [
              "numpy.ndarray"
            ]
          },
          "metadata": {
            "tags": []
          },
          "execution_count": 20
        }
      ]
    },
    {
      "cell_type": "code",
      "metadata": {
        "id": "tfFkKOaVBJR3",
        "colab_type": "code",
        "outputId": "d467baa1-6192-4daf-be50-a60ebc9a81aa",
        "colab": {
          "base_uri": "https://localhost:8080/",
          "height": 34
        }
      },
      "source": [
        "type(distancestation.values)"
      ],
      "execution_count": 0,
      "outputs": [
        {
          "output_type": "execute_result",
          "data": {
            "text/plain": [
              "numpy.ndarray"
            ]
          },
          "metadata": {
            "tags": []
          },
          "execution_count": 22
        }
      ]
    },
    {
      "cell_type": "code",
      "metadata": {
        "id": "ly6hvoC9BJLT",
        "colab_type": "code",
        "outputId": "b3cc4c56-7414-4815-b8d7-2194952307d7",
        "colab": {
          "base_uri": "https://localhost:8080/",
          "height": 34
        }
      },
      "source": [
        "type(stores.values)"
      ],
      "execution_count": 0,
      "outputs": [
        {
          "output_type": "execute_result",
          "data": {
            "text/plain": [
              "numpy.ndarray"
            ]
          },
          "metadata": {
            "tags": []
          },
          "execution_count": 23
        }
      ]
    },
    {
      "cell_type": "code",
      "metadata": {
        "id": "OClH-Me0BJEL",
        "colab_type": "code",
        "outputId": "5e8ed210-d3a0-4764-d052-4d0a2b49f2c3",
        "colab": {
          "base_uri": "https://localhost:8080/",
          "height": 34
        }
      },
      "source": [
        "type(latitude.values)"
      ],
      "execution_count": 0,
      "outputs": [
        {
          "output_type": "execute_result",
          "data": {
            "text/plain": [
              "numpy.ndarray"
            ]
          },
          "metadata": {
            "tags": []
          },
          "execution_count": 24
        }
      ]
    },
    {
      "cell_type": "code",
      "metadata": {
        "id": "VCfKNrx_BI6Q",
        "colab_type": "code",
        "outputId": "640b6816-1963-462d-d311-332ea5afdf20",
        "colab": {
          "base_uri": "https://localhost:8080/",
          "height": 34
        }
      },
      "source": [
        "type(longitude.values)"
      ],
      "execution_count": 0,
      "outputs": [
        {
          "output_type": "execute_result",
          "data": {
            "text/plain": [
              "numpy.ndarray"
            ]
          },
          "metadata": {
            "tags": []
          },
          "execution_count": 25
        }
      ]
    },
    {
      "cell_type": "code",
      "metadata": {
        "id": "tYxIAcawBIry",
        "colab_type": "code",
        "outputId": "9cc5754b-ee6b-4bfe-d2f0-36cb9dcc65a6",
        "colab": {
          "base_uri": "https://localhost:8080/",
          "height": 34
        }
      },
      "source": [
        "type(price.values)"
      ],
      "execution_count": 0,
      "outputs": [
        {
          "output_type": "execute_result",
          "data": {
            "text/plain": [
              "numpy.ndarray"
            ]
          },
          "metadata": {
            "tags": []
          },
          "execution_count": 26
        }
      ]
    },
    {
      "cell_type": "code",
      "metadata": {
        "id": "jfj07ZB06400",
        "colab_type": "code",
        "outputId": "46934bca-4c69-495a-fcc5-8f7376fb4b58",
        "colab": {
          "base_uri": "https://localhost:8080/",
          "height": 34
        }
      },
      "source": [
        "type(transactiondate.values)"
      ],
      "execution_count": 0,
      "outputs": [
        {
          "output_type": "execute_result",
          "data": {
            "text/plain": [
              "numpy.ndarray"
            ]
          },
          "metadata": {
            "tags": []
          },
          "execution_count": 27
        }
      ]
    },
    {
      "cell_type": "code",
      "metadata": {
        "id": "1v1Bf_aqDg0l",
        "colab_type": "code",
        "outputId": "3eb4d5aa-b0f8-4cd9-9b6d-ec8ead3e417e",
        "colab": {
          "base_uri": "https://localhost:8080/",
          "height": 297
        }
      },
      "source": [
        "# Create 2 subplot, 1 for each variable\n",
        "fig, axes = plt.subplots(figsize=(12,4),nrows=1,ncols=2)\n",
        "\n",
        "axes[0].scatter(transactiondate,price,color=\"b\")\n",
        "axes[0].set_xlabel(\"transaction date\")\n",
        "axes[0].set_ylabel(\"price\")\n",
        "axes[0].set_title(\"price Vs. transaction date\")\n",
        "\n",
        "axes[1].scatter(houseage,price,color=\"r\")\n",
        "axes[1].set_xlabel(\"houseage\")\n",
        "axes[1].set_ylabel(\"price\")\n",
        "#axes[1].set_xticks(np.arange(1,6,step=1))\n",
        "axes[1].set_title(\"price Vs. houseage\")\n",
        "\n",
        "\n",
        "# Enhance layout\n",
        "plt.tight_layout()"
      ],
      "execution_count": 87,
      "outputs": [
        {
          "output_type": "display_data",
          "data": {
            "image/png": "[encoded data removed]",
            "text/plain": [
              "<Figure size 864x288 with 2 Axes>"
            ]
          },
          "metadata": {
            "tags": []
          }
        }
      ]
    },
    {
      "cell_type": "code",
      "metadata": {
        "id": "e3HWIDNlxTMH",
        "colab_type": "code",
        "outputId": "2348f86f-3347-4f58-aeb0-64bc83cfd6ee",
        "colab": {
          "base_uri": "https://localhost:8080/",
          "height": 297
        }
      },
      "source": [
        "fig, axes = plt.subplots(figsize=(12,4),nrows=1,ncols=2)\n",
        "axes[0].scatter(distancestation,price,color=\"b\")\n",
        "axes[0].set_xlabel(\"MTR station distance\")\n",
        "axes[0].set_ylabel(\"price\")\n",
        "axes[0].set_title(\"price Vs. MTR station distance\")\n",
        "\n",
        "axes[1].scatter(stores,price,color=\"b\")\n",
        "axes[1].set_xlabel(\"store\")\n",
        "axes[1].set_ylabel(\"price\")\n",
        "axes[1].set_title(\"price Vs. stores\")\n",
        "\n",
        "plt.tight_layout()\n"
      ],
      "execution_count": 89,
      "outputs": [
        {
          "output_type": "display_data",
          "data": {
            "image/png": "[encoded data removed]",
            "text/plain": [
              "<Figure size 864x288 with 2 Axes>"
            ]
          },
          "metadata": {
            "tags": []
          }
        }
      ]
    },
    {
      "cell_type": "code",
      "metadata": {
        "id": "A3jyLPKD0uFs",
        "colab_type": "code",
        "outputId": "655a97d1-94e9-4808-fc6f-573f22997ee7",
        "colab": {
          "base_uri": "https://localhost:8080/",
          "height": 297
        }
      },
      "source": [
        "fig, axes = plt.subplots(figsize=(12,4),nrows=1,ncols=2)\n",
        "axes[0].scatter(latitude,price,color=\"b\")\n",
        "axes[0].set_xlabel(\"latitude\")\n",
        "axes[0].set_ylabel(\"price\")\n",
        "axes[0].set_title(\"price Vs. latitude\")\n",
        "\n",
        "axes[1].scatter(longitude,price,color=\"b\")\n",
        "axes[1].set_xlabel(\"longitude\")\n",
        "axes[1].set_ylabel(\"price\")\n",
        "axes[1].set_title(\"price Vs. longitude\")\n",
        "\n",
        "plt.tight_layout()\n"
      ],
      "execution_count": 21,
      "outputs": [
        {
          "output_type": "display_data",
          "data": {
            "image/png": "[encoded data removed]",
            "text/plain": [
              "<Figure size 864x288 with 2 Axes>"
            ]
          },
          "metadata": {
            "tags": []
          }
        }
      ]
    },
    {
      "cell_type": "code",
      "metadata": {
        "id": "dWC9JmKS1TnA",
        "colab_type": "code",
        "outputId": "e4fdfe34-5e16-49fb-c7de-3409e3d2e203",
        "colab": {
          "base_uri": "https://localhost:8080/",
          "height": 297
        }
      },
      "source": [
        "fig, axes = plt.subplots(figsize=(12,4),nrows=1,ncols=2)\n",
        "axes[0].scatter(price,price,color=\"b\")\n",
        "axes[0].set_xlabel(\"price\")\n",
        "axes[0].set_ylabel(\"price\")\n",
        "axes[0].set_title(\"price Vs. price\")\n",
        "plt.tight_layout()"
      ],
      "execution_count": 22,
      "outputs": [
        {
          "output_type": "display_data",
          "data": {
            "image/png": "[encoded data removed]",
            "text/plain": [
              "<Figure size 864x288 with 2 Axes>"
            ]
          },
          "metadata": {
            "tags": []
          }
        }
      ]
    },
    {
      "cell_type": "code",
      "metadata": {
        "id": "KwskjYvzEqt2",
        "colab_type": "code",
        "colab": {}
      },
      "source": [
        "#feature normalization"
      ],
      "execution_count": 0,
      "outputs": []
    },
    {
      "cell_type": "code",
      "metadata": {
        "id": "g82AFg9FEzH7",
        "colab_type": "code",
        "colab": {}
      },
      "source": [
        "def featureNormalization(X):\n",
        "    \"\"\"\n",
        "    Take in numpy array of X values and return normalize X values,\n",
        "    the mean and standard deviation of each feature\n",
        "    \"\"\"\n",
        "    mean=np.mean(X,axis=0)\n",
        "    std=np.std(X,axis=0)\n",
        "    \n",
        "    X_norm = (X - mean)/std\n",
        "    \n",
        "    return X_norm , mean , std"
      ],
      "execution_count": 0,
      "outputs": []
    },
    {
      "cell_type": "code",
      "metadata": {
        "id": "9prXtkn5E6_D",
        "colab_type": "code",
        "colab": {}
      },
      "source": [
        "data_norm=dataset.values    #converts from dataframe to array\n",
        "m2=len(data_norm[:,-1])     #last column size\n",
        "X2=data_norm[:,0:7].reshape(m2,7)   #m2 rows and 2 columns\n",
        "#X2 has all the features i.e. size and bedrooms\n",
        "X2, mean_X2, std_X2 = featureNormalization(X2)  #normalize X2\n",
        "X2 = np.append(np.ones((m2,1)),X2,axis=1)                                     # append the 1's array in X2 at first\n",
        "y2=data_norm[:,-1].reshape(m2,1)                                              #price estimate\n",
        "theta2=np.zeros((8,1))"
      ],
      "execution_count": 0,
      "outputs": []
    },
    {
      "cell_type": "code",
      "metadata": {
        "id": "H1KrSgpo0u2K",
        "colab_type": "code",
        "outputId": "981120a3-569a-4035-acd4-0406fea97a60",
        "colab": {
          "base_uri": "https://localhost:8080/",
          "height": 34
        }
      },
      "source": [
        "X2.shape"
      ],
      "execution_count": 26,
      "outputs": [
        {
          "output_type": "execute_result",
          "data": {
            "text/plain": [
              "(414, 8)"
            ]
          },
          "metadata": {
            "tags": []
          },
          "execution_count": 26
        }
      ]
    },
    {
      "cell_type": "code",
      "metadata": {
        "id": "bmHVlUKCHlai",
        "colab_type": "code",
        "colab": {}
      },
      "source": [
        ""
      ],
      "execution_count": 0,
      "outputs": []
    },
    {
      "cell_type": "code",
      "metadata": {
        "id": "cEZyL-tE91-y",
        "colab_type": "code",
        "colab": {}
      },
      "source": [
        "#define cost function\n",
        "def cost_function(theta_array, x1_value, x2_value,x3_value,x4_value,x5_value,x6_value,x7_value,y_value, m):\n",
        "    # This function returns our cost function value at particular theta values\n",
        "    total_error = 0\n",
        "    for i in range(m):\n",
        "        # total_error += ((theta_array[0] + theta_array[1]*x1_value[i] + x2_train[i]*theta_array[2]) - y_value[i])**2\n",
        "        total_error += ((theta_array[0] + theta_array[1]*x1_value[i] + x2_value[i]*theta_array[2] + x3_value[i]*theta_array[3] + x4_value[i]*theta_array[4]  + x5_value[i]*theta_array[5] + x6_value[i]*theta_array[6] + x7_value[i]*theta_array[7]  ) - y_value[i])**2 \n",
        "    return total_error/(2*m)"
      ],
      "execution_count": 0,
      "outputs": []
    },
    {
      "cell_type": "code",
      "metadata": {
        "id": "fiE9TCVpGDhA",
        "colab_type": "code",
        "colab": {}
      },
      "source": [
        "#initialize regularization parameters\n",
        "# initializing values of thetas\n",
        "    theta_0 = 0  # bias\n",
        "    theta_1 = 0  # weight of 1st feature\n",
        "    theta_2 = 0 # weight of 2nd feature\n",
        "    theta_3 = 0\n",
        "    theta_4 = 0\n",
        "    theta_5 = 0\n",
        "    theta_6 = 0\n",
        "    theta_7 = 0 \n",
        "    # defining a learning rate\n",
        "    alpha = 0.01\n",
        "\n",
        "    # Setting the number of iterations\n",
        "    iters = 500"
      ],
      "execution_count": 0,
      "outputs": []
    },
    {
      "cell_type": "code",
      "metadata": {
        "id": "hf3CqvGxso7t",
        "colab_type": "code",
        "colab": {}
      },
      "source": [
        "#define hypothesis\n",
        "def hypothesis(theta_array, x1,x2,x3,x4,x5,x6,x7):\n",
        "    # Returns value of hypothesis at the point corresponding to the 'x' entry\n",
        "    # H(x) = theta_0 + theta_1*x1+ theta_2*x2\n",
        "    return theta_array[0] + theta_array[1]*x1+ theta_array[2]*x2+ theta_array[3]*x3 + theta_array[4]*x4+ theta_array[5]*x5 + theta_array[6]*x6+ theta_array[7]*x7"
      ],
      "execution_count": 0,
      "outputs": []
    },
    {
      "cell_type": "code",
      "metadata": {
        "id": "V3KJEwfSvLyj",
        "colab_type": "code",
        "colab": {}
      },
      "source": [
        "#update the values of theta by gradient descent\n",
        "def improvise_thetas(theta_array, x1,x2,x3,x4,x5,x6,x7,Y, alpha, m):\n",
        "    ''' This function updates the values of theta_0 and theta_1 and returns an array containing\n",
        "            the updated theta values. This is where gradient descent takes place '''\n",
        "\n",
        "    # initializing summations to zero\n",
        "    summation_0 = 0\n",
        "    summation_1 = 0\n",
        "    summation_2 = 0\n",
        "    summation_3 = 0\n",
        "    summation_4 = 0\n",
        "    summation_5 = 0\n",
        "    summation_6 = 0\n",
        "    summation_7 = 0 \n",
        "    for i in range(m):        # finding the value of summations and finally the value of\n",
        "        summation_0 += (theta_array[0] + theta_array[1]*x1[i]+theta_array[2]*x2[i]+theta_array[3]*x3[i]+theta_array[4]*x4[i]+theta_array[5]*x5[i]+theta_array[6]*x6[i]+theta_array[7]*x7[i]) - Y[i]\n",
        "\n",
        "        summation_1 += x1[i]*((theta_array[0] + theta_array[1]*x1[i]+theta_array[2]*x2[i]+theta_array[3]*x3[i]+theta_array[4]*x4[i]+theta_array[5]*x5[i]+theta_array[6]*x6[i]+theta_array[7]*x7[i])-Y[i])\n",
        "        summation_2 += x2[i]*((theta_array[0] + theta_array[1]*x1[i]+theta_array[2]*x2[i]+theta_array[3]*x3[i]+theta_array[4]*x4[i]+theta_array[5]*x5[i]+theta_array[6]*x6[i]+theta_array[7]*x7[i])-Y[i])\n",
        "        summation_3 += x3[i]*((theta_array[0] + theta_array[1]*x1[i]+theta_array[2]*x2[i]+theta_array[3]*x3[i]+theta_array[4]*x4[i]+theta_array[5]*x5[i]+theta_array[6]*x6[i]+theta_array[7]*x7[i])-Y[i])\n",
        "        summation_4 += x4[i]*((theta_array[0] + theta_array[1]*x1[i]+theta_array[2]*x2[i]+theta_array[3]*x3[i]+theta_array[4]*x4[i]+theta_array[5]*x5[i]+theta_array[6]*x6[i]+theta_array[7]*x7[i])-Y[i])\n",
        "        summation_5 += x5[i]*((theta_array[0] + theta_array[1]*x1[i]+theta_array[2]*x2[i]+theta_array[3]*x3[i]+theta_array[4]*x4[i]+theta_array[5]*x5[i]+theta_array[6]*x6[i]+theta_array[7]*x7[i])-Y[i])\n",
        "        summation_6 += x6[i]*((theta_array[0] + theta_array[1]*x1[i]+theta_array[2]*x2[i]+theta_array[3]*x3[i]+theta_array[4]*x4[i]+theta_array[5]*x5[i]+theta_array[6]*x6[i]+theta_array[7]*x7[i])-Y[i])\n",
        "        summation_7 += x7[i]*((theta_array[0] + theta_array[1]*x1[i]+theta_array[2]*x2[i]+theta_array[3]*x3[i]+theta_array[4]*x4[i]+theta_array[5]*x5[i]+theta_array[6]*x6[i]+theta_array[7]*x7[i])-Y[i])\n",
        "\n",
        "\n",
        "    new_theta_0 = theta_array[0] - alpha * (summation_0) / m\n",
        "    new_theta_1 = theta_array[1] - alpha * (summation_1) / m\n",
        "    new_theta_2 = theta_array[2] - alpha * (summation_2) / m\n",
        "    new_theta_3 = theta_array[3] - alpha * (summation_3) / m\n",
        "    new_theta_4 = theta_array[4] - alpha * (summation_4) / m\n",
        "    new_theta_5 = theta_array[5] - alpha * (summation_5) / m\n",
        "    new_theta_6 = theta_array[6] - alpha * (summation_6) / m\n",
        "    new_theta_7 = theta_array[7] - alpha * (summation_7) / m\n",
        "\n",
        "    updated_theta_array = [new_theta_0, new_theta_1,new_theta_2,new_theta_3,new_theta_4,new_theta_5,new_theta_6,new_theta_7]\n",
        "    print(updated_theta_array)\n",
        "    return updated_theta_array"
      ],
      "execution_count": 0,
      "outputs": []
    },
    {
      "cell_type": "code",
      "metadata": {
        "id": "bsEXjgMHUYbv",
        "colab_type": "code",
        "colab": {
          "base_uri": "https://localhost:8080/",
          "height": 34
        },
        "outputId": "2b65ff5d-4111-4423-84e2-402f1533b22f"
      },
      "source": [
        "  m = 400\n",
        "  print(m)"
      ],
      "execution_count": 43,
      "outputs": [
        {
          "output_type": "stream",
          "text": [
            "400\n"
          ],
          "name": "stdout"
        }
      ]
    },
    {
      "cell_type": "code",
      "metadata": {
        "id": "k51F-rhTH10c",
        "colab_type": "code",
        "colab": {}
      },
      "source": [
        "#minimizing cost function error\n",
        "def training(x1,x2,x3,x4,x5,x6,x7,y_train, alpha, iters):\n",
        "    # This is the function which takes care of the Regression\n",
        "\n",
        "    # Finding size of the training data\n",
        "    m = 414\n",
        "    print(m)\n",
        "    # initializing values of thetas\n",
        "    theta_0 = 0     # bias\n",
        "    theta_1 = 0     # weight\n",
        "    theta_2 = 0\n",
        "    theta_3 = 0\n",
        "    theta_4 = 0\n",
        "    theta_5 = 0\n",
        "    theta_6 = 0\n",
        "    theta_7 = 0\n",
        "\n",
        "    # creating a weight matrix which contains both theta_0 and theta_1\n",
        "    theta_array = [theta_0, theta_1, theta_2, theta_3, theta_4, theta_5, theta_6, theta_7]\n",
        "\n",
        "    # creating an array that stores the values of the cost function during each iteration\n",
        "    cost_function_values = []\n",
        "\n",
        "    for i in range(iters):\n",
        "        # changing the values of theta 0 and theta 1 according to the gradient descent method\n",
        "        theta_array = improvise_thetas(theta_array,x1,x2,x3,x4,x5,x6,x7,y_train, alpha, m)\n",
        "\n",
        "        # storing values of the cost function after every improvisation step (gradient descent step)\n",
        "        cost_function_values.append(cost_function(theta_array,x1,x2,x3,x4,x5,x6,x7,y_train, m))\n",
        "\n",
        "        # print values every 10 iterations\n",
        "        if i % 10 == 0:\n",
        "            print('value of theta_0 at iteration %d is: ' % i, theta_array[0])\n",
        "            print('value of theta_1 at iteration %d is: ' % i, theta_array[1])\n",
        "            print('value of theta_2 at iteration %d is: ' % i, theta_array[2])\n",
        "            print('value of theta_3 at iteration %d is: ' % i, theta_array[3])\n",
        "            print('value of theta_4 at iteration %d is: ' % i, theta_array[4])\n",
        "            print('value of theta_5 at iteration %d is: ' % i, theta_array[5])\n",
        "            print('value of theta_6 at iteration %d is: ' % i, theta_array[6])\n",
        "            print('value of theta_7 at iteration %d is: ' % i, theta_array[7], '\\n')\n",
        "            ynew=x1*theta_array[1]+x2*theta_array[2]+x3*theta_array[3]+x4*theta_array[4]+x5*theta_array[5]+x6*theta_array[6]+x7*theta_array[7]+theta_array[0]\n",
        "            #plt.plot(x_train1,ynew,'r')\n",
        "            #plt.scatter(x_train1,y_train)\n",
        "            #plt.show()\n",
        "\n",
        "    # Plot our cost function's progress over our training period to check if the model has learnt\n",
        "    x = np.arange(0, len(cost_function_values), step=1)\n",
        "    plt.plot(x, cost_function_values, \"-b\", label=\"Cost Function Curve\")\n",
        "    plt.title(\"Learning Curve\")\n",
        "    plt.xlabel(\"Number Of Iterations\")\n",
        "    plt.ylabel(\"Cost Function Value\")\n",
        "    plt.legend()\n",
        "    plt.show()\n",
        "    print(\"Cost function values: \",cost_function_values)\n",
        "    # By returning our theta_array and saving it we are basically saving our trained model\n",
        "    return theta_array"
      ],
      "execution_count": 0,
      "outputs": []
    },
    {
      "cell_type": "code",
      "metadata": {
        "id": "2I-a2uHUxkq4",
        "colab_type": "code",
        "outputId": "6f259610-fe29-4681-dae9-d2cad5ffddb9",
        "colab": {
          "base_uri": "https://localhost:8080/",
          "height": 1000
        }
      },
      "source": [
        "    # training time!\n",
        "price.values\n",
        "theta_array = training(X2[:,1:2],X2[:,2:3],X2[:,3:4],X2[:,4:5],X2[:,5:6],X2[:,6:7],X2[:,7:8], y2, alpha, iters)   #to convert dataframe to array y using .values\n",
        "\n",
        "print(\"the final value of theta_0 is \",theta_array[0])\n",
        "print(\"the final value of theta_1 is \",theta_array[1])\n",
        "print(\"the final value of theta_2 is \",theta_array[2])\n",
        "print(\"the final value of theta_3 is \",theta_array[3])\n",
        "print(\"the final value of theta_4 is \",theta_array[4])\n",
        "print(\"the final value of theta_5 is \",theta_array[5])\n",
        "print(\"the final value of theta_6 is \",theta_array[6])\n",
        "print(\"the final value of theta_7 is \",theta_array[7])"
      ],
      "execution_count": 71,
      "outputs": [
        {
          "output_type": "stream",
          "text": [
            "414\n",
            "[array([0.37980193]), array([-0.00388501]), array([0.01189001]), array([-0.02861616]), array([-0.09154429]), array([0.07759982]), array([0.07424332]), array([0.07111487])]\n",
            "value of theta_0 at iteration 0 is:  [0.37980193]\n",
            "value of theta_1 at iteration 0 is:  [-0.00388501]\n",
            "value of theta_2 at iteration 0 is:  [0.01189001]\n",
            "value of theta_3 at iteration 0 is:  [-0.02861616]\n",
            "value of theta_4 at iteration 0 is:  [-0.09154429]\n",
            "value of theta_5 at iteration 0 is:  [0.07759982]\n",
            "value of theta_6 at iteration 0 is:  [0.07424332]\n",
            "value of theta_7 at iteration 0 is:  [0.07111487] \n",
            "\n",
            "[array([0.75580585]), array([-0.00772197]), array([0.0237157]), array([-0.05697044]), array([-0.18069378]), array([0.15323551]), array([0.14657582]), array([0.14011596])]\n",
            "[array([1.12804972]), array([-0.01151167]), array([0.03547621]), array([-0.08506506]), array([-0.2675126]), array([0.22695898]), array([0.21704811]), array([0.20706053])]\n",
            "[array([1.49657115]), array([-0.01525485]), array([0.04717075]), array([-0.11290223]), array([-0.3520632]), array([0.29882079]), array([0.28570944]), array([0.27200431])]\n",
            "[array([1.86140738]), array([-0.01895228]), array([0.05879857]), array([-0.14048414]), array([-0.43440631]), array([0.36887014]), array([0.35260774]), array([0.33500154])]\n",
            "[array([2.22259523]), array([-0.02260467]), array([0.07035896]), array([-0.16781297]), array([-0.51460108]), array([0.43715491]), array([0.41778966]), array([0.396105])]\n",
            "[array([2.58017121]), array([-0.02621274]), array([0.08185126]), array([-0.19489087]), array([-0.59270505]), array([0.5037217]), array([0.48130061]), array([0.45536608])]\n",
            "[array([2.93417143]), array([-0.0297772]), array([0.09327485]), array([-0.22172001]), array([-0.66877422]), array([0.56861587]), array([0.54318479]), array([0.51283476])]\n",
            "[array([3.28463165]), array([-0.03329873]), array([0.10462915]), array([-0.24830251]), array([-0.74286311]), array([0.63188157]), array([0.60348522]), array([0.5685597])]\n",
            "[array([3.63158727]), array([-0.03677801]), array([0.11591362]), array([-0.27464051]), array([-0.81502476]), array([0.69356178]), array([0.66224378]), array([0.62258826])]\n",
            "[array([3.97507333]), array([-0.04021569]), array([0.12712776]), array([-0.30073611]), array([-0.88531082]), array([0.75369832]), array([0.7195012]), array([0.67496652])]\n",
            "value of theta_0 at iteration 10 is:  [3.97507333]\n",
            "value of theta_1 at iteration 10 is:  [-0.04021569]\n",
            "value of theta_2 at iteration 10 is:  [0.12712776]\n",
            "value of theta_3 at iteration 10 is:  [-0.30073611]\n",
            "value of theta_4 at iteration 10 is:  [-0.88531082]\n",
            "value of theta_5 at iteration 10 is:  [0.75369832]\n",
            "value of theta_6 at iteration 10 is:  [0.7195012]\n",
            "value of theta_7 at iteration 10 is:  [0.67496652] \n",
            "\n",
            "[array([4.31512453]), array([-0.04361242]), array([0.1382711]), array([-0.32659141]), array([-0.95377152]), array([0.81233189]), array([0.77529716]), array([0.72573934])]\n",
            "[array([4.65177521]), array([-0.04696883]), array([0.14934322]), array([-0.35220849]), array([-1.02045578]), array([0.86950213]), array([0.82967026]), array([0.77495035])]\n",
            "[array([4.98505939]), array([-0.05028555]), array([0.16034373]), array([-0.37758942]), array([-1.08541119]), array([0.92524758]), array([0.88265807]), array([0.82264205])]\n",
            "[array([5.31501073]), array([-0.05356319]), array([0.17127226]), array([-0.40273627]), array([-1.14868407]), array([0.9796058]), array([0.93429719]), array([0.86885576])]\n",
            "[array([5.64166256]), array([-0.05680233]), array([0.18212849]), array([-0.42765106]), array([-1.21031951]), array([1.0326133]), array([0.98462319]), array([0.91363174])]\n",
            "[array([5.96504786]), array([-0.06000357]), array([0.19291212]), array([-0.45233583]), array([-1.27036138]), array([1.08430566]), array([1.03367073]), array([0.95700912])]\n",
            "[array([6.28519932]), array([-0.06316748]), array([0.20362289]), array([-0.47679259]), array([-1.32885239]), array([1.13471747]), array([1.08147353]), array([0.99902603])]\n",
            "[array([6.60214926]), array([-0.06629461]), array([0.21426055]), array([-0.50102334]), array([-1.3858341]), array([1.18388244]), array([1.12806442]), array([1.03971954])]\n",
            "[array([6.9159297]), array([-0.06938554]), array([0.22482491]), array([-0.52503007]), array([-1.44134695]), array([1.23183333]), array([1.17347535]), array([1.07912574])]\n",
            "[array([7.22657233]), array([-0.07244078]), array([0.23531578]), array([-0.54881475]), array([-1.49543032]), array([1.27860208]), array([1.21773741]), array([1.11727977])]\n",
            "value of theta_0 at iteration 20 is:  [7.22657233]\n",
            "value of theta_1 at iteration 20 is:  [-0.07244078]\n",
            "value of theta_2 at iteration 20 is:  [0.23531578]\n",
            "value of theta_3 at iteration 20 is:  [-0.54881475]\n",
            "value of theta_4 at iteration 20 is:  [-1.49543032]\n",
            "value of theta_5 at iteration 20 is:  [1.27860208]\n",
            "value of theta_6 at iteration 20 is:  [1.21773741]\n",
            "value of theta_7 at iteration 20 is:  [1.11727977] \n",
            "\n",
            "[array([7.53410854]), array([-0.07546088]), array([0.245733]), array([-0.57237934]), array([-1.5481225]), array([1.32421973]), array([1.26088087]), array([1.15421579])]\n",
            "[array([7.83856939]), array([-0.07844635]), array([0.25607645]), array([-0.59572578]), array([-1.5994608]), array([1.36871653]), array([1.30293519]), array([1.18996708])]\n",
            "[array([8.13998563]), array([-0.08139771]), array([0.26634602]), array([-0.618856]), array([-1.64948149]), array([1.4121219]), array([1.34392904]), array([1.22456602])]\n",
            "[array([8.4383877]), array([-0.08431545]), array([0.27654163]), array([-0.64177192]), array([-1.6982199]), array([1.45446448]), array([1.38389034]), array([1.2580441])]\n",
            "[array([8.73380576]), array([-0.08720007]), array([0.28666322]), array([-0.66447544]), array([-1.7457104]), array([1.49577216]), array([1.42284625]), array([1.29043199])]\n",
            "[array([9.02626963]), array([-0.09005204]), array([0.29671075]), array([-0.68696846]), array([-1.79198644]), array([1.53607206]), array([1.46082322]), array([1.32175954])]\n",
            "[array([9.31580887]), array([-0.09287185]), array([0.30668422]), array([-0.70925284]), array([-1.83708057]), array([1.57539061]), array([1.49784697]), array([1.35205577])]\n",
            "[array([9.60245271]), array([-0.09565995]), array([0.31658362]), array([-0.73133044]), array([-1.88102449]), array([1.6137535]), array([1.53394257]), array([1.38134895])]\n",
            "[array([9.88623012]), array([-0.0984168]), array([0.32640898]), array([-0.75320311]), array([-1.92384903]), array([1.65118576]), array([1.56913439]), array([1.40966659])]\n",
            "[array([10.16716975]), array([-0.10114284]), array([0.33616035]), array([-0.77487269]), array([-1.9655842]), array([1.68771175]), array([1.60344616]), array([1.43703544])]\n",
            "value of theta_0 at iteration 30 is:  [10.16716975]\n",
            "value of theta_1 at iteration 30 is:  [-0.10114284]\n",
            "value of theta_2 at iteration 30 is:  [0.33616035]\n",
            "value of theta_3 at iteration 30 is:  [-0.77487269]\n",
            "value of theta_4 at iteration 30 is:  [-1.9655842]\n",
            "value of theta_5 at iteration 30 is:  [1.68771175]\n",
            "value of theta_6 at iteration 30 is:  [1.60344616]\n",
            "value of theta_7 at iteration 30 is:  [1.43703544] \n",
            "\n",
            "[array([10.44529998]), array([-0.10383852]), array([0.34583778]), array([-0.796341]), array([-2.00625921]), array([1.72335517]), array([1.636901]), array([1.46348156])]\n",
            "[array([10.72064892]), array([-0.10650427]), array([0.35544135]), array([-0.81760983]), array([-2.04590249]), array([1.75813909]), array([1.66952137]), array([1.48903029])]\n",
            "[array([10.99324436]), array([-0.1091405]), array([0.36497117]), array([-0.83868098]), array([-2.08454171]), array([1.79208598]), array([1.70132918]), array([1.5137063])]\n",
            "[array([11.26311385]), array([-0.11174764]), array([0.37442735]), array([-0.85955623]), array([-2.12220379]), array([1.8252177]), array([1.73234571]), array([1.5375336])]\n",
            "[array([11.53028464]), array([-0.11432609]), array([0.38381001]), array([-0.88023734]), array([-2.15891493]), array([1.85755552]), array([1.76259172]), array([1.56053555])]\n",
            "[array([11.79478373]), array([-0.11687625]), array([0.3931193]), array([-0.90072607]), array([-2.19470063]), array([1.88912016]), array([1.79208737]), array([1.58273489])]\n",
            "[array([12.05663782]), array([-0.11939851]), array([0.40235537]), array([-0.92102414]), array([-2.22958573]), array([1.91993178]), array([1.82085232]), array([1.60415373])]\n",
            "[array([12.31587338]), array([-0.12189325]), array([0.4115184]), array([-0.94113328]), array([-2.26359437]), array([1.95001]), array([1.84890569]), array([1.62481362])]\n",
            "[array([12.57251658]), array([-0.12436087]), array([0.42060858]), array([-0.9610552]), array([-2.29675006]), array([1.97937392]), array([1.87626609]), array([1.64473551])]\n",
            "[array([12.82659334]), array([-0.12680172]), array([0.4296261]), array([-0.9807916]), array([-2.32907569]), array([2.00804214]), array([1.90295164]), array([1.66393978])]\n",
            "value of theta_0 at iteration 40 is:  [12.82659334]\n",
            "value of theta_1 at iteration 40 is:  [-0.12680172]\n",
            "value of theta_2 at iteration 40 is:  [0.4296261]\n",
            "value of theta_3 at iteration 40 is:  [-0.9807916]\n",
            "value of theta_4 at iteration 40 is:  [-2.32907569]\n",
            "value of theta_5 at iteration 40 is:  [2.00804214]\n",
            "value of theta_6 at iteration 40 is:  [1.90295164]\n",
            "value of theta_7 at iteration 40 is:  [1.66393978] \n",
            "\n",
            "[array([13.07812934]), array([-0.12921618]), array([0.43857117]), array([-1.00034416]), array([-2.36059352]), array([2.03603275]), array([1.92897998]), array([1.68244628])]\n",
            "[array([13.32714998]), array([-0.13160461]), array([0.44744401]), array([-1.01971454]), array([-2.39132521]), array([2.06336336]), array([1.95436826]), array([1.70027431])]\n",
            "[array([13.57368041]), array([-0.13396734]), array([0.45624486]), array([-1.03890441]), array([-2.42129187]), array([2.09005112]), array([1.9791332]), array([1.71744268])]\n",
            "[array([13.81774554]), array([-0.13630474]), array([0.46497397]), array([-1.0579154]), array([-2.45051402]), array([2.11611272]), array([2.00329106]), array([1.73396967])]\n",
            "[array([14.05937002]), array([-0.13861715]), array([0.47363158]), array([-1.07674915]), array([-2.47901163]), array([2.14156442]), array([2.02685768]), array([1.74987308])]\n",
            "[array([14.29857825]), array([-0.14090489]), array([0.48221797]), array([-1.09540726]), array([-2.50680414]), array([2.16642201]), array([2.04984846]), array([1.76517021])]\n",
            "[array([14.5353944]), array([-0.14316829]), array([0.4907334]), array([-1.11389135]), array([-2.53391048]), array([2.19070089]), array([2.07227841]), array([1.77987793])]\n",
            "[array([14.76984239]), array([-0.14540769]), array([0.49917816]), array([-1.132203]), array([-2.56034907]), array([2.21441605]), array([2.09416211]), array([1.79401264])]\n",
            "[array([15.0019459]), array([-0.14762339]), array([0.50755254]), array([-1.15034378]), array([-2.58613781]), array([2.23758207]), array([2.1155138]), array([1.80759028])]\n",
            "[array([15.23172837]), array([-0.14981571]), array([0.51585685]), array([-1.16831527]), array([-2.61129415]), array([2.26021315]), array([2.13634729]), array([1.8206264])]\n",
            "value of theta_0 at iteration 50 is:  [15.23172837]\n",
            "value of theta_1 at iteration 50 is:  [-0.14981571]\n",
            "value of theta_2 at iteration 50 is:  [0.51585685]\n",
            "value of theta_3 at iteration 50 is:  [-1.16831527]\n",
            "value of theta_4 at iteration 50 is:  [-2.61129415]\n",
            "value of theta_5 at iteration 50 is:  [2.26021315]\n",
            "value of theta_6 at iteration 50 is:  [2.13634729]\n",
            "value of theta_7 at iteration 50 is:  [1.8206264] \n",
            "\n",
            "[array([15.45921302]), array([-0.15198495]), array([0.52409138]), array([-1.18611901]), array([-2.63583508]), array([2.2823231]), array([2.15667607]), array([1.83313611])]\n",
            "[array([15.68442282]), array([-0.15413142]), array([0.53225646]), array([-1.20375654]), array([-2.65977709]), array([2.30392538]), array([2.17651323]), array([1.84513411])]\n",
            "[array([15.90738053]), array([-0.15625541]), array([0.54035241]), array([-1.22122939]), array([-2.68313628]), array([2.32503308]), array([2.19587153]), array([1.85663471])]\n",
            "[array([16.12810865]), array([-0.15835722]), array([0.54837956]), array([-1.23853906]), array([-2.70592829]), array([2.34565895]), array([2.21476341]), array([1.86765184])]\n",
            "[array([16.3466295]), array([-0.16043713]), array([0.55633824]), array([-1.25568705]), array([-2.72816835]), array([2.36581539]), array([2.23320094]), array([1.87819905])]\n",
            "[array([16.56296514]), array([-0.16249542]), array([0.5642288]), array([-1.27267486]), array([-2.74987127]), array([2.38551449]), array([2.2511959]), array([1.88828953])]\n",
            "[array([16.77713742]), array([-0.16453237]), array([0.57205159]), array([-1.28950396]), array([-2.77105147]), array([2.40476799]), array([2.26875974]), array([1.89793611])]\n",
            "[array([16.98916798]), array([-0.16654826]), array([0.57980696]), array([-1.30617581]), array([-2.791723]), array([2.42358735]), array([2.28590362]), array([1.90715127])]\n",
            "[array([17.19907823]), array([-0.16854334]), array([0.58749526]), array([-1.32269185]), array([-2.81189951]), array([2.44198369]), array([2.30263839]), array([1.91594716])]\n",
            "[array([17.40688938]), array([-0.1705179]), array([0.59511686]), array([-1.33905353]), array([-2.8315943]), array([2.45996788]), array([2.31897462]), array([1.92433562])]\n",
            "value of theta_0 at iteration 60 is:  [17.40688938]\n",
            "value of theta_1 at iteration 60 is:  [-0.1705179]\n",
            "value of theta_2 at iteration 60 is:  [0.59511686]\n",
            "value of theta_3 at iteration 60 is:  [-1.33905353]\n",
            "value of theta_4 at iteration 60 is:  [-2.8315943]\n",
            "value of theta_5 at iteration 60 is:  [2.45996788]\n",
            "value of theta_6 at iteration 60 is:  [2.31897462]\n",
            "value of theta_7 at iteration 60 is:  [1.92433562] \n",
            "\n",
            "[array([17.61262242]), array([-0.17247217]), array([0.60267214]), array([-1.35526228]), array([-2.85082031]), array([2.47755046]), array([2.3349226]), array([1.93232814])]\n",
            "[array([17.81629812]), array([-0.17440642]), array([0.61016146]), array([-1.37131949]), array([-2.86959011]), array([2.4947417]), array([2.35049234]), array([1.93993592])]\n",
            "[array([18.01793708]), array([-0.17632091]), array([0.6175852]), array([-1.38722658]), array([-2.88791598]), array([2.51155163]), array([2.36569359]), array([1.94716985])]\n",
            "[array([18.21755964]), array([-0.17821587]), array([0.62494374]), array([-1.40298494]), array([-2.90580983]), array([2.52798996]), array([2.38053584]), array([1.95404053])]\n",
            "[array([18.41518597]), array([-0.18009155]), array([0.63223748]), array([-1.41859593]), array([-2.92328327]), array([2.54406618]), array([2.39502832]), array([1.96055828])]\n",
            "[array([18.61083605]), array([-0.1819482]), array([0.63946678]), array([-1.43406093]), array([-2.9403476]), array([2.55978953]), array([2.40918004]), array([1.96673314])]\n",
            "[array([18.80452962]), array([-0.18378604]), array([0.64663205]), array([-1.44938129]), array([-2.9570138]), array([2.57516897]), array([2.42299973]), array([1.97257487])]\n",
            "[array([18.99628625]), array([-0.1856053]), array([0.65373369]), array([-1.46455835]), array([-2.97329258]), array([2.59021327]), array([2.43649594]), array([1.97809297])]\n",
            "[array([19.18612532]), array([-0.18740623]), array([0.66077208]), array([-1.47959344]), array([-2.98919434]), array([2.60493092]), array([2.44967694]), array([1.98329669])]\n",
            "[array([19.374066]), array([-0.18918903]), array([0.66774763]), array([-1.49448788]), array([-3.00472921]), array([2.61933023]), array([2.46255083]), array([1.98819503])]\n",
            "value of theta_0 at iteration 70 is:  [19.374066]\n",
            "value of theta_1 at iteration 70 is:  [-0.18918903]\n",
            "value of theta_2 at iteration 70 is:  [0.66774763]\n",
            "value of theta_3 at iteration 70 is:  [-1.49448788]\n",
            "value of theta_4 at iteration 70 is:  [-3.00472921]\n",
            "value of theta_5 at iteration 70 is:  [2.61933023]\n",
            "value of theta_6 at iteration 70 is:  [2.46255083]\n",
            "value of theta_7 at iteration 70 is:  [1.98819503] \n",
            "\n",
            "[array([19.56012728]), array([-0.19095393]), array([0.67466074]), array([-1.50924297]), array([-3.01990706]), array([2.63341925]), array([2.47512545]), array([1.99279674])]\n",
            "[array([19.74432794]), array([-0.19270115]), array([0.68151181]), array([-1.52386001]), array([-3.03473749]), array([2.64720584]), array([2.48740846]), array([1.99711034])]\n",
            "[array([19.92668659]), array([-0.19443091]), array([0.68830125]), array([-1.53834028]), array([-3.04922982]), array([2.66069765]), array([2.49940732]), array([2.00114412])]\n",
            "[array([20.10722165]), array([-0.19614341]), array([0.69502948]), array([-1.55268506]), array([-3.06339315]), array([2.67390213]), array([2.51112928]), array([2.00490614])]\n",
            "[array([20.28595137]), array([-0.19783886]), array([0.70169689]), array([-1.56689561]), array([-3.07723632]), array([2.68682651]), array([2.5225814]), array([2.00840425])]\n",
            "[array([20.46289379]), array([-0.19951747]), array([0.7083039]), array([-1.58097318]), array([-3.09076794]), array([2.69947786]), array([2.53377055]), array([2.01164608])]\n",
            "[array([20.63806678]), array([-0.20117944]), array([0.71485092]), array([-1.59491901]), array([-3.10399639]), array([2.71186304]), array([2.54470343]), array([2.01463907])]\n",
            "[array([20.81148805]), array([-0.20282496]), array([0.72133837]), array([-1.60873432]), array([-3.11692981]), array([2.72398874]), array([2.55538654]), array([2.01739043])]\n",
            "[array([20.9831751]), array([-0.20445423]), array([0.72776666]), array([-1.62242033]), array([-3.12957615]), array([2.73586147]), array([2.56582625]), array([2.01990721])]\n",
            "[array([21.15314528]), array([-0.20606745]), array([0.7341362]), array([-1.63597826]), array([-3.14194311]), array([2.74748757]), array([2.57602871]), array([2.02219625])]\n",
            "value of theta_0 at iteration 80 is:  [21.15314528]\n",
            "value of theta_1 at iteration 80 is:  [-0.20606745]\n",
            "value of theta_2 at iteration 80 is:  [0.7341362]\n",
            "value of theta_3 at iteration 80 is:  [-1.63597826]\n",
            "value of theta_4 at iteration 80 is:  [-3.14194311]\n",
            "value of theta_5 at iteration 80 is:  [2.74748757]\n",
            "value of theta_6 at iteration 80 is:  [2.57602871]\n",
            "value of theta_7 at iteration 80 is:  [2.02219625] \n",
            "\n",
            "[array([21.32141576]), array([-0.20766481]), array([0.74044741]), array([-1.64940929]), array([-3.15403822]), array([2.7588732]), array([2.58599995]), array([2.02426419])]\n",
            "[array([21.48800354]), array([-0.20924648]), array([0.74670071]), array([-1.66271461]), array([-3.16586878]), array([2.77002438]), array([2.59574581]), array([2.02611752])]\n",
            "[array([21.65292543]), array([-0.21081266]), array([0.75289652]), array([-1.6758954]), array([-3.17744192]), array([2.78094695]), array([2.60527199]), array([2.02776255])]\n",
            "[array([21.81619811]), array([-0.21236353]), array([0.75903525]), array([-1.68895282]), array([-3.18876455]), array([2.79164661]), array([2.61458404]), array([2.02920539])]\n",
            "[array([21.97783806]), array([-0.21389926]), array([0.76511732]), array([-1.70188803]), array([-3.19984341]), array([2.8021289]), array([2.62368737]), array([2.03045202])]\n",
            "[array([22.13786161]), array([-0.21542004]), array([0.77114314]), array([-1.71470216]), array([-3.21068507]), array([2.81239921]), array([2.63258723]), array([2.03150824])]\n",
            "[array([22.29628493]), array([-0.21692602]), array([0.77711314]), array([-1.72739636]), array([-3.2212959]), array([2.82246281]), array([2.64128874]), array([2.0323797])]\n",
            "[array([22.45312401]), array([-0.2184174]), array([0.78302774]), array([-1.73997173]), array([-3.23168211]), array([2.83232481]), array([2.64979688]), array([2.03307189])]\n",
            "[array([22.60839471]), array([-0.21989433]), array([0.78888734]), array([-1.75242941]), array([-3.24184975]), array([2.84199019]), array([2.65811652]), array([2.03359015])]\n",
            "[array([22.76211269]), array([-0.22135698]), array([0.79469237]), array([-1.76477049]), array([-3.25180471]), array([2.85146381]), array([2.66625236]), array([2.03393968])]\n",
            "value of theta_0 at iteration 90 is:  [22.76211269]\n",
            "value of theta_1 at iteration 90 is:  [-0.22135698]\n",
            "value of theta_2 at iteration 90 is:  [0.79469237]\n",
            "value of theta_3 at iteration 90 is:  [-1.76477049]\n",
            "value of theta_4 at iteration 90 is:  [-3.25180471]\n",
            "value of theta_5 at iteration 90 is:  [2.85146381]\n",
            "value of theta_6 at iteration 90 is:  [2.66625236]\n",
            "value of theta_7 at iteration 90 is:  [2.03393968] \n",
            "\n",
            "[array([22.9142935]), array([-0.22280552]), array([0.80044324]), array([-1.77699606]), array([-3.26155269]), array([2.86075037]), array([2.67420902]), array([2.03412554])]\n",
            "[array([23.06495249]), array([-0.2242401]), array([0.80614038]), array([-1.7891072]), array([-3.27109929]), array([2.86985449]), array([2.68199098]), array([2.03415266])]\n",
            "[array([23.2141049]), array([-0.22566089]), array([0.81178418]), array([-1.801105]), array([-3.2804499]), array([2.87878064]), array([2.68960259]), array([2.03402581])]\n",
            "[array([23.36176578]), array([-0.22706804]), array([0.81737507]), array([-1.81299051]), array([-3.28960982]), array([2.88753318]), array([2.6970481]), array([2.03374966])]\n",
            "[array([23.50795006]), array([-0.2284617]), array([0.82291347]), array([-1.82476478]), array([-3.29858417]), array([2.89611635]), array([2.70433165]), array([2.03332873])]\n",
            "[array([23.65267249]), array([-0.22984204]), array([0.82839978]), array([-1.83642887]), array([-3.30737795]), array([2.90453428]), array([2.71145726]), array([2.03276744])]\n",
            "[array([23.7959477]), array([-0.2312092]), array([0.83383441]), array([-1.84798381]), array([-3.31599601]), array([2.91279101]), array([2.71842885]), array([2.03207007])]\n",
            "[array([23.93779015]), array([-0.23256332]), array([0.83921779]), array([-1.85943061]), array([-3.3244431]), array([2.92089044]), array([2.72525024]), array([2.03124079])]\n",
            "[array([24.07821418]), array([-0.23390456]), array([0.8445503]), array([-1.87077031]), array([-3.33272382]), array([2.9288364]), array([2.73192514]), array([2.03028366])]\n",
            "[array([24.21723397]), array([-0.23523306]), array([0.84983238]), array([-1.88200389]), array([-3.34084264]), array([2.93663259]), array([2.73845718]), array([2.02920262])]\n",
            "value of theta_0 at iteration 100 is:  [24.21723397]\n",
            "value of theta_1 at iteration 100 is:  [-0.23523306]\n",
            "value of theta_2 at iteration 100 is:  [0.84983238]\n",
            "value of theta_3 at iteration 100 is:  [-1.88200389]\n",
            "value of theta_4 at iteration 100 is:  [-3.34084264]\n",
            "value of theta_5 at iteration 100 is:  [2.93663259]\n",
            "value of theta_6 at iteration 100 is:  [2.73845718]\n",
            "value of theta_7 at iteration 100 is:  [2.02920262] \n",
            "\n",
            "[array([24.35486357]), array([-0.23654896]), array([0.85506441]), array([-1.89313237]), array([-3.34880392]), array([2.94428265]), array([2.74484987]), array([2.02800152])]\n",
            "[array([24.49111686]), array([-0.23785241]), array([0.86024681]), array([-1.90415674]), array([-3.35661191]), array([2.95179008]), array([2.75110665]), array([2.02668409])]\n",
            "[array([24.62600763]), array([-0.23914353]), array([0.86537999]), array([-1.91507796]), array([-3.36427073]), array([2.95915832]), array([2.75723086]), array([2.02525396])]\n",
            "[array([24.75954948]), array([-0.24042247]), array([0.87046434]), array([-1.92589701]), array([-3.3717844]), array([2.96639072]), array([2.76322576]), array([2.02371466])]\n",
            "[array([24.89175592]), array([-0.24168936]), array([0.87550026]), array([-1.93661485]), array([-3.37915684]), array([2.97349052]), array([2.7690945]), array([2.02206964])]\n",
            "[array([25.02264029]), array([-0.24294434]), array([0.88048816]), array([-1.94723244]), array([-3.38639184]), array([2.9804609]), array([2.77484018]), array([2.02032223])]\n",
            "[array([25.15221582]), array([-0.24418753]), array([0.88542844]), array([-1.95775072]), array([-3.39349311]), array([2.98730493]), array([2.78046579]), array([2.01847569])]\n",
            "[array([25.2804956]), array([-0.24541907]), array([0.89032148]), array([-1.96817062]), array([-3.40046425]), array([2.99402562]), array([2.78597428]), array([2.01653317])]\n",
            "[array([25.40749257]), array([-0.24663908]), array([0.8951677]), array([-1.97849308]), array([-3.40730876]), array([3.00062591]), array([2.79136847]), array([2.01449777])]\n",
            "[array([25.53321958]), array([-0.24784769]), array([0.89996747]), array([-1.988719]), array([-3.41403006]), array([3.00710863]), array([2.79665115]), array([2.01237245])]\n",
            "value of theta_0 at iteration 110 is:  [25.53321958]\n",
            "value of theta_1 at iteration 110 is:  [-0.24784769]\n",
            "value of theta_2 at iteration 110 is:  [0.89996747]\n",
            "value of theta_3 at iteration 110 is:  [-1.988719]\n",
            "value of theta_4 at iteration 110 is:  [-3.41403006]\n",
            "value of theta_5 at iteration 110 is:  [3.00710863]\n",
            "value of theta_6 at iteration 110 is:  [2.79665115]\n",
            "value of theta_7 at iteration 110 is:  [2.01237245] \n",
            "\n",
            "[array([25.65768932]), array([-0.24904503]), array([0.90472119]), array([-1.9988493]), array([-3.42063147]), array([3.01347656]), array([2.80182502]), array([2.01016015])]\n",
            "[array([25.78091436]), array([-0.2502312]), array([0.90942925]), array([-2.00888488]), array([-3.42711622]), array([3.01973241]), array([2.80689272]), array([2.00786369])]\n",
            "[array([25.90290715]), array([-0.25140635]), array([0.91409205]), array([-2.01882663]), array([-3.43348744]), array([3.02587881]), array([2.81185679]), array([2.00548581])]\n",
            "[array([26.02368001]), array([-0.25257059]), array([0.91870995]), array([-2.02867544]), array([-3.4397482]), array([3.03191832]), array([2.81671974]), array([2.0030292])]\n",
            "[array([26.14324514]), array([-0.25372402]), array([0.92328336]), array([-2.03843218]), array([-3.44590147]), array([3.03785344]), array([2.821484]), array([2.00049647])]\n",
            "[array([26.26161462]), array([-0.25486678]), array([0.92781264]), array([-2.04809773]), array([-3.45195016]), array([3.0436866]), array([2.82615194]), array([1.99789013])]\n",
            "[array([26.37880041]), array([-0.25599898]), array([0.93229819]), array([-2.05767294]), array([-3.45789707]), array([3.04942016]), array([2.83072585]), array([1.99521266])]\n",
            "[array([26.49481433]), array([-0.25712073]), array([0.93674037]), array([-2.06715866]), array([-3.46374495]), array([3.05505644]), array([2.83520799]), array([1.99246645])]\n",
            "[array([26.60966812]), array([-0.25823213]), array([0.94113957]), array([-2.07655574]), array([-3.46949647]), array([3.06059769]), array([2.83960055]), array([1.98965382])]\n",
            "[array([26.72337337]), array([-0.25933331]), array([0.94549616]), array([-2.08586502]), array([-3.47515423]), array([3.06604608]), array([2.84390564]), array([1.98677705])]\n",
            "value of theta_0 at iteration 120 is:  [26.72337337]\n",
            "value of theta_1 at iteration 120 is:  [-0.25933331]\n",
            "value of theta_2 at iteration 120 is:  [0.94549616]\n",
            "value of theta_3 at iteration 120 is:  [-2.08586502]\n",
            "value of theta_4 at iteration 120 is:  [-3.47515423]\n",
            "value of theta_5 at iteration 120 is:  [3.06604608]\n",
            "value of theta_6 at iteration 120 is:  [2.84390564]\n",
            "value of theta_7 at iteration 120 is:  [1.98677705] \n",
            "\n",
            "[array([26.83594157]), array([-0.26042438]), array([0.9498105]), array([-2.09508732]), array([-3.48072074]), array([3.07140376]), array([2.84812535]), array([1.98383834])]\n",
            "[array([26.94738409]), array([-0.26150543]), array([0.95408298]), array([-2.10422346]), array([-3.48619848]), array([3.0766728]), array([2.85226169]), array([1.98083981])]\n",
            "[array([27.05771218]), array([-0.26257657]), array([0.95831396]), array([-2.11327426]), array([-3.49158983]), array([3.08185522]), array([2.85631664]), array([1.97778357])]\n",
            "[array([27.16693699]), array([-0.26363792]), array([0.96250379]), array([-2.12224053]), array([-3.49689711]), array([3.08695299]), array([2.86029211]), array([1.97467162])]\n",
            "[array([27.27506955]), array([-0.26468957]), array([0.96665286]), array([-2.13112306]), array([-3.50212261]), array([3.09196803]), array([2.86418997]), array([1.97150595])]\n",
            "[array([27.38212079]), array([-0.26573163]), array([0.97076151]), array([-2.13992265]), array([-3.5072685]), array([3.09690222]), array([2.86801203]), array([1.96828846])]\n",
            "[array([27.48810152]), array([-0.2667642]), array([0.97483011]), array([-2.14864007]), array([-3.51233696]), array([3.10175737]), array([2.87176007]), array([1.96502101])]\n",
            "[array([27.59302243]), array([-0.26778738]), array([0.97885901]), array([-2.1572761]), array([-3.51733004]), array([3.10653525]), array([2.87543582]), array([1.96170542])]\n",
            "[array([27.69689414]), array([-0.26880126]), array([0.98284857]), array([-2.16583151]), array([-3.5222498]), array([3.11123761]), array([2.87904094]), array([1.95834344])]\n",
            "[array([27.79972713]), array([-0.26980595]), array([0.98679914]), array([-2.17430707]), array([-3.5270982]), array([3.11586611]), array([2.88257709]), array([1.95493678])]\n",
            "value of theta_0 at iteration 130 is:  [27.79972713]\n",
            "value of theta_1 at iteration 130 is:  [-0.26980595]\n",
            "value of theta_2 at iteration 130 is:  [0.98679914]\n",
            "value of theta_3 at iteration 130 is:  [-2.17430707]\n",
            "value of theta_4 at iteration 130 is:  [-3.5270982]\n",
            "value of theta_5 at iteration 130 is:  [3.11586611]\n",
            "value of theta_6 at iteration 130 is:  [2.88257709]\n",
            "value of theta_7 at iteration 130 is:  [1.95493678] \n",
            "\n",
            "[array([27.90153179]), array([-0.27080154]), array([0.99071106]), array([-2.18270353]), array([-3.53187717]), array([3.1204224]), array([2.88604586]), array([1.9514871])]\n",
            "[array([28.00231841]), array([-0.27178813]), array([0.9945847]), array([-2.19102163]), array([-3.53658857]), array([3.12490809]), array([2.8894488]), array([1.94799603])]\n",
            "[array([28.10209716]), array([-0.27276581]), array([0.99842038]), array([-2.19926211]), array([-3.54123423]), array([3.12932472]), array([2.89278742]), array([1.94446512])]\n",
            "[array([28.20087812]), array([-0.27373467]), array([1.00221847]), array([-2.20742572]), array([-3.54581592]), array([3.13367381]), array([2.8960632]), array([1.94089592])]\n",
            "[array([28.29867127]), array([-0.2746948]), array([1.00597928]), array([-2.21551317]), array([-3.55033535]), array([3.13795685]), array([2.89927758]), array([1.9372899])]\n",
            "[array([28.39548649]), array([-0.2756463]), array([1.00970318]), array([-2.22352519]), array([-3.5547942]), array([3.14217527]), array([2.90243195]), array([1.9336485])]\n",
            "[array([28.49133355]), array([-0.27658925]), array([1.01339048]), array([-2.23146248]), array([-3.55919412]), array([3.14633048]), array([2.90552769]), array([1.92997314])]\n",
            "[array([28.58622215]), array([-0.27752375]), array([1.01704153]), array([-2.23932576]), array([-3.56353667]), array([3.15042385]), array([2.90856611]), array([1.92626516])]\n",
            "[array([28.68016186]), array([-0.27844988]), array([1.02065665]), array([-2.24711572]), array([-3.56782341]), array([3.1544567]), array([2.91154852]), array([1.9225259])]\n",
            "[array([28.77316218]), array([-0.27936773]), array([1.02423617]), array([-2.25483307]), array([-3.57205583]), array([3.15843034]), array([2.91447617]), array([1.91875665])]\n",
            "value of theta_0 at iteration 140 is:  [28.77316218]\n",
            "value of theta_1 at iteration 140 is:  [-0.27936773]\n",
            "value of theta_2 at iteration 140 is:  [1.02423617]\n",
            "value of theta_3 at iteration 140 is:  [-2.25483307]\n",
            "value of theta_4 at iteration 140 is:  [-3.57205583]\n",
            "value of theta_5 at iteration 140 is:  [3.15843034]\n",
            "value of theta_6 at iteration 140 is:  [2.91447617]\n",
            "value of theta_7 at iteration 140 is:  [1.91875665] \n",
            "\n",
            "[array([28.86523249]), array([-0.28027738]), array([1.02778043]), array([-2.26247847]), array([-3.5762354]), array([3.16234604]), array([2.9173503]), array([1.91495865])]\n",
            "[array([28.95638209]), array([-0.28117891]), array([1.03128975]), array([-2.27005262]), array([-3.58036354]), array([3.16620502]), array([2.9201721]), array([1.91113313])]\n",
            "[array([29.04662021]), array([-0.28207242]), array([1.03476444]), array([-2.27755619]), array([-3.58444164]), array([3.17000849]), array([2.92294273]), array([1.90728125])]\n",
            "[array([29.13595594]), array([-0.28295798]), array([1.03820483]), array([-2.28498984]), array([-3.58847103]), array([3.17375761]), array([2.92566335]), array([1.90340418])]\n",
            "[array([29.22439831]), array([-0.28383567]), array([1.04161123]), array([-2.29235424]), array([-3.59245303]), array([3.17745354]), array([2.92833505]), array([1.89950303])]\n",
            "[array([29.31195626]), array([-0.28470557]), array([1.04498397]), array([-2.29965004]), array([-3.59638891]), array([3.18109739]), array([2.93095892]), array([1.89557888])]\n",
            "[array([29.39863863]), array([-0.28556777]), array([1.04832334]), array([-2.30687789]), array([-3.60027992]), array([3.18469023]), array([2.933536]), array([1.89163279])]\n",
            "[array([29.48445417]), array([-0.28642234]), array([1.05162967]), array([-2.31403844]), array([-3.60412725]), array([3.18823314]), array([2.93606733]), array([1.88766578])]\n",
            "[array([29.56941156]), array([-0.28726937]), array([1.05490327]), array([-2.32113231]), array([-3.60793207]), array([3.19172712]), array([2.9385539]), array([1.88367884])]\n",
            "[array([29.65351938]), array([-0.28810892]), array([1.05814443]), array([-2.32816014]), array([-3.61169554]), array([3.1951732]), array([2.94099668]), array([1.87967294])]\n",
            "value of theta_0 at iteration 150 is:  [29.65351938]\n",
            "value of theta_1 at iteration 150 is:  [-0.28810892]\n",
            "value of theta_2 at iteration 150 is:  [1.05814443]\n",
            "value of theta_3 at iteration 150 is:  [-2.32816014]\n",
            "value of theta_4 at iteration 150 is:  [-3.61169554]\n",
            "value of theta_5 at iteration 150 is:  [3.1951732]\n",
            "value of theta_6 at iteration 150 is:  [2.94099668]\n",
            "value of theta_7 at iteration 150 is:  [1.87967294] \n",
            "\n",
            "[array([29.73678612]), array([-0.28894107]), array([1.06135345]), array([-2.33512255]), array([-3.61541876]), array([3.19857236]), array([2.94339664]), array([1.87564902])]\n",
            "[array([29.81922019]), array([-0.28976589]), array([1.06453065]), array([-2.34202017]), array([-3.61910281]), array([3.20192553]), array([2.94575468]), array([1.87160799])]\n",
            "[array([29.90082992]), array([-0.29058347]), array([1.06767632]), array([-2.3488536]), array([-3.62274874]), array([3.20523367]), array([2.94807172]), array([1.86755074])]\n",
            "[array([29.98162355]), array([-0.29139388]), array([1.07079076]), array([-2.35562346]), array([-3.62635757]), array([3.20849766]), array([2.95034863]), array([1.86347813])]\n",
            "[array([30.06160925]), array([-0.29219718]), array([1.07387426]), array([-2.36233033]), array([-3.6299303]), array([3.2117184]), array([2.95258628]), array([1.85939098])]\n",
            "[array([30.14079509]), array([-0.29299345]), array([1.07692711]), array([-2.36897483]), array([-3.6334679]), array([3.21489676]), array([2.95478549]), array([1.85529013])]\n",
            "[array([30.21918907]), array([-0.29378276]), array([1.0799496]), array([-2.37555753]), array([-3.63697129]), array([3.21803356]), array([2.95694708]), array([1.85117634])]\n",
            "[array([30.29679911]), array([-0.29456518]), array([1.08294202]), array([-2.38207903]), array([-3.64044141]), array([3.22112964]), array([2.95907184]), array([1.84705039])]\n",
            "[array([30.37363306]), array([-0.29534078]), array([1.08590465]), array([-2.38853989]), array([-3.64387914]), array([3.22418579]), array([2.96116056]), array([1.84291302])]\n",
            "[array([30.44969866]), array([-0.29610962]), array([1.08883779]), array([-2.39494071]), array([-3.64728535]), array([3.22720278]), array([2.96321397]), array([1.83876495])]\n",
            "value of theta_0 at iteration 160 is:  [30.44969866]\n",
            "value of theta_1 at iteration 160 is:  [-0.29610962]\n",
            "value of theta_2 at iteration 160 is:  [1.08883779]\n",
            "value of theta_3 at iteration 160 is:  [-2.39494071]\n",
            "value of theta_4 at iteration 160 is:  [-3.64728535]\n",
            "value of theta_5 at iteration 160 is:  [3.22720278]\n",
            "value of theta_6 at iteration 160 is:  [2.96321397]\n",
            "value of theta_7 at iteration 160 is:  [1.83876495] \n",
            "\n",
            "[array([30.5250036]), array([-0.29687178]), array([1.09174169]), array([-2.40128203]), array([-3.65066088]), array([3.23018139]), array([2.96523283]), array([1.83460688])]\n",
            "[array([30.5995555]), array([-0.29762732]), array([1.09461666]), array([-2.40756443]), array([-3.65400654]), array([3.23312234]), array([2.96721784]), array([1.83043949])]\n",
            "[array([30.67336188]), array([-0.29837631]), array([1.09746295]), array([-2.41378846]), array([-3.65732315]), array([3.23602637]), array([2.96916971]), array([1.82626345])]\n",
            "[array([30.74643019]), array([-0.29911881]), array([1.10028085]), array([-2.41995468]), array([-3.66061146]), array([3.23889418]), array([2.97108911]), array([1.82207939])]\n",
            "[array([30.81876782]), array([-0.29985489]), array([1.10307062]), array([-2.42606362]), array([-3.66387224]), array([3.24172646]), array([2.97297672]), array([1.81788793])]\n",
            "[array([30.89038208]), array([-0.30058462]), array([1.10583254]), array([-2.43211584]), array([-3.66710622]), array([3.24452388]), array([2.97483318]), array([1.81368968])]\n",
            "[array([30.96128019]), array([-0.30130804]), array([1.10856687]), array([-2.43811187]), array([-3.67031411]), array([3.24728708]), array([2.97665912]), array([1.80948523])]\n",
            "[array([31.03146932]), array([-0.30202524]), array([1.11127387]), array([-2.44405223]), array([-3.67349661]), array([3.25001672]), array([2.97845516]), array([1.80527514])]\n",
            "[array([31.10095656]), array([-0.30273626]), array([1.11395382]), array([-2.44993746]), array([-3.6766544]), array([3.25271341]), array([2.9802219]), array([1.80105997])]\n",
            "[array([31.16974892]), array([-0.30344117]), array([1.11660696]), array([-2.45576807]), array([-3.67978812]), array([3.25537776]), array([2.98195993]), array([1.79684025])]\n",
            "value of theta_0 at iteration 170 is:  [31.16974892]\n",
            "value of theta_1 at iteration 170 is:  [-0.30344117]\n",
            "value of theta_2 at iteration 170 is:  [1.11660696]\n",
            "value of theta_3 at iteration 170 is:  [-2.45576807]\n",
            "value of theta_4 at iteration 170 is:  [-3.67978812]\n",
            "value of theta_5 at iteration 170 is:  [3.25537776]\n",
            "value of theta_6 at iteration 170 is:  [2.98195993]\n",
            "value of theta_7 at iteration 170 is:  [1.79684025] \n",
            "\n",
            "[array([31.23785337]), array([-0.30414004]), array([1.11923356]), array([-2.46154459]), array([-3.68289842]), array([3.25801037]), array([2.98366981]), array([1.79261649])]\n",
            "[array([31.30527677]), array([-0.30483291]), array([1.12183388]), array([-2.46726752]), array([-3.68598592]), array([3.2606118]), array([2.98535212]), array([1.78838922])]\n",
            "[array([31.37202593]), array([-0.30551985]), array([1.12440816]), array([-2.47293737]), array([-3.68905122]), array([3.26318263]), array([2.98700739]), array([1.7841589])]\n",
            "[array([31.4381076]), array([-0.30620093]), array([1.12695665]), array([-2.47855465]), array([-3.69209491]), array([3.26572341]), array([2.98863615]), array([1.77992602])]\n",
            "[array([31.50352846]), array([-0.30687618]), array([1.12947962]), array([-2.48411984]), array([-3.69511757]), array([3.26823467]), array([2.99023892]), array([1.77569104])]\n",
            "[array([31.56829511]), array([-0.30754569]), array([1.1319773]), array([-2.48963344]), array([-3.69811974]), array([3.27071693]), array([2.99181621]), array([1.7714544])]\n",
            "[array([31.63241409]), array([-0.30820949]), array([1.13444994]), array([-2.49509594]), array([-3.70110198]), array([3.27317072]), array([2.9933685]), array([1.76721654])]\n",
            "[array([31.69589188]), array([-0.30886765]), array([1.13689779]), array([-2.50050782]), array([-3.7040648]), array([3.27559652]), array([2.99489629]), array([1.76297787])]\n",
            "[array([31.75873489]), array([-0.30952022]), array([1.13932107]), array([-2.50586956]), array([-3.70700871]), array([3.27799483]), array([2.99640003]), array([1.7587388])]\n",
            "[array([31.82094948]), array([-0.31016725]), array([1.14172005]), array([-2.51118163]), array([-3.70993422]), array([3.28036612]), array([2.99788019]), array([1.75449973])]\n",
            "value of theta_0 at iteration 180 is:  [31.82094948]\n",
            "value of theta_1 at iteration 180 is:  [-0.31016725]\n",
            "value of theta_2 at iteration 180 is:  [1.14172005]\n",
            "value of theta_3 at iteration 180 is:  [-2.51118163]\n",
            "value of theta_4 at iteration 180 is:  [-3.70993422]\n",
            "value of theta_5 at iteration 180 is:  [3.28036612]\n",
            "value of theta_6 at iteration 180 is:  [2.99788019]\n",
            "value of theta_7 at iteration 180 is:  [1.75449973] \n",
            "\n",
            "[array([31.88254191]), array([-0.31080881]), array([1.14409494]), array([-2.5164445]), array([-3.7128418]), array([3.28271085]), array([2.99933722]), array([1.75026104])]\n",
            "[array([31.94351843]), array([-0.31144494]), array([1.14644598]), array([-2.52165864]), array([-3.71573193]), array([3.28502948]), array([3.00077154]), array([1.74602309])]\n",
            "[array([32.00388518]), array([-0.31207569]), array([1.14877342]), array([-2.5268245]), array([-3.71860506]), array([3.28732245]), array([3.00218359]), array([1.74178625])]\n",
            "[array([32.06364826]), array([-0.31270113]), array([1.15107747]), array([-2.53194254]), array([-3.72146164]), array([3.2895902]), array([3.00357378]), array([1.73755086])]\n",
            "[array([32.12281371]), array([-0.31332129]), array([1.15335836]), array([-2.53701322]), array([-3.7243021]), array([3.29183314]), array([3.00494251]), array([1.73331726])]\n",
            "[array([32.1813875]), array([-0.31393624]), array([1.15561633]), array([-2.54203698]), array([-3.72712686]), array([3.29405168]), array([3.00629018]), array([1.72908578])]\n",
            "[array([32.23937556]), array([-0.31454603]), array([1.1578516]), array([-2.54701427]), array([-3.72993634]), array([3.29624624]), array([3.00761718]), array([1.72485673])]\n",
            "[array([32.29678374]), array([-0.31515069]), array([1.16006439]), array([-2.55194551]), array([-3.73273092]), array([3.29841719]), array([3.00892389]), array([1.72063041])]\n",
            "[array([32.35361783]), array([-0.31575029]), array([1.16225492]), array([-2.55683115]), array([-3.73551099]), array([3.30056493]), array([3.01021066]), array([1.71640714])]\n",
            "[array([32.40988358]), array([-0.31634488]), array([1.16442341]), array([-2.56167162]), array([-3.73827693]), array([3.30268983]), array([3.01147786]), array([1.71218718])]\n",
            "value of theta_0 at iteration 190 is:  [32.40988358]\n",
            "value of theta_1 at iteration 190 is:  [-0.31634488]\n",
            "value of theta_2 at iteration 190 is:  [1.16442341]\n",
            "value of theta_3 at iteration 190 is:  [-2.56167162]\n",
            "value of theta_4 at iteration 190 is:  [-3.73827693]\n",
            "value of theta_5 at iteration 190 is:  [3.30268983]\n",
            "value of theta_6 at iteration 190 is:  [3.01147786]\n",
            "value of theta_7 at iteration 190 is:  [1.71218718] \n",
            "\n",
            "[array([32.46558668]), array([-0.31693449]), array([1.16657008]), array([-2.56646734]), array([-3.74102911]), array([3.30479226]), array([3.01272585]), array([1.70797082])]\n",
            "[array([32.52073275]), array([-0.31751918]), array([1.16869513]), array([-2.57121874]), array([-3.74376787]), array([3.30687257]), array([3.01395496]), array([1.70375833])]\n",
            "[array([32.57532735]), array([-0.318099]), array([1.1707988]), array([-2.57592623]), array([-3.74649357]), array([3.30893111]), array([3.01516552]), array([1.69954996])]\n",
            "[array([32.62937601]), array([-0.318674]), array([1.17288127]), array([-2.58059023]), array([-3.74920655]), array([3.31096822]), array([3.01635787]), array([1.69534597])]\n",
            "[array([32.68288418]), array([-0.31924421]), array([1.17494277]), array([-2.58521114]), array([-3.75190711]), array([3.31298424]), array([3.01753233]), array([1.69114661])]\n",
            "[array([32.73585727]), array([-0.3198097]), array([1.17698351]), array([-2.58978938]), array([-3.7545956]), array([3.31497949]), array([3.01868919]), array([1.6869521])]\n",
            "[array([32.78830063]), array([-0.32037049]), array([1.17900368]), array([-2.59432535]), array([-3.7572723]), array([3.31695429]), array([3.01982878]), array([1.68276267])]\n",
            "[array([32.84021956]), array([-0.32092665]), array([1.18100348]), array([-2.59881944]), array([-3.75993753]), array([3.31890896]), array([3.02095137]), array([1.67857855])]\n",
            "[array([32.8916193]), array([-0.3214782]), array([1.18298314]), array([-2.60327205]), array([-3.76259157]), array([3.32084378]), array([3.02205728]), array([1.67439995])]\n",
            "[array([32.94250504]), array([-0.3220252]), array([1.18494283]), array([-2.60768358]), array([-3.76523471]), array([3.32275907]), array([3.02314677]), array([1.67022707])]\n",
            "value of theta_0 at iteration 200 is:  [32.94250504]\n",
            "value of theta_1 at iteration 200 is:  [-0.3220252]\n",
            "value of theta_2 at iteration 200 is:  [1.18494283]\n",
            "value of theta_3 at iteration 200 is:  [-2.60768358]\n",
            "value of theta_4 at iteration 200 is:  [-3.76523471]\n",
            "value of theta_5 at iteration 200 is:  [3.32275907]\n",
            "value of theta_6 at iteration 200 is:  [3.02314677]\n",
            "value of theta_7 at iteration 200 is:  [1.67022707] \n",
            "\n",
            "[array([32.99288192]), array([-0.3225677]), array([1.18688276]), array([-2.6120544]), array([-3.76786723]), array([3.32465512]), array([3.02422013]), array([1.66606011])]\n",
            "[array([33.04275503]), array([-0.32310573]), array([1.18880313]), array([-2.6163849]), array([-3.77048938]), array([3.3265322]), array([3.02527762]), array([1.66189926])]\n",
            "[array([33.09212941]), array([-0.32363933]), array([1.19070412]), array([-2.62067547]), array([-3.77310143]), array([3.32839059]), array([3.02631951]), array([1.65774471])]\n",
            "[array([33.14101005]), array([-0.32416855]), array([1.19258594]), array([-2.62492647]), array([-3.77570364]), array([3.33023057]), array([3.02734606]), array([1.65359663])]\n",
            "[array([33.18940188]), array([-0.32469344]), array([1.19444878]), array([-2.62913828]), array([-3.77829624]), array([3.3320524]), array([3.02835752]), array([1.6494552])]\n",
            "[array([33.2373098]), array([-0.32521403]), array([1.19629281]), array([-2.63331128]), array([-3.78087948]), array([3.33385634]), array([3.02935414]), array([1.64532059])]\n",
            "[array([33.28473863]), array([-0.32573036]), array([1.19811824]), array([-2.63744582]), array([-3.7834536]), array([3.33564264]), array([3.03033615]), array([1.64119295])]\n",
            "[array([33.33169318]), array([-0.32624247]), array([1.19992524]), array([-2.64154227]), array([-3.78601881]), array([3.33741156]), array([3.0313038]), array([1.63707245])]\n",
            "[array([33.37817818]), array([-0.32675042]), array([1.201714]), array([-2.64560098]), array([-3.78857533]), array([3.33916333]), array([3.03225731]), array([1.63295922])]\n",
            "[array([33.42419833]), array([-0.32725422]), array([1.2034847]), array([-2.64962232]), array([-3.79112338]), array([3.34089819]), array([3.03319691]), array([1.62885342])]\n",
            "value of theta_0 at iteration 210 is:  [33.42419833]\n",
            "value of theta_1 at iteration 210 is:  [-0.32725422]\n",
            "value of theta_2 at iteration 210 is:  [1.2034847]\n",
            "value of theta_3 at iteration 210 is:  [-2.64962232]\n",
            "value of theta_4 at iteration 210 is:  [-3.79112338]\n",
            "value of theta_5 at iteration 210 is:  [3.34089819]\n",
            "value of theta_6 at iteration 210 is:  [3.03319691]\n",
            "value of theta_7 at iteration 210 is:  [1.62885342] \n",
            "\n",
            "[array([33.46975828]), array([-0.32775393]), array([1.20523752]), array([-2.65360663]), array([-3.79366317]), array([3.34261638]), array([3.03412282]), array([1.62475518])]\n",
            "[array([33.51486263]), array([-0.32824959]), array([1.20697264]), array([-2.65755426]), array([-3.79619489]), array([3.34431811]), array([3.03503525]), array([1.62066463])]\n",
            "[array([33.55951593]), array([-0.32874122]), array([1.20869024]), array([-2.66146556]), array([-3.79871874]), array([3.34600363]), array([3.03593441]), array([1.61658191])]\n",
            "[array([33.60372271]), array([-0.32922888]), array([1.21039049]), array([-2.66534086]), array([-3.80123491]), array([3.34767313]), array([3.03682052]), array([1.61250714])]\n",
            "[array([33.64748741]), array([-0.32971259]), array([1.21207357]), array([-2.66918052]), array([-3.80374359]), array([3.34932684]), array([3.03769377]), array([1.60844043])]\n",
            "[array([33.69081447]), array([-0.3301924]), array([1.21373965]), array([-2.67298486]), array([-3.80624496]), array([3.35096497]), array([3.03855435]), array([1.6043819])]\n",
            "[array([33.73370826]), array([-0.33066834]), array([1.21538889]), array([-2.67675421]), array([-3.80873918]), array([3.35258771]), array([3.03940247]), array([1.60033167])]\n",
            "[array([33.77617311]), array([-0.33114046]), array([1.21702148]), array([-2.68048891]), array([-3.81122644]), array([3.35419526]), array([3.0402383]), array([1.59628984])]\n",
            "[array([33.81821331]), array([-0.33160877]), array([1.21863757]), array([-2.68418928]), array([-3.81370688]), array([3.35578783]), array([3.04106203]), array([1.5922565])]\n",
            "[array([33.85983311]), array([-0.33207333]), array([1.22023733]), array([-2.68785565]), array([-3.81618068]), array([3.35736561]), array([3.04187385]), array([1.58823176])]\n",
            "value of theta_0 at iteration 220 is:  [33.85983311]\n",
            "value of theta_1 at iteration 220 is:  [-0.33207333]\n",
            "value of theta_2 at iteration 220 is:  [1.22023733]\n",
            "value of theta_3 at iteration 220 is:  [-2.68785565]\n",
            "value of theta_4 at iteration 220 is:  [-3.81618068]\n",
            "value of theta_5 at iteration 220 is:  [3.35736561]\n",
            "value of theta_6 at iteration 220 is:  [3.04187385]\n",
            "value of theta_7 at iteration 220 is:  [1.58823176] \n",
            "\n",
            "[array([33.90103671]), array([-0.33253417]), array([1.22182093]), array([-2.69148832]), array([-3.81864798]), array([3.35892877]), array([3.04267393]), array([1.58421571])]\n",
            "[array([33.94182827]), array([-0.33299132]), array([1.22338852]), array([-2.69508763]), array([-3.82110894]), array([3.36047751]), array([3.04346244]), array([1.58020843])]\n",
            "[array([33.98221192]), array([-0.33344482]), array([1.22494028]), array([-2.69865387]), array([-3.8235637]), array([3.36201201]), array([3.04423955]), array([1.57621003])]\n",
            "[array([34.02219174]), array([-0.3338947]), array([1.22647635]), array([-2.70218737]), array([-3.82601241]), array([3.36353244]), array([3.04500542]), array([1.57222057])]\n",
            "[array([34.06177175]), array([-0.33434099]), array([1.22799691]), array([-2.70568844]), array([-3.82845521]), array([3.36503897]), array([3.04576022]), array([1.56824014])]\n",
            "[array([34.10095597]), array([-0.33478374]), array([1.22950209]), array([-2.70915737]), array([-3.83089222]), array([3.36653178]), array([3.04650411]), array([1.5642688])]\n",
            "[array([34.13974834]), array([-0.33522296]), array([1.23099207]), array([-2.71259446]), array([-3.83332358]), array([3.36801102]), array([3.04723724]), array([1.56030665])]\n",
            "[array([34.17815279]), array([-0.33565871]), array([1.23246699]), array([-2.71600002]), array([-3.83574941]), array([3.36947687]), array([3.04795976]), array([1.55635373])]\n",
            "[array([34.21617319]), array([-0.336091]), array([1.233927]), array([-2.71937435]), array([-3.83816984]), array([3.37092947]), array([3.04867182]), array([1.55241013])]\n",
            "[array([34.25381339]), array([-0.33651988]), array([1.23537226]), array([-2.72271773]), array([-3.84058499]), array([3.37236899]), array([3.04937357]), array([1.54847589])]\n",
            "value of theta_0 at iteration 230 is:  [34.25381339]\n",
            "value of theta_1 at iteration 230 is:  [-0.33651988]\n",
            "value of theta_2 at iteration 230 is:  [1.23537226]\n",
            "value of theta_3 at iteration 230 is:  [-2.72271773]\n",
            "value of theta_4 at iteration 230 is:  [-3.84058499]\n",
            "value of theta_5 at iteration 230 is:  [3.37236899]\n",
            "value of theta_6 at iteration 230 is:  [3.04937357]\n",
            "value of theta_7 at iteration 230 is:  [1.54847589] \n",
            "\n",
            "[array([34.29107719]), array([-0.33694537]), array([1.23680291]), array([-2.72603046]), array([-3.84299497]), array([3.37379558]), array([3.05006514]), array([1.54455108])]\n",
            "[array([34.32796835]), array([-0.33736751]), array([1.2382191]), array([-2.72931282]), array([-3.84539989]), array([3.37520939]), array([3.05074669]), array([1.54063576])]\n",
            "[array([34.3644906]), array([-0.33778632]), array([1.23962099]), array([-2.7325651]), array([-3.84779986]), array([3.37661057]), array([3.05141834]), array([1.53672998])]\n",
            "[array([34.40064763]), array([-0.33820184]), array([1.24100871]), array([-2.73578758]), array([-3.85019499]), array([3.37799926]), array([3.05208022]), array([1.5328338])]\n",
            "[array([34.43644308]), array([-0.3386141]), array([1.2423824]), array([-2.73898055]), array([-3.85258538]), array([3.3793756]), array([3.05273248]), array([1.52894725])]\n",
            "[array([34.47188058]), array([-0.33902314]), array([1.24374222]), array([-2.74214427]), array([-3.85497113]), array([3.38073972]), array([3.05337524]), array([1.52507039])]\n",
            "[array([34.50696371]), array([-0.33942897]), array([1.2450883]), array([-2.74527902]), array([-3.85735234]), array([3.38209178]), array([3.05400862]), array([1.52120326])]\n",
            "[array([34.54169601]), array([-0.33983163]), array([1.24642078]), array([-2.74838507]), array([-3.8597291]), array([3.38343189]), array([3.05463275]), array([1.5173459])]\n",
            "[array([34.57608098]), array([-0.34023115]), array([1.24773979]), array([-2.7514627]), array([-3.8621015]), array([3.3847602]), array([3.05524774]), array([1.51349835])]\n",
            "[array([34.6101221]), array([-0.34062756]), array([1.24904549]), array([-2.75451217]), array([-3.86446963]), array([3.38607682]), array([3.05585373]), array([1.50966065])]\n",
            "value of theta_0 at iteration 240 is:  [34.6101221]\n",
            "value of theta_1 at iteration 240 is:  [-0.34062756]\n",
            "value of theta_2 at iteration 240 is:  [1.24904549]\n",
            "value of theta_3 at iteration 240 is:  [-2.75451217]\n",
            "value of theta_4 at iteration 240 is:  [-3.86446963]\n",
            "value of theta_5 at iteration 240 is:  [3.38607682]\n",
            "value of theta_6 at iteration 240 is:  [3.05585373]\n",
            "value of theta_7 at iteration 240 is:  [1.50966065] \n",
            "\n",
            "[array([34.64382281]), array([-0.34102089]), array([1.25033799]), array([-2.75753374]), array([-3.86683358]), array([3.38738189]), array([3.05645082]), array([1.50583283])]\n",
            "[array([34.67718652]), array([-0.34141117]), array([1.25161744]), array([-2.76052767]), array([-3.86919342]), array([3.38867553]), array([3.05703912]), array([1.50201492])]\n",
            "[array([34.71021658]), array([-0.34179843]), array([1.25288397]), array([-2.76349422]), array([-3.87154924]), array([3.38995786]), array([3.05761876]), array([1.49820695])]\n",
            "[array([34.74291635]), array([-0.34218268]), array([1.2541377]), array([-2.76643366]), array([-3.87390112]), array([3.391229]), array([3.05818984]), array([1.49440895])]\n",
            "[array([34.77528912]), array([-0.34256397]), array([1.25537878]), array([-2.76934623]), array([-3.87624914]), array([3.39248906]), array([3.05875246]), array([1.49062095])]\n",
            "[array([34.80733816]), array([-0.34294232]), array([1.25660733]), array([-2.77223218]), array([-3.87859336]), array([3.39373817]), array([3.05930673]), array([1.48684296])]\n",
            "[array([34.83906671]), array([-0.34331776]), array([1.25782347]), array([-2.77509176]), array([-3.88093386]), array([3.39497643]), array([3.05985276]), array([1.48307502])]\n",
            "[array([34.87047798]), array([-0.34369031]), array([1.25902734]), array([-2.77792523]), array([-3.8832707]), array([3.39620396]), array([3.06039064]), array([1.47931714])]\n",
            "[array([34.90157513]), array([-0.34406]), array([1.26021906]), array([-2.78073282]), array([-3.88560396]), array([3.39742086]), array([3.06092049]), array([1.47556935])]\n",
            "[array([34.93236131]), array([-0.34442685]), array([1.26139875]), array([-2.78351478]), array([-3.8879337]), array([3.39862724]), array([3.06144238]), array([1.47183165])]\n",
            "value of theta_0 at iteration 250 is:  [34.93236131]\n",
            "value of theta_1 at iteration 250 is:  [-0.34442685]\n",
            "value of theta_2 at iteration 250 is:  [1.26139875]\n",
            "value of theta_3 at iteration 250 is:  [-2.78351478]\n",
            "value of theta_4 at iteration 250 is:  [-3.8879337]\n",
            "value of theta_5 at iteration 250 is:  [3.39862724]\n",
            "value of theta_6 at iteration 250 is:  [3.06144238]\n",
            "value of theta_7 at iteration 250 is:  [1.47183165] \n",
            "\n",
            "[array([34.96283963]), array([-0.34479091]), array([1.26256654]), array([-2.78627134]), array([-3.89025998]), array([3.39982321]), array([3.06195643]), array([1.46810406])]\n",
            "[array([34.99301317]), array([-0.34515218]), array([1.26372254]), array([-2.78900275]), array([-3.89258286]), array([3.40100887]), array([3.06246272]), array([1.4643866])]\n",
            "[array([35.02288497]), array([-0.34551069]), array([1.26486689]), array([-2.79170924]), array([-3.89490241]), array([3.40218431]), array([3.06296134]), array([1.46067928])]\n",
            "[array([35.05245805]), array([-0.34586648]), array([1.26599969]), array([-2.79439104]), array([-3.89721867]), array([3.40334966]), array([3.06345239]), array([1.45698211])]\n",
            "[array([35.0817354]), array([-0.34621957]), array([1.26712107]), array([-2.79704839]), array([-3.89953171]), array([3.40450499]), array([3.06393596]), array([1.4532951])]\n",
            "[array([35.11071998]), array([-0.34656997]), array([1.26823114]), array([-2.7996815]), array([-3.90184158]), array([3.4056504]), array([3.06441213]), array([1.44961826])]\n",
            "[array([35.13941471]), array([-0.34691772]), array([1.26933002]), array([-2.80229062]), array([-3.90414833]), array([3.406786]), array([3.06488099]), array([1.44595159])]\n",
            "[array([35.1678225]), array([-0.34726285]), array([1.27041783]), array([-2.80487595]), array([-3.90645202]), array([3.40791187]), array([3.06534263]), array([1.44229509])]\n",
            "[array([35.1959462]), array([-0.34760537]), array([1.27149467]), array([-2.80743773]), array([-3.90875268]), array([3.4090281]), array([3.06579712]), array([1.43864878])]\n",
            "[array([35.22378867]), array([-0.3479453]), array([1.27256067]), array([-2.80997617]), array([-3.91105037]), array([3.41013479]), array([3.06624455]), array([1.43501265])]\n",
            "value of theta_0 at iteration 260 is:  [35.22378867]\n",
            "value of theta_1 at iteration 260 is:  [-0.3479453]\n",
            "value of theta_2 at iteration 260 is:  [1.27256067]\n",
            "value of theta_3 at iteration 260 is:  [-2.80997617]\n",
            "value of theta_4 at iteration 260 is:  [-3.91105037]\n",
            "value of theta_5 at iteration 260 is:  [3.41013479]\n",
            "value of theta_6 at iteration 260 is:  [3.06624455]\n",
            "value of theta_7 at iteration 260 is:  [1.43501265] \n",
            "\n",
            "[array([35.25135272]), array([-0.34828268]), array([1.27361592]), array([-2.8124915]), array([-3.91334514]), array([3.41123203]), array([3.06668499]), array([1.43138671])]\n",
            "[array([35.27864113]), array([-0.34861753]), array([1.27466055]), array([-2.81498392]), array([-3.91563702]), array([3.4123199]), array([3.06711853]), array([1.42777095])]\n",
            "[array([35.30565665]), array([-0.34894987]), array([1.27569466]), array([-2.81745366]), array([-3.91792607]), array([3.41339848]), array([3.06754524]), array([1.42416538])]\n",
            "[array([35.33240201]), array([-0.34927972]), array([1.27671836]), array([-2.81990092]), array([-3.92021231]), array([3.41446787]), array([3.06796521]), array([1.42056999])]\n",
            "[array([35.35887993]), array([-0.3496071]), array([1.27773175]), array([-2.82232591]), array([-3.9224958]), array([3.41552815]), array([3.06837849]), array([1.41698479])]\n",
            "[array([35.38509306]), array([-0.34993205]), array([1.27873495]), array([-2.82472884]), array([-3.92477658]), array([3.41657939]), array([3.06878517]), array([1.41340975])]\n",
            "[array([35.41104406]), array([-0.35025457]), array([1.27972805]), array([-2.82710992]), array([-3.92705467]), array([3.41762168]), array([3.06918532]), array([1.40984489])]\n",
            "[array([35.43673555]), array([-0.3505747]), array([1.28071117]), array([-2.82946935]), array([-3.92933012]), array([3.4186551]), array([3.06957901]), array([1.40629019])]\n",
            "[array([35.46217013]), array([-0.35089245]), array([1.2816844]), array([-2.83180733]), array([-3.93160296]), array([3.41967972]), array([3.06996631]), array([1.40274564])]\n",
            "[array([35.48735036]), array([-0.35120786]), array([1.28264785]), array([-2.83412406]), array([-3.93387323]), array([3.42069563]), array([3.07034729]), array([1.39921125])]\n",
            "value of theta_0 at iteration 270 is:  [35.48735036]\n",
            "value of theta_1 at iteration 270 is:  [-0.35120786]\n",
            "value of theta_2 at iteration 270 is:  [1.28264785]\n",
            "value of theta_3 at iteration 270 is:  [-2.83412406]\n",
            "value of theta_4 at iteration 270 is:  [-3.93387323]\n",
            "value of theta_5 at iteration 270 is:  [3.42069563]\n",
            "value of theta_6 at iteration 270 is:  [3.07034729]\n",
            "value of theta_7 at iteration 270 is:  [1.39921125] \n",
            "\n",
            "[array([35.51227879]), array([-0.35152093]), array([1.28360161]), array([-2.83641974]), array([-3.93614095]), array([3.4217029]), array([3.07072201]), array([1.39568699])]\n",
            "[array([35.53695793]), array([-0.35183169]), array([1.28454579]), array([-2.83869457]), array([-3.93840617]), array([3.4227016]), array([3.07109054]), array([1.39217287])]\n",
            "[array([35.56139029]), array([-0.35214016]), array([1.28548049]), array([-2.84094873]), array([-3.9406689]), array([3.42369181]), array([3.07145295]), array([1.38866886])]\n",
            "[array([35.58557832]), array([-0.35244636]), array([1.2864058]), array([-2.84318243]), array([-3.94292919]), array([3.42467359]), array([3.0718093]), array([1.38517496])]\n",
            "[array([35.60952446]), array([-0.35275032]), array([1.28732182]), array([-2.84539585]), array([-3.94518706]), array([3.42564703]), array([3.07215965]), array([1.38169116])]\n",
            "[array([35.63323115]), array([-0.35305205]), array([1.28822865]), array([-2.84758919]), array([-3.94744254]), array([3.42661219]), array([3.07250407]), array([1.37821744])]\n",
            "[array([35.65670077]), array([-0.35335158]), array([1.28912639]), array([-2.84976262]), array([-3.94969565]), array([3.42756915]), array([3.07284262]), array([1.37475379])]\n",
            "[array([35.6799357]), array([-0.35364891]), array([1.29001511]), array([-2.85191633]), array([-3.95194642]), array([3.42851796]), array([3.07317535]), array([1.37130019])]\n",
            "[array([35.70293827]), array([-0.35394409]), array([1.29089493]), array([-2.85405051]), array([-3.95419487]), array([3.4294587]), array([3.07350233]), array([1.36785664])]\n",
            "[array([35.72571082]), array([-0.35423711]), array([1.29176593]), array([-2.85616534]), array([-3.95644104]), array([3.43039144]), array([3.07382361]), array([1.3644231])]\n",
            "value of theta_0 at iteration 280 is:  [35.72571082]\n",
            "value of theta_1 at iteration 280 is:  [-0.35423711]\n",
            "value of theta_2 at iteration 280 is:  [1.29176593]\n",
            "value of theta_3 at iteration 280 is:  [-2.85616534]\n",
            "value of theta_4 at iteration 280 is:  [-3.95644104]\n",
            "value of theta_5 at iteration 280 is:  [3.43039144]\n",
            "value of theta_6 at iteration 280 is:  [3.07382361]\n",
            "value of theta_7 at iteration 280 is:  [1.3644231] \n",
            "\n",
            "[array([35.74825565]), array([-0.35452801]), array([1.2926282]), array([-2.858261]), array([-3.95868493]), array([3.43131623]), array([3.07413926]), array([1.36099958])]\n",
            "[array([35.77057502]), array([-0.35481681]), array([1.29348184]), array([-2.86033767]), array([-3.96092659]), array([3.43223315]), array([3.07444932]), array([1.35758605])]\n",
            "[array([35.79267121]), array([-0.35510351]), array([1.29432693]), array([-2.86239552]), array([-3.96316602]), array([3.43314226]), array([3.07475386]), array([1.35418249])]\n",
            "[array([35.81454643]), array([-0.35538815]), array([1.29516356]), array([-2.86443473]), array([-3.96540325]), array([3.43404361]), array([3.07505292]), array([1.35078888])]\n",
            "[array([35.83620289]), array([-0.35567073]), array([1.29599182]), array([-2.86645546]), array([-3.96763829]), array([3.43493729]), array([3.07534657]), array([1.34740522])]\n",
            "[array([35.8576428]), array([-0.35595129]), array([1.29681179]), array([-2.86845791]), array([-3.96987117]), array([3.43582333]), array([3.07563486]), array([1.34403147])]\n",
            "[array([35.8788683]), array([-0.35622983]), array([1.29762357]), array([-2.87044222]), array([-3.97210191]), array([3.43670182]), array([3.07591783]), array([1.34066761])]\n",
            "[array([35.89988155]), array([-0.35650638]), array([1.29842723]), array([-2.87240857]), array([-3.97433053]), array([3.43757279]), array([3.07619555]), array([1.33731364])]\n",
            "[array([35.92068467]), array([-0.35678095]), array([1.29922287]), array([-2.87435714]), array([-3.97655703]), array([3.43843633]), array([3.07646806]), array([1.33396952])]\n",
            "[array([35.94127975]), array([-0.35705356]), array([1.30001056]), array([-2.87628807]), array([-3.97878144]), array([3.43929247]), array([3.07673541]), array([1.33063524])]\n",
            "value of theta_0 at iteration 290 is:  [35.94127975]\n",
            "value of theta_1 at iteration 290 is:  [-0.35705356]\n",
            "value of theta_2 at iteration 290 is:  [1.30001056]\n",
            "value of theta_3 at iteration 290 is:  [-2.87628807]\n",
            "value of theta_4 at iteration 290 is:  [-3.97878144]\n",
            "value of theta_5 at iteration 290 is:  [3.43929247]\n",
            "value of theta_6 at iteration 290 is:  [3.07673541]\n",
            "value of theta_7 at iteration 290 is:  [1.33063524] \n",
            "\n",
            "[array([35.96166889]), array([-0.35732423]), array([1.30079039]), array([-2.87820154]), array([-3.98100378]), array([3.44014128]), array([3.07699765]), array([1.32731078])]\n",
            "[array([35.98185413]), array([-0.35759297]), array([1.30156244]), array([-2.88009771]), array([-3.98322405]), array([3.44098282]), array([3.07725483]), array([1.3239961])]\n",
            "[array([36.00183752]), array([-0.35785982]), array([1.30232679]), array([-2.88197674]), array([-3.98544228]), array([3.44181715]), array([3.077507]), array([1.3206912])]\n",
            "[array([36.02162108]), array([-0.35812477]), array([1.30308351]), array([-2.88383879]), array([-3.98765848]), array([3.44264431]), array([3.0777542]), array([1.31739605])]\n",
            "[array([36.0412068]), array([-0.35838785]), array([1.3038327]), array([-2.88568401]), array([-3.98987266]), array([3.44346437]), array([3.07799649]), array([1.31411062])]\n",
            "[array([36.06059667]), array([-0.35864907]), array([1.30457443]), array([-2.88751256]), array([-3.99208483]), array([3.44427737]), array([3.07823391]), array([1.31083489])]\n",
            "[array([36.07979263]), array([-0.35890846]), array([1.30530877]), array([-2.8893246]), array([-3.99429502]), array([3.44508337]), array([3.0784665]), array([1.30756883])]\n",
            "[array([36.09879664]), array([-0.35916603]), array([1.30603581]), array([-2.89112027]), array([-3.99650322]), array([3.44588242]), array([3.07869431]), array([1.30431244])]\n",
            "[array([36.1176106]), array([-0.35942179]), array([1.30675561]), array([-2.89289974]), array([-3.99870945]), array([3.44667458]), array([3.07891738]), array([1.30106567])]\n",
            "[array([36.13623643]), array([-0.35967576]), array([1.30746826]), array([-2.89466314]), array([-4.00091373]), array([3.4474599]), array([3.07913576]), array([1.2978285])]\n",
            "value of theta_0 at iteration 300 is:  [36.13623643]\n",
            "value of theta_1 at iteration 300 is:  [-0.35967576]\n",
            "value of theta_2 at iteration 300 is:  [1.30746826]\n",
            "value of theta_3 at iteration 300 is:  [-2.89466314]\n",
            "value of theta_4 at iteration 300 is:  [-4.00091373]\n",
            "value of theta_5 at iteration 300 is:  [3.4474599]\n",
            "value of theta_6 at iteration 300 is:  [3.07913576]\n",
            "value of theta_7 at iteration 300 is:  [1.2978285] \n",
            "\n",
            "[array([36.154676]), array([-0.35992796]), array([1.30817383]), array([-2.89641063]), array([-4.00311606]), array([3.44823842]), array([3.0793495]), array([1.29460091])]\n",
            "[array([36.17293117]), array([-0.36017841]), array([1.30887239]), array([-2.89814236]), array([-4.00531645]), array([3.4490102]), array([3.07955862]), array([1.29138288])]\n",
            "[array([36.19100379]), array([-0.36042711]), array([1.30956402]), array([-2.89985847]), array([-4.00751492]), array([3.44977529]), array([3.07976318]), array([1.28817437])]\n",
            "[array([36.20889569]), array([-0.36067409]), array([1.31024878]), array([-2.90155911]), array([-4.00971146]), array([3.45053374]), array([3.07996322]), array([1.28497536])]\n",
            "[array([36.22660866]), array([-0.36091936]), array([1.31092676]), array([-2.90324442]), array([-4.0119061]), array([3.45128559]), array([3.08015878]), array([1.28178583])]\n",
            "[array([36.24414451]), array([-0.36116293]), array([1.31159802]), array([-2.90491453]), array([-4.01409884]), array([3.45203089]), array([3.08034989]), array([1.27860575])]\n",
            "[array([36.26150499]), array([-0.36140483]), array([1.31226263]), array([-2.9065696]), array([-4.01628969]), array([3.4527697]), array([3.0805366]), array([1.2754351])]\n",
            "[array([36.27869188]), array([-0.36164506]), array([1.31292066]), array([-2.90820976]), array([-4.01847865]), array([3.45350205]), array([3.08071895]), array([1.27227383])]\n",
            "[array([36.29570689]), array([-0.36188364]), array([1.31357218]), array([-2.90983515]), array([-4.02066573]), array([3.454228]), array([3.08089698]), array([1.26912194])]\n",
            "[array([36.31255175]), array([-0.36212059]), array([1.31421726]), array([-2.9114459]), array([-4.02285095]), array([3.45494758]), array([3.08107072]), array([1.26597939])]\n",
            "value of theta_0 at iteration 310 is:  [36.31255175]\n",
            "value of theta_1 at iteration 310 is:  [-0.36212059]\n",
            "value of theta_2 at iteration 310 is:  [1.31421726]\n",
            "value of theta_3 at iteration 310 is:  [-2.9114459]\n",
            "value of theta_4 at iteration 310 is:  [-4.02285095]\n",
            "value of theta_5 at iteration 310 is:  [3.45494758]\n",
            "value of theta_6 at iteration 310 is:  [3.08107072]\n",
            "value of theta_7 at iteration 310 is:  [1.26597939] \n",
            "\n",
            "[array([36.32922817]), array([-0.36235592]), array([1.31485597]), array([-2.91304215]), array([-4.0250343]), array([3.45566086]), array([3.08124022]), array([1.26284615])]\n",
            "[array([36.34573782]), array([-0.36258964]), array([1.31548836]), array([-2.91462404]), array([-4.02721579]), array([3.45636786]), array([3.08140551]), array([1.2597222])]\n",
            "[array([36.36208237]), array([-0.36282177]), array([1.31611452]), array([-2.91619169]), array([-4.02939543]), array([3.45706864]), array([3.08156662]), array([1.2566075])]\n",
            "[array([36.37826348]), array([-0.36305232]), array([1.3167345]), array([-2.91774524]), array([-4.03157323]), array([3.45776324]), array([3.0817236]), array([1.25350204])]\n",
            "[array([36.39428278]), array([-0.36328132]), array([1.31734837]), array([-2.91928481]), array([-4.03374919]), array([3.4584517]), array([3.08187648]), array([1.25040578])]\n",
            "[array([36.41014188]), array([-0.36350876]), array([1.31795619]), array([-2.92081054]), array([-4.03592331]), array([3.45913407]), array([3.0820253]), array([1.2473187])]\n",
            "[array([36.4258424]), array([-0.36373467]), array([1.31855803]), array([-2.92232256]), array([-4.0380956]), array([3.45981039]), array([3.08217009]), array([1.24424075])]\n",
            "[array([36.44138591]), array([-0.36395906]), array([1.31915395]), array([-2.92382099]), array([-4.04026606]), array([3.4604807]), array([3.08231088]), array([1.24117193])]\n",
            "[array([36.45677398]), array([-0.36418194]), array([1.31974401]), array([-2.92530595]), array([-4.0424347]), array([3.46114504]), array([3.08244772]), array([1.2381122])]\n",
            "[array([36.47200817]), array([-0.36440333]), array([1.32032827]), array([-2.92677757]), array([-4.04460153]), array([3.46180346]), array([3.08258063]), array([1.23506152])]\n",
            "value of theta_0 at iteration 320 is:  [36.47200817]\n",
            "value of theta_1 at iteration 320 is:  [-0.36440333]\n",
            "value of theta_2 at iteration 320 is:  [1.32032827]\n",
            "value of theta_3 at iteration 320 is:  [-2.92677757]\n",
            "value of theta_4 at iteration 320 is:  [-4.04460153]\n",
            "value of theta_5 at iteration 320 is:  [3.46180346]\n",
            "value of theta_6 at iteration 320 is:  [3.08258063]\n",
            "value of theta_7 at iteration 320 is:  [1.23506152] \n",
            "\n",
            "[array([36.48709002]), array([-0.36462323]), array([1.32090679]), array([-2.92823598]), array([-4.04676654]), array([3.46245599]), array([3.08270966]), array([1.23201988])]\n",
            "[array([36.50202105]), array([-0.36484167]), array([1.32147964]), array([-2.92968129]), array([-4.04892974]), array([3.46310268]), array([3.08283483]), array([1.22898724])]\n",
            "[array([36.51680278]), array([-0.36505865]), array([1.32204687]), array([-2.93111363]), array([-4.05109113]), array([3.46374357]), array([3.08295617]), array([1.22596357])]\n",
            "[array([36.53143668]), array([-0.36527419]), array([1.32260855]), array([-2.93253311]), array([-4.05325072]), array([3.46437869]), array([3.08307372]), array([1.22294885])]\n",
            "[array([36.54592425]), array([-0.3654883]), array([1.32316473]), array([-2.93393985]), array([-4.0554085]), array([3.46500809]), array([3.08318751]), array([1.21994303])]\n",
            "[array([36.56026694]), array([-0.365701]), array([1.32371546]), array([-2.93533397]), array([-4.05756449]), array([3.46563181]), array([3.08329758]), array([1.21694611])]\n",
            "[array([36.5744662]), array([-0.36591229]), array([1.32426082]), array([-2.93671559]), array([-4.05971868]), array([3.46624987]), array([3.08340395]), array([1.21395804])]\n",
            "[array([36.58852347]), array([-0.36612219]), array([1.32480084]), array([-2.93808482]), array([-4.06187108]), array([3.46686234]), array([3.08350666]), array([1.2109788])]\n",
            "[array([36.60244017]), array([-0.36633071]), array([1.3253356]), array([-2.93944178]), array([-4.06402168]), array([3.46746923]), array([3.08360574]), array([1.20800835])]\n",
            "[array([36.6162177]), array([-0.36653787]), array([1.32586514]), array([-2.94078657]), array([-4.06617049]), array([3.46807059]), array([3.08370121]), array([1.20504667])]\n",
            "value of theta_0 at iteration 330 is:  [36.6162177]\n",
            "value of theta_1 at iteration 330 is:  [-0.36653787]\n",
            "value of theta_2 at iteration 330 is:  [1.32586514]\n",
            "value of theta_3 at iteration 330 is:  [-2.94078657]\n",
            "value of theta_4 at iteration 330 is:  [-4.06617049]\n",
            "value of theta_5 at iteration 330 is:  [3.46807059]\n",
            "value of theta_6 at iteration 330 is:  [3.08370121]\n",
            "value of theta_7 at iteration 330 is:  [1.20504667] \n",
            "\n",
            "[array([36.62985745]), array([-0.36674367]), array([1.32638952]), array([-2.94211931]), array([-4.06831751]), array([3.46866646]), array([3.08379311]), array([1.20209373])]\n",
            "[array([36.64336081]), array([-0.36694813]), array([1.32690879]), array([-2.94344011]), array([-4.07046275]), array([3.46925687]), array([3.08388147]), array([1.1991495])]\n",
            "[array([36.65672914]), array([-0.36715125]), array([1.32742301]), array([-2.94474909]), array([-4.0726062]), array([3.46984186]), array([3.08396632]), array([1.19621395])]\n",
            "[array([36.66996378]), array([-0.36735306]), array([1.32793224]), array([-2.94604634]), array([-4.07474786]), array([3.47042146]), array([3.08404768]), array([1.19328704])]\n",
            "[array([36.68306607]), array([-0.36755356]), array([1.32843652]), array([-2.94733198]), array([-4.07688774]), array([3.47099572]), array([3.08412559]), array([1.19036876])]\n",
            "[array([36.69603734]), array([-0.36775276]), array([1.3289359]), array([-2.94860611]), array([-4.07902583]), array([3.47156467]), array([3.08420008]), array([1.18745906])]\n",
            "[array([36.7088789]), array([-0.36795068]), array([1.32943044]), array([-2.94986883]), array([-4.08116214]), array([3.47212833]), array([3.08427117]), array([1.18455792])]\n",
            "[array([36.72159205]), array([-0.36814732]), array([1.3299202]), array([-2.95112027]), array([-4.08329667]), array([3.47268676]), array([3.08433889]), array([1.18166531])]\n",
            "[array([36.73417806]), array([-0.36834271]), array([1.33040521]), array([-2.9523605]), array([-4.08542942]), array([3.47323998]), array([3.08440327]), array([1.1787812])]\n",
            "[array([36.74663821]), array([-0.36853684]), array([1.33088553]), array([-2.95358965]), array([-4.08756038]), array([3.47378803]), array([3.08446434]), array([1.17590557])]\n",
            "value of theta_0 at iteration 340 is:  [36.74663821]\n",
            "value of theta_1 at iteration 340 is:  [-0.36853684]\n",
            "value of theta_2 at iteration 340 is:  [1.33088553]\n",
            "value of theta_3 at iteration 340 is:  [-2.95358965]\n",
            "value of theta_4 at iteration 340 is:  [-4.08756038]\n",
            "value of theta_5 at iteration 340 is:  [3.47378803]\n",
            "value of theta_6 at iteration 340 is:  [3.08446434]\n",
            "value of theta_7 at iteration 340 is:  [1.17590557] \n",
            "\n",
            "[array([36.75897376]), array([-0.36872973]), array([1.33136121]), array([-2.95480781]), array([-4.08968956]), array([3.47433094]), array([3.08452213]), array([1.17303837])]\n",
            "[array([36.77118595]), array([-0.36892139]), array([1.3318323]), array([-2.95601508]), array([-4.09181696]), array([3.47486874]), array([3.08457665]), array([1.17017958])]\n",
            "[array([36.78327603]), array([-0.36911183]), array([1.33229885]), array([-2.95721156]), array([-4.09394258]), array([3.47540148]), array([3.08462795]), array([1.16732917])]\n",
            "[array([36.7952452]), array([-0.36930107]), array([1.33276091]), array([-2.95839735]), array([-4.09606641]), array([3.47592917]), array([3.08467604]), array([1.16448711])]\n",
            "[array([36.80709468]), array([-0.3694891]), array([1.33321851]), array([-2.95957255]), array([-4.09818846]), array([3.47645187]), array([3.08472095]), array([1.16165338])]\n",
            "[array([36.81882566]), array([-0.36967595]), array([1.33367172]), array([-2.96073725]), array([-4.10030873]), array([3.47696959]), array([3.08476271]), array([1.15882793])]\n",
            "[array([36.83043934]), array([-0.36986163]), array([1.33412058]), array([-2.96189156]), array([-4.10242721]), array([3.47748238]), array([3.08480134]), array([1.15601075])]\n",
            "[array([36.84193688]), array([-0.37004613]), array([1.33456512]), array([-2.96303556]), array([-4.10454391]), array([3.47799025]), array([3.08483688]), array([1.1532018])]\n",
            "[array([36.85331944]), array([-0.37022949]), array([1.33500541]), array([-2.96416935]), array([-4.10665883]), array([3.47849326]), array([3.08486933]), array([1.15040105])]\n",
            "[array([36.86458818]), array([-0.37041169]), array([1.33544148]), array([-2.96529302]), array([-4.10877196]), array([3.47899142]), array([3.08489874]), array([1.14760847])]\n",
            "value of theta_0 at iteration 350 is:  [36.86458818]\n",
            "value of theta_1 at iteration 350 is:  [-0.37041169]\n",
            "value of theta_2 at iteration 350 is:  [1.33544148]\n",
            "value of theta_3 at iteration 350 is:  [-2.96529302]\n",
            "value of theta_4 at iteration 350 is:  [-4.10877196]\n",
            "value of theta_5 at iteration 350 is:  [3.47899142]\n",
            "value of theta_6 at iteration 350 is:  [3.08489874]\n",
            "value of theta_7 at iteration 350 is:  [1.14760847] \n",
            "\n",
            "[array([36.87574423]), array([-0.37059276]), array([1.33587338]), array([-2.96640667]), array([-4.1108833]), array([3.47948477]), array([3.08492512]), array([1.14482403])]\n",
            "[array([36.88678872]), array([-0.3707727]), array([1.33630115]), array([-2.96751039]), array([-4.11299285]), array([3.47997334]), array([3.08494851]), array([1.14204771])]\n",
            "[array([36.89772277]), array([-0.37095153]), array([1.33672484]), array([-2.96860427]), array([-4.11510061]), array([3.48045717]), array([3.08496891]), array([1.13927947])]\n",
            "[array([36.90854747]), array([-0.37112925]), array([1.33714449]), array([-2.96968839]), array([-4.11720658]), array([3.48093627]), array([3.08498637]), array([1.13651928])]\n",
            "[array([36.91926393]), array([-0.37130587]), array([1.33756014]), array([-2.97076286]), array([-4.11931076]), array([3.48141069]), array([3.08500089]), array([1.13376712])]\n",
            "[array([36.92987322]), array([-0.3714814]), array([1.33797184]), array([-2.97182775]), array([-4.12141315]), array([3.48188045]), array([3.08501252]), array([1.13102295])]\n",
            "[array([36.94037642]), array([-0.37165586]), array([1.33837963]), array([-2.97288315]), array([-4.12351374]), array([3.48234559]), array([3.08502126]), array([1.12828675])]\n",
            "[array([36.95077459]), array([-0.37182925]), array([1.33878354]), array([-2.97392915]), array([-4.12561254]), array([3.48280613]), array([3.08502714]), array([1.12555848])]\n",
            "[array([36.96106878]), array([-0.37200158]), array([1.33918363]), array([-2.97496584]), array([-4.12770954]), array([3.4832621]), array([3.08503019]), array([1.12283812])]\n",
            "[array([36.97126002]), array([-0.37217285]), array([1.33957993]), array([-2.97599329]), array([-4.12980473]), array([3.48371354]), array([3.08503043]), array([1.12012564])]\n",
            "value of theta_0 at iteration 360 is:  [36.97126002]\n",
            "value of theta_1 at iteration 360 is:  [-0.37217285]\n",
            "value of theta_2 at iteration 360 is:  [1.33957993]\n",
            "value of theta_3 at iteration 360 is:  [-2.97599329]\n",
            "value of theta_4 at iteration 360 is:  [-4.12980473]\n",
            "value of theta_5 at iteration 360 is:  [3.48371354]\n",
            "value of theta_6 at iteration 360 is:  [3.08503043]\n",
            "value of theta_7 at iteration 360 is:  [1.12012564] \n",
            "\n",
            "[array([36.98134935]), array([-0.37234309]), array([1.33997248]), array([-2.9770116]), array([-4.13189813]), array([3.48416047]), array([3.08502789]), array([1.117421])]\n",
            "[array([36.99133779]), array([-0.37251229]), array([1.34036132]), array([-2.97802085]), array([-4.13398973]), array([3.48460292]), array([3.08502257]), array([1.11472418])]\n",
            "[array([37.00122635]), array([-0.37268047]), array([1.34074649]), array([-2.97902112]), array([-4.13607952]), array([3.48504091]), array([3.08501452]), array([1.11203515])]\n",
            "[array([37.01101602]), array([-0.37284763]), array([1.34112803]), array([-2.98001249]), array([-4.1381675]), array([3.48547449]), array([3.08500374]), array([1.10935389])]\n",
            "[array([37.02070779]), array([-0.37301379]), array([1.34150598]), array([-2.98099505]), array([-4.14025368]), array([3.48590367]), array([3.08499026]), array([1.10668035])]\n",
            "[array([37.03030264]), array([-0.37317895]), array([1.34188038]), array([-2.98196887]), array([-4.14233805]), array([3.48632849]), array([3.08497411]), array([1.10401452])]\n",
            "[array([37.03980155]), array([-0.37334313]), array([1.34225126]), array([-2.98293403]), array([-4.1444206]), array([3.48674898]), array([3.0849553]), array([1.10135636])]\n",
            "[array([37.04920547]), array([-0.37350632]), array([1.34261867]), array([-2.98389061]), array([-4.14650134]), array([3.48716515]), array([3.08493386]), array([1.09870584])]\n",
            "[array([37.05851534]), array([-0.37366854]), array([1.34298263]), array([-2.98483869]), array([-4.14858027]), array([3.48757704]), array([3.0849098]), array([1.09606295])]\n",
            "[array([37.06773212]), array([-0.37382979]), array([1.34334319]), array([-2.98577835]), array([-4.15065738]), array([3.48798468]), array([3.08488316]), array([1.09342763])]\n",
            "value of theta_0 at iteration 370 is:  [37.06773212]\n",
            "value of theta_1 at iteration 370 is:  [-0.37382979]\n",
            "value of theta_2 at iteration 370 is:  [1.34334319]\n",
            "value of theta_3 at iteration 370 is:  [-2.98577835]\n",
            "value of theta_4 at iteration 370 is:  [-4.15065738]\n",
            "value of theta_5 at iteration 370 is:  [3.48798468]\n",
            "value of theta_6 at iteration 370 is:  [3.08488316]\n",
            "value of theta_7 at iteration 370 is:  [1.09342763] \n",
            "\n",
            "[array([37.07685673]), array([-0.3739901]), array([1.34370039]), array([-2.98670967]), array([-4.15273266]), array([3.48838808]), array([3.08485394]), array([1.09079988])]\n",
            "[array([37.0858901]), array([-0.37414945]), array([1.34405425]), array([-2.98763271]), array([-4.15480613]), array([3.48878729]), array([3.08482217]), array([1.08817966])]\n",
            "[array([37.09483313]), array([-0.37430786]), array([1.34440482]), array([-2.98854756]), array([-4.15687777]), array([3.48918233]), array([3.08478788]), array([1.08556694])]\n",
            "[array([37.10368673]), array([-0.37446535]), array([1.34475212]), array([-2.98945428]), array([-4.15894758]), array([3.48957322]), array([3.08475107]), array([1.08296169])]\n",
            "[array([37.1124518]), array([-0.37462191]), array([1.3450962]), array([-2.99035296]), array([-4.16101557]), array([3.48995999]), array([3.08471178]), array([1.08036389])]\n",
            "[array([37.12112921]), array([-0.37477755]), array([1.3454371]), array([-2.99124367]), array([-4.16308172]), array([3.49034267]), array([3.08467002]), array([1.0777735])]\n",
            "[array([37.12971985]), array([-0.37493229]), array([1.34577483]), array([-2.99212648]), array([-4.16514604]), array([3.49072127]), array([3.08462581]), array([1.07519051])]\n",
            "[array([37.13822458]), array([-0.37508613]), array([1.34610944]), array([-2.99300145]), array([-4.16720853]), array([3.49109584]), array([3.08457917]), array([1.07261487])]\n",
            "[array([37.14664427]), array([-0.37523907]), array([1.34644096]), array([-2.99386866]), array([-4.16926918]), array([3.49146639]), array([3.08453012]), array([1.07004657])]\n",
            "[array([37.15497976]), array([-0.37539113]), array([1.34676942]), array([-2.99472819]), array([-4.17132798]), array([3.49183295]), array([3.08447868]), array([1.06748557])]\n",
            "value of theta_0 at iteration 380 is:  [37.15497976]\n",
            "value of theta_1 at iteration 380 is:  [-0.37539113]\n",
            "value of theta_2 at iteration 380 is:  [1.34676942]\n",
            "value of theta_3 at iteration 380 is:  [-2.99472819]\n",
            "value of theta_4 at iteration 380 is:  [-4.17132798]\n",
            "value of theta_5 at iteration 380 is:  [3.49183295]\n",
            "value of theta_6 at iteration 380 is:  [3.08447868]\n",
            "value of theta_7 at iteration 380 is:  [1.06748557] \n",
            "\n",
            "[array([37.1632319]), array([-0.37554232]), array([1.34709486]), array([-2.9955801]), array([-4.17338495]), array([3.49219554]), array([3.08442487]), array([1.06493184])]\n",
            "[array([37.17140151]), array([-0.37569263]), array([1.34741731]), array([-2.99642446]), array([-4.17544007]), array([3.4925542]), array([3.08436871]), array([1.06238537])]\n",
            "[array([37.17948943]), array([-0.37584208]), array([1.3477368]), array([-2.99726133]), array([-4.17749334]), array([3.49290894]), array([3.08431022]), array([1.05984612])]\n",
            "[array([37.18749646]), array([-0.37599068]), array([1.34805337]), array([-2.9980908]), array([-4.17954476]), array([3.49325979]), array([3.08424941]), array([1.05731406])]\n",
            "[array([37.19542343]), array([-0.37613843]), array([1.34836703]), array([-2.99891291]), array([-4.18159434]), array([3.49360677]), array([3.08418631]), array([1.05478917])]\n",
            "[array([37.20327113]), array([-0.37628533]), array([1.34867783]), array([-2.99972775]), array([-4.18364205]), array([3.49394992]), array([3.08412093]), array([1.05227141])]\n",
            "[array([37.21104035]), array([-0.37643141]), array([1.3489858]), array([-3.00053537]), array([-4.18568791]), array([3.49428924]), array([3.0840533]), array([1.04976077])]\n",
            "[array([37.21873188]), array([-0.37657666]), array([1.34929096]), array([-3.00133585]), array([-4.18773191]), array([3.49462478]), array([3.08398343]), array([1.04725721])]\n",
            "[array([37.22634649]), array([-0.37672108]), array([1.34959335]), array([-3.00212924]), array([-4.18977405]), array([3.49495655]), array([3.08391133]), array([1.04476071])]\n",
            "[array([37.23388496]), array([-0.3768647]), array([1.349893]), array([-3.00291561]), array([-4.19181433]), array([3.49528457]), array([3.08383704]), array([1.04227124])]\n",
            "value of theta_0 at iteration 390 is:  [37.23388496]\n",
            "value of theta_1 at iteration 390 is:  [-0.3768647]\n",
            "value of theta_2 at iteration 390 is:  [1.349893]\n",
            "value of theta_3 at iteration 390 is:  [-3.00291561]\n",
            "value of theta_4 at iteration 390 is:  [-4.19181433]\n",
            "value of theta_5 at iteration 390 is:  [3.49528457]\n",
            "value of theta_6 at iteration 390 is:  [3.08383704]\n",
            "value of theta_7 at iteration 390 is:  [1.04227124] \n",
            "\n",
            "[array([37.24134804]), array([-0.37700751]), array([1.35018993]), array([-3.00369502]), array([-4.19385274]), array([3.49560887]), array([3.08376055]), array([1.03978877])]\n",
            "[array([37.2487365]), array([-0.37714952]), array([1.35048417]), array([-3.00446754]), array([-4.19588928]), array([3.49592948]), array([3.0836819]), array([1.03731328])]\n",
            "[array([37.25605106]), array([-0.37729074]), array([1.35077576]), array([-3.00523323]), array([-4.19792395]), array([3.49624641]), array([3.0836011]), array([1.03484474])]\n",
            "[array([37.26329248]), array([-0.37743117]), array([1.35106472]), array([-3.00599214]), array([-4.19995674]), array([3.4965597]), array([3.08351817]), array([1.03238312])]\n",
            "[array([37.27046149]), array([-0.37757083]), array([1.35135108]), array([-3.00674435]), array([-4.20198766]), array([3.49686936]), array([3.08343312]), array([1.02992839])]\n",
            "[array([37.27755881]), array([-0.37770971]), array([1.35163487]), array([-3.00748992]), array([-4.2040167]), array([3.49717541]), array([3.08334597]), array([1.02748054])]\n",
            "[array([37.28458515]), array([-0.37784782]), array([1.35191612]), array([-3.00822889]), array([-4.20604385]), array([3.49747788]), array([3.08325675]), array([1.02503953])]\n",
            "[array([37.29154123]), array([-0.37798518]), array([1.35219485]), array([-3.00896133]), array([-4.20806913]), array([3.4977768]), array([3.08316546]), array([1.02260533])]\n",
            "[array([37.29842775]), array([-0.37812178]), array([1.35247109]), array([-3.00968731]), array([-4.21009252]), array([3.49807218]), array([3.08307212]), array([1.02017793])]\n",
            "[array([37.30524541]), array([-0.37825763]), array([1.35274487]), array([-3.01040687]), array([-4.21211402]), array([3.49836404]), array([3.08297675]), array([1.01775728])]\n",
            "value of theta_0 at iteration 400 is:  [37.30524541]\n",
            "value of theta_1 at iteration 400 is:  [-0.37825763]\n",
            "value of theta_2 at iteration 400 is:  [1.35274487]\n",
            "value of theta_3 at iteration 400 is:  [-3.01040687]\n",
            "value of theta_4 at iteration 400 is:  [-4.21211402]\n",
            "value of theta_5 at iteration 400 is:  [3.49836404]\n",
            "value of theta_6 at iteration 400 is:  [3.08297675]\n",
            "value of theta_7 at iteration 400 is:  [1.01775728] \n",
            "\n",
            "[array([37.31199489]), array([-0.37839274]), array([1.35301621]), array([-3.01112008]), array([-4.21413362]), array([3.49865242]), array([3.08287937]), array([1.01534338])]\n",
            "[array([37.31867687]), array([-0.37852712]), array([1.35328514]), array([-3.01182699]), array([-4.21615134]), array([3.49893732]), array([3.08277999]), array([1.01293619])]\n",
            "[array([37.32529203]), array([-0.37866077]), array([1.35355169]), array([-3.01252767]), array([-4.21816716]), array([3.49921879]), array([3.08267863]), array([1.01053569])]\n",
            "[array([37.33184105]), array([-0.3787937]), array([1.35381588]), array([-3.01322216]), array([-4.22018108]), array([3.49949682]), array([3.0825753]), array([1.00814184])]\n",
            "[array([37.33832457]), array([-0.37892591]), array([1.35407773]), array([-3.01391052]), array([-4.2221931]), array([3.49977145]), array([3.08247003]), array([1.00575463])]\n",
            "[array([37.34474326]), array([-0.37905741]), array([1.35433728]), array([-3.01459281]), array([-4.22420321]), array([3.50004271]), array([3.08236282]), array([1.00337403])]\n",
            "[array([37.35109776]), array([-0.3791882]), array([1.35459455]), array([-3.01526908]), array([-4.22621142]), array([3.5003106]), array([3.0822537]), array([1.00100001])]\n",
            "[array([37.35738871]), array([-0.3793183]), array([1.35484956]), array([-3.01593939]), array([-4.22821773]), array([3.50057515]), array([3.08214268]), array([0.99863256])]\n",
            "[array([37.36361676]), array([-0.3794477]), array([1.35510233]), array([-3.01660379]), array([-4.23022212]), array([3.50083639]), array([3.08202977]), array([0.99627163])]\n",
            "[array([37.36978252]), array([-0.37957641]), array([1.3553529]), array([-3.01726233]), array([-4.2322246]), array([3.50109433]), array([3.08191499]), array([0.99391721])]\n",
            "value of theta_0 at iteration 410 is:  [37.36978252]\n",
            "value of theta_1 at iteration 410 is:  [-0.37957641]\n",
            "value of theta_2 at iteration 410 is:  [1.3553529]\n",
            "value of theta_3 at iteration 410 is:  [-3.01726233]\n",
            "value of theta_4 at iteration 410 is:  [-4.2322246]\n",
            "value of theta_5 at iteration 410 is:  [3.50109433]\n",
            "value of theta_6 at iteration 410 is:  [3.08191499]\n",
            "value of theta_7 at iteration 410 is:  [0.99391721] \n",
            "\n",
            "[array([37.37588663]), array([-0.37970444]), array([1.35560128]), array([-3.01791507]), array([-4.23422516]), array([3.50134899]), array([3.08179836]), array([0.99156928])]\n",
            "[array([37.38192969]), array([-0.3798318]), array([1.3558475]), array([-3.01856205]), array([-4.23622381]), array([3.5016004]), array([3.08167988]), array([0.9892278])]\n",
            "[array([37.38791233]), array([-0.37995848]), array([1.35609158]), array([-3.01920333]), array([-4.23822054]), array([3.50184858]), array([3.08155959]), array([0.98689275])]\n",
            "[array([37.39383514]), array([-0.3800845]), array([1.35633355]), array([-3.01983897]), array([-4.24021534]), array([3.50209354]), array([3.08143748]), array([0.98456412])]\n",
            "[array([37.39969872]), array([-0.38020986]), array([1.35657342]), array([-3.020469]), array([-4.24220822]), array([3.50233531]), array([3.08131359]), array([0.98224186])]\n",
            "[array([37.40550366]), array([-0.38033457]), array([1.35681122]), array([-3.02109349]), array([-4.24419918]), array([3.50257391]), array([3.08118791]), array([0.97992597])]\n",
            "[array([37.41125056]), array([-0.38045863]), array([1.35704698]), array([-3.02171248]), array([-4.2461882]), array([3.50280936]), array([3.08106047]), array([0.9776164])]\n",
            "[array([37.41693999]), array([-0.38058204]), array([1.35728071]), array([-3.02232602]), array([-4.24817529]), array([3.50304167]), array([3.08093128]), array([0.97531315])]\n",
            "[array([37.42257252]), array([-0.38070481]), array([1.35751244]), array([-3.02293415]), array([-4.25016045]), array([3.50327088]), array([3.08080035]), array([0.97301618])]\n",
            "[array([37.42814873]), array([-0.38082695]), array([1.35774218]), array([-3.02353694]), array([-4.25214368]), array([3.50349699]), array([3.0806677]), array([0.97072548])]\n",
            "value of theta_0 at iteration 420 is:  [37.42814873]\n",
            "value of theta_1 at iteration 420 is:  [-0.38082695]\n",
            "value of theta_2 at iteration 420 is:  [1.35774218]\n",
            "value of theta_3 at iteration 420 is:  [-3.02353694]\n",
            "value of theta_4 at iteration 420 is:  [-4.25214368]\n",
            "value of theta_5 at iteration 420 is:  [3.50349699]\n",
            "value of theta_6 at iteration 420 is:  [3.0806677]\n",
            "value of theta_7 at iteration 420 is:  [0.97072548] \n",
            "\n",
            "[array([37.43366917]), array([-0.38094846]), array([1.35796997]), array([-3.02413442]), array([-4.25412496]), array([3.50372003]), array([3.08053335]), array([0.96844101])]\n",
            "[array([37.43913441]), array([-0.38106935]), array([1.35819581]), array([-3.02472664]), array([-4.25610431]), array([3.50394001]), array([3.08039731]), array([0.96616275])]\n",
            "[array([37.444545]), array([-0.38118963]), array([1.35841974]), array([-3.02531366]), array([-4.25808171]), array([3.50415696]), array([3.08025959]), array([0.96389068])]\n",
            "[array([37.44990148]), array([-0.38130928]), array([1.35864177]), array([-3.02589551]), array([-4.26005716]), array([3.5043709]), array([3.0801202]), array([0.96162478])]\n",
            "[array([37.4552044]), array([-0.38142833]), array([1.35886193]), array([-3.02647225]), array([-4.26203067]), array([3.50458185]), array([3.07997917]), array([0.95936501])]\n",
            "[array([37.46045429]), array([-0.38154678]), array([1.35908023]), array([-3.02704391]), array([-4.26400223]), array([3.50478981]), array([3.0798365]), array([0.95711137])]\n",
            "[array([37.46565168]), array([-0.38166463]), array([1.35929669]), array([-3.02761055]), array([-4.26597184]), array([3.50499482]), array([3.07969221]), array([0.95486381])]\n",
            "[array([37.47079709]), array([-0.38178188]), array([1.35951134]), array([-3.02817221]), array([-4.2679395]), array([3.5051969]), array([3.07954631]), array([0.95262233])]\n",
            "[array([37.47589106]), array([-0.38189855]), array([1.35972419]), array([-3.02872893]), array([-4.2699052]), array([3.50539605]), array([3.07939882]), array([0.9503869])]\n",
            "[array([37.48093408]), array([-0.38201463]), array([1.35993527]), array([-3.02928076]), array([-4.27186894]), array([3.50559231]), array([3.07924974]), array([0.94815749])]\n",
            "value of theta_0 at iteration 430 is:  [37.48093408]\n",
            "value of theta_1 at iteration 430 is:  [-0.38201463]\n",
            "value of theta_2 at iteration 430 is:  [1.35993527]\n",
            "value of theta_3 at iteration 430 is:  [-3.02928076]\n",
            "value of theta_4 at iteration 430 is:  [-4.27186894]\n",
            "value of theta_5 at iteration 430 is:  [3.50559231]\n",
            "value of theta_6 at iteration 430 is:  [3.07924974]\n",
            "value of theta_7 at iteration 430 is:  [0.94815749] \n",
            "\n",
            "[array([37.48592667]), array([-0.38213014]), array([1.36014458]), array([-3.02982774]), array([-4.27383073]), array([3.50578568]), array([3.0790991]), array([0.94593408])]\n",
            "[array([37.49086933]), array([-0.38224507]), array([1.36035216]), array([-3.03036992]), array([-4.27579055]), array([3.50597619]), array([3.0789469]), array([0.94371664])]\n",
            "[array([37.49576257]), array([-0.38235942]), array([1.36055802]), array([-3.03090733]), array([-4.2777484]), array([3.50616386]), array([3.07879317]), array([0.94150516])]\n",
            "[array([37.50060688]), array([-0.38247322]), array([1.36076218]), array([-3.03144003]), array([-4.2797043]), array([3.5063487]), array([3.0786379]), array([0.93929962])]\n",
            "[array([37.50540274]), array([-0.38258645]), array([1.36096466]), array([-3.03196804]), array([-4.28165822]), array([3.50653073]), array([3.07848112]), array([0.93709998])]\n",
            "[array([37.51015065]), array([-0.38269913]), array([1.36116547]), array([-3.03249142]), array([-4.28361017]), array([3.50670997]), array([3.07832284]), array([0.93490623])]\n",
            "[array([37.51485107]), array([-0.38281125]), array([1.36136464]), array([-3.03301021]), array([-4.28556015]), array([3.50688644]), array([3.07816307]), array([0.93271834])]\n",
            "[array([37.5195045]), array([-0.38292283]), array([1.36156218]), array([-3.03352444]), array([-4.28750816]), array([3.50706015]), array([3.07800182]), array([0.93053629])]\n",
            "[array([37.52411138]), array([-0.38303386]), array([1.36175811]), array([-3.03403416]), array([-4.28945419]), array([3.50723113]), array([3.07783911]), array([0.92836006])]\n",
            "[array([37.5286722]), array([-0.38314435]), array([1.36195244]), array([-3.03453941]), array([-4.29139825]), array([3.50739939]), array([3.07767494]), array([0.92618962])]\n",
            "value of theta_0 at iteration 440 is:  [37.5286722]\n",
            "value of theta_1 at iteration 440 is:  [-0.38314435]\n",
            "value of theta_2 at iteration 440 is:  [1.36195244]\n",
            "value of theta_3 at iteration 440 is:  [-3.03453941]\n",
            "value of theta_4 at iteration 440 is:  [-4.29139825]\n",
            "value of theta_5 at iteration 440 is:  [3.50739939]\n",
            "value of theta_6 at iteration 440 is:  [3.07767494]\n",
            "value of theta_7 at iteration 440 is:  [0.92618962] \n",
            "\n",
            "[array([37.53318741]), array([-0.38325431]), array([1.36214521]), array([-3.03504022]), array([-4.29334032]), array([3.50756494]), array([3.07750934]), array([0.92402496])]\n",
            "[array([37.53765747]), array([-0.38336374]), array([1.36233641]), array([-3.03553664]), array([-4.29528041]), array([3.50772782]), array([3.07734232]), array([0.92186605])]\n",
            "[array([37.54208283]), array([-0.38347265]), array([1.36252607]), array([-3.03602871]), array([-4.29721852]), array([3.50788802]), array([3.07717388]), array([0.91971287])]\n",
            "[array([37.54646393]), array([-0.38358103]), array([1.36271421]), array([-3.03651646]), array([-4.29915465]), array([3.50804558]), array([3.07700404]), array([0.9175654])]\n",
            "[array([37.55080123]), array([-0.38368889]), array([1.36290084]), array([-3.03699993]), array([-4.30108879]), array([3.5082005]), array([3.0768328]), array([0.91542362])]\n",
            "[array([37.55509515]), array([-0.38379624]), array([1.36308598]), array([-3.03747916]), array([-4.30302093]), array([3.50835281]), array([3.0766602]), array([0.91328749])]\n",
            "[array([37.55934613]), array([-0.38390308]), array([1.36326964]), array([-3.03795419]), array([-4.30495109]), array([3.50850252]), array([3.07648622]), array([0.91115701])]\n",
            "[array([37.5635546]), array([-0.38400942]), array([1.36345185]), array([-3.03842506]), array([-4.30687926]), array([3.50864965]), array([3.0763109]), array([0.90903216])]\n",
            "[array([37.56772098]), array([-0.38411525]), array([1.36363261]), array([-3.0388918]), array([-4.30880543]), array([3.50879421]), array([3.07613423]), array([0.9069129])]\n",
            "[array([37.57184571]), array([-0.38422058]), array([1.36381194]), array([-3.03935445]), array([-4.31072961]), array([3.50893622]), array([3.07595623]), array([0.90479921])]\n",
            "value of theta_0 at iteration 450 is:  [37.57184571]\n",
            "value of theta_1 at iteration 450 is:  [-0.38422058]\n",
            "value of theta_2 at iteration 450 is:  [1.36381194]\n",
            "value of theta_3 at iteration 450 is:  [-3.03935445]\n",
            "value of theta_4 at iteration 450 is:  [-4.31072961]\n",
            "value of theta_5 at iteration 450 is:  [3.50893622]\n",
            "value of theta_6 at iteration 450 is:  [3.07595623]\n",
            "value of theta_7 at iteration 450 is:  [0.90479921] \n",
            "\n",
            "[array([37.57592918]), array([-0.38432542]), array([1.36398987]), array([-3.03981304]), array([-4.31265179]), array([3.50907571]), array([3.07577692]), array([0.90269109])]\n",
            "[array([37.57997182]), array([-0.38442977]), array([1.3641664]), array([-3.04026762]), array([-4.31457197]), array([3.50921267]), array([3.0755963]), array([0.9005885])]\n",
            "[array([37.58397404]), array([-0.38453364]), array([1.36434154]), array([-3.04071821]), array([-4.31649014]), array([3.50934714]), array([3.07541438]), array([0.89849142])]\n",
            "[array([37.58793623]), array([-0.38463702]), array([1.36451532]), array([-3.04116486]), array([-4.31840632]), array([3.50947913]), array([3.07523118]), array([0.89639984])]\n",
            "[array([37.5918588]), array([-0.38473992]), array([1.36468775]), array([-3.0416076]), array([-4.32032049]), array([3.50960865]), array([3.07504671]), array([0.89431373])]\n",
            "[array([37.59574214]), array([-0.38484235]), array([1.36485885]), array([-3.04204645]), array([-4.32223266]), array([3.50973572]), array([3.07486098]), array([0.89223308])]\n",
            "[array([37.59958665]), array([-0.38494431]), array([1.36502862]), array([-3.04248146]), array([-4.32414282]), array([3.50986035]), array([3.074674]), array([0.89015785])]\n",
            "[array([37.60339272]), array([-0.3850458]), array([1.36519708]), array([-3.04291267]), array([-4.32605097]), array([3.50998256]), array([3.07448578]), array([0.88808803])]\n",
            "[array([37.60716072]), array([-0.38514683]), array([1.36536425]), array([-3.0433401]), array([-4.32795711]), array([3.51010238]), array([3.07429634]), array([0.8860236])]\n",
            "[array([37.61089105]), array([-0.38524739]), array([1.36553015]), array([-3.04376378]), array([-4.32986124]), array([3.5102198]), array([3.07410568]), array([0.88396454])]\n",
            "value of theta_0 at iteration 460 is:  [37.61089105]\n",
            "value of theta_1 at iteration 460 is:  [-0.38524739]\n",
            "value of theta_2 at iteration 460 is:  [1.36553015]\n",
            "value of theta_3 at iteration 460 is:  [-3.04376378]\n",
            "value of theta_4 at iteration 460 is:  [-4.32986124]\n",
            "value of theta_5 at iteration 460 is:  [3.5102198]\n",
            "value of theta_6 at iteration 460 is:  [3.07410568]\n",
            "value of theta_7 at iteration 460 is:  [0.88396454] \n",
            "\n",
            "[array([37.61458407]), array([-0.3853475]), array([1.36569478]), array([-3.04418376]), array([-4.33176336]), array([3.51033486]), array([3.07391381]), array([0.88191083])]\n",
            "[array([37.61824016]), array([-0.38544715]), array([1.36585815]), array([-3.04460006]), array([-4.33366346]), array([3.51044755]), array([3.07372075]), array([0.87986245])]\n",
            "[array([37.62185969]), array([-0.38554636]), array([1.3660203]), array([-3.04501271]), array([-4.33556154]), array([3.51055791]), array([3.07352651]), array([0.87781938])]\n",
            "[array([37.62544303]), array([-0.38564512]), array([1.36618121]), array([-3.04542176]), array([-4.33745761]), array([3.51066594]), array([3.07333109]), array([0.87578159])]\n",
            "[array([37.62899053]), array([-0.38574343]), array([1.36634092]), array([-3.04582722]), array([-4.33935166]), array([3.51077166]), array([3.07313451]), array([0.87374908])]\n",
            "[array([37.63250256]), array([-0.38584131]), array([1.36649943]), array([-3.04622914]), array([-4.34124369]), array([3.51087509]), array([3.07293678]), array([0.87172181])]\n",
            "[array([37.63597947]), array([-0.38593875]), array([1.36665676]), array([-3.04662754]), array([-4.34313369]), array([3.51097624]), array([3.07273791]), array([0.86969977])]\n",
            "[array([37.6394216]), array([-0.38603576]), array([1.36681291]), array([-3.04702246]), array([-4.34502168]), array([3.51107512]), array([3.07253791]), array([0.86768293])]\n",
            "[array([37.64282932]), array([-0.38613234]), array([1.36696791]), array([-3.04741392]), array([-4.34690763]), array([3.51117175]), array([3.07233679]), array([0.86567129])]\n",
            "[array([37.64620296]), array([-0.38622849]), array([1.36712176]), array([-3.04780195]), array([-4.34879157]), array([3.51126615]), array([3.07213456]), array([0.86366481])]\n",
            "value of theta_0 at iteration 470 is:  [37.64620296]\n",
            "value of theta_1 at iteration 470 is:  [-0.38622849]\n",
            "value of theta_2 at iteration 470 is:  [1.36712176]\n",
            "value of theta_3 at iteration 470 is:  [-3.04780195]\n",
            "value of theta_4 at iteration 470 is:  [-4.34879157]\n",
            "value of theta_5 at iteration 470 is:  [3.51126615]\n",
            "value of theta_6 at iteration 470 is:  [3.07213456]\n",
            "value of theta_7 at iteration 470 is:  [0.86366481] \n",
            "\n",
            "[array([37.64954286]), array([-0.38632422]), array([1.36727448]), array([-3.04818659]), array([-4.35067347]), array([3.51135832]), array([3.07193123]), array([0.86166349])]\n",
            "[array([37.65284937]), array([-0.38641952]), array([1.36742608]), array([-3.04856787]), array([-4.35255335]), array([3.51144829]), array([3.07172681]), array([0.8596673])]\n",
            "[array([37.6561228]), array([-0.38651442]), array([1.36757657]), array([-3.04894581]), array([-4.3544312]), array([3.51153607]), array([3.07152131]), array([0.85767621])]\n",
            "[array([37.65936351]), array([-0.3866089]), array([1.36772597]), array([-3.04932045]), array([-4.35630702]), array([3.51162167]), array([3.07131474]), array([0.85569022])]\n",
            "[array([37.66257181]), array([-0.38670296]), array([1.36787428]), array([-3.04969181]), array([-4.3581808]), array([3.51170512]), array([3.07110712]), array([0.8537093])]\n",
            "[array([37.66574802]), array([-0.38679663]), array([1.36802152]), array([-3.05005993]), array([-4.36005256]), array([3.51178641]), array([3.07089844]), array([0.85173343])]\n",
            "[array([37.66889247]), array([-0.38688988]), array([1.36816769]), array([-3.05042482]), array([-4.36192228]), array([3.51186557]), array([3.07068872]), array([0.8497626])]\n",
            "[array([37.67200548]), array([-0.38698274]), array([1.36831283]), array([-3.05078653]), array([-4.36378996]), array([3.51194261]), array([3.07047798]), array([0.84779679])]\n",
            "[array([37.67508736]), array([-0.3870752]), array([1.36845692]), array([-3.05114507]), array([-4.36565561]), array([3.51201754]), array([3.07026621]), array([0.84583597])]\n",
            "[array([37.67813842]), array([-0.38716726]), array([1.36859999]), array([-3.05150048]), array([-4.36751922]), array([3.51209038]), array([3.07005344]), array([0.84388013])]\n",
            "value of theta_0 at iteration 480 is:  [37.67813842]\n",
            "value of theta_1 at iteration 480 is:  [-0.38716726]\n",
            "value of theta_2 at iteration 480 is:  [1.36859999]\n",
            "value of theta_3 at iteration 480 is:  [-3.05150048]\n",
            "value of theta_4 at iteration 480 is:  [-4.36751922]\n",
            "value of theta_5 at iteration 480 is:  [3.51209038]\n",
            "value of theta_6 at iteration 480 is:  [3.07005344]\n",
            "value of theta_7 at iteration 480 is:  [0.84388013] \n",
            "\n",
            "[array([37.68115896]), array([-0.38725893]), array([1.36874204]), array([-3.05185278]), array([-4.36938079]), array([3.51216115]), array([3.06983966]), array([0.84192925])]\n",
            "[array([37.68414931]), array([-0.38735021]), array([1.36888309]), array([-3.052202]), array([-4.37124032]), array([3.51222985]), array([3.06962489]), array([0.8399833])]\n",
            "[array([37.68710975]), array([-0.38744111]), array([1.36902315]), array([-3.05254817]), array([-4.37309781]), array([3.5122965]), array([3.06940914]), array([0.83804229])]\n",
            "[array([37.69004058]), array([-0.38753162]), array([1.36916222]), array([-3.05289131]), array([-4.37495326]), array([3.51236111]), array([3.06919242]), array([0.83610617])]\n",
            "[array([37.69294211]), array([-0.38762175]), array([1.36930033]), array([-3.05323145]), array([-4.37680667]), array([3.51242371]), array([3.06897473]), array([0.83417494])]\n",
            "[array([37.69581462]), array([-0.3877115]), array([1.36943747]), array([-3.05356862]), array([-4.37865803]), array([3.51248429]), array([3.06875609]), array([0.83224858])]\n",
            "[array([37.69865841]), array([-0.38780088]), array([1.36957367]), array([-3.05390285]), array([-4.38050735]), array([3.51254288]), array([3.0685365]), array([0.83032707])]\n",
            "[array([37.70147375]), array([-0.38788989]), array([1.36970893]), array([-3.05423415]), array([-4.38235463]), array([3.51259948]), array([3.06831598]), array([0.82841039])]\n",
            "[array([37.70426095]), array([-0.38797853]), array([1.36984325]), array([-3.05456256]), array([-4.38419985]), array([3.51265412]), array([3.06809454]), array([0.82649852])]\n",
            "[array([37.70702027]), array([-0.3880668]), array([1.36997666]), array([-3.0548881]), array([-4.38604303]), array([3.5127068]), array([3.06787217]), array([0.82459145])]\n",
            "value of theta_0 at iteration 490 is:  [37.70702027]\n",
            "value of theta_1 at iteration 490 is:  [-0.3880668]\n",
            "value of theta_2 at iteration 490 is:  [1.36997666]\n",
            "value of theta_3 at iteration 490 is:  [-3.0548881]\n",
            "value of theta_4 at iteration 490 is:  [-4.38604303]\n",
            "value of theta_5 at iteration 490 is:  [3.5127068]\n",
            "value of theta_6 at iteration 490 is:  [3.06787217]\n",
            "value of theta_7 at iteration 490 is:  [0.82459145] \n",
            "\n",
            "[array([37.709752]), array([-0.3881547]), array([1.37010917]), array([-3.05521079]), array([-4.38788416]), array([3.51275754]), array([3.0676489]), array([0.82268916])]\n",
            "[array([37.71245641]), array([-0.38824225]), array([1.37024077]), array([-3.05553066]), array([-4.38972325]), array([3.51280634]), array([3.06742473]), array([0.82079162])]\n",
            "[array([37.71513378]), array([-0.38832944]), array([1.37037148]), array([-3.05584774]), array([-4.39156028]), array([3.51285323]), array([3.06719966]), array([0.81889883])]\n",
            "[array([37.71778438]), array([-0.38841627]), array([1.37050132]), array([-3.05616205]), array([-4.39339526]), array([3.51289822]), array([3.06697372]), array([0.81701076])]\n",
            "[array([37.72040846]), array([-0.38850275]), array([1.37063029]), array([-3.05647361]), array([-4.3952282]), array([3.51294132]), array([3.0667469]), array([0.8151274])]\n",
            "[array([37.72300631]), array([-0.38858887]), array([1.37075839]), array([-3.05678244]), array([-4.39705907]), array([3.51298254]), array([3.06651922]), array([0.81324873])]\n",
            "[array([37.72557818]), array([-0.38867465]), array([1.37088565]), array([-3.05708858]), array([-4.3988879]), array([3.51302189]), array([3.06629068]), array([0.81137473])]\n",
            "[array([37.72812433]), array([-0.38876008]), array([1.37101207]), array([-3.05739205]), array([-4.40071467]), array([3.51305939]), array([3.06606129]), array([0.80950539])]\n",
            "[array([37.73064502]), array([-0.38884517]), array([1.37113765]), array([-3.05769286]), array([-4.40253939]), array([3.51309505]), array([3.06583106]), array([0.80764068])]\n"
          ],
          "name": "stdout"
        },
        {
          "output_type": "display_data",
          "data": {
            "image/png": "[encoded data removed]",
            "text/plain": [
              "<Figure size 432x288 with 1 Axes>"
            ]
          },
          "metadata": {
            "tags": []
          }
        },
        {
          "output_type": "stream",
          "text": [
            "Cost function values:  [array([796.67830253]), array([780.18095034]), array([764.0876233]), array([748.3862756]), array([733.06531263]), array([718.11357084]), array([703.52029858]), array([689.27513791]), array([675.36810725]), array([661.78958493]), array([648.53029349]), array([635.58128481]), array([622.93392587]), array([610.57988528]), array([598.5111204]), array([586.71986513]), array([575.19861824]), array([563.94013228]), array([552.93740303]), array([542.18365941]), array([531.67235388]), array([521.39715336]), array([511.35193046]), array([501.53075523]), array([491.92788719]), array([482.53776786]), array([473.35501349]), array([464.37440825]), array([455.59089764]), array([446.99958227]), array([438.59571189]), array([430.3746797]), array([422.33201688]), array([414.46338745]), array([406.76458328]), array([399.23151934]), array([391.86022921]), array([384.6468607]), array([377.58767178]), array([370.67902653]), array([363.91739144]), array([357.29933176]), array([350.82150799]), array([344.48067264]), array([338.27366698]), array([332.19741804]), array([326.24893569]), array([320.42530983]), array([314.72370772]), array([309.14137142]), array([303.67561533]), array([298.32382383]), array([293.08344898]), array([287.95200839]), array([282.92708314]), array([278.00631571]), array([273.18740813]), array([268.46812007]), array([263.84626711]), array([259.319719]), array([254.88639802]), array([250.54427741]), array([246.29137985]), array([242.12577598]), array([238.04558299]), array([234.04896328]), array([230.13412314]), array([226.29931149]), array([222.54281868]), array([218.86297528]), array([215.258151]), array([211.72675355]), array([208.26722765]), array([204.87805393]), array([201.55774805]), array([198.30485965]), array([195.11797154]), array([191.99569872]), array([188.93668758]), array([185.93961507]), array([183.0031879]), array([180.12614172]), array([177.30724046]), array([174.54527553]), array([171.83906514]), array([169.18745364]), array([166.58931086]), array([164.04353143]), array([161.54903421]), array([159.10476167]), array([156.70967932]), array([154.36277514]), array([152.06305901]), array([149.80956222]), array([147.60133694]), array([145.4374557]), array([143.31701094]), array([141.23911449]), array([139.20289718]), array([137.20750831]), array([135.2521153]), array([133.33590321]), array([131.45807435]), array([129.61784789]), array([127.81445946]), array([126.04716079]), array([124.31521932]), array([122.61791786]), array([120.95455424]), array([119.32444096]), array([117.72690487]), array([116.16128686]), array([114.62694152]), array([113.12323687]), array([111.64955402]), array([110.20528692]), array([108.78984205]), array([107.40263817]), array([106.04310602]), array([104.7106881]), array([103.40483838]), array([102.12502204]), array([100.87071528]), array([99.64140503]), array([98.43658877]), array([97.25577423]), array([96.09847924]), array([94.9642315]), array([93.85256833]), array([92.7630365]), array([91.69519203]), array([90.64859998]), array([89.62283428]), array([88.6174775]), array([87.63212072]), array([86.6663633]), array([85.71981276]), array([84.79208457]), array([83.88280199]), array([82.99159592]), array([82.11810473]), array([81.26197411]), array([80.42285689]), array([79.60041297]), array([78.79430907]), array([78.00421865]), array([77.22982179]), array([76.47080498]), array([75.72686106]), array([74.99768904]), array([74.28299401]), array([73.58248699]), array([72.89588481]), array([72.22291]), array([71.56329067]), array([70.9167604]), array([70.28305812]), array([69.661928]), array([69.05311935]), array([68.45638652]), array([67.87148877]), array([67.29819022]), array([66.73625968]), array([66.18547062]), array([65.64560106]), array([65.11643345]), array([64.5977546]), array([64.08935559]), array([63.5910317]), array([63.10258227]), array([62.6238107]), array([62.15452429]), array([61.69453422]), array([61.24365543]), array([60.80170655]), array([60.36850987]), array([59.9438912]), array([59.52767985]), array([59.11970852]), array([58.71981329]), array([58.32783347]), array([57.94361161]), array([57.56699339]), array([57.19782757]), array([56.83596593]), array([56.48126322]), array([56.13357707]), array([55.79276798]), array([55.45869918]), array([55.13123669]), array([54.81024917]), array([54.49560788]), array([54.1871867]), array([53.88486198]), array([53.58851255]), array([53.29801965]), array([53.0132669]), array([52.73414024]), array([52.46052786]), array([52.19232019]), array([51.92940987]), array([51.67169163]), array([51.41906233]), array([51.17142087]), array([50.92866819]), array([50.69070716]), array([50.45744262]), array([50.22878129]), array([50.00463174]), array([49.78490439]), array([49.5695114]), array([49.35836672]), array([49.15138598]), array([48.94848652]), array([48.7495873]), array([48.5546089]), array([48.36347349]), array([48.17610477]), array([47.99242799]), array([47.81236985]), array([47.63585853]), array([47.46282364]), array([47.29319617]), array([47.12690852]), array([46.9638944]), array([46.80408885]), array([46.64742821]), array([46.49385007]), array([46.34329328]), array([46.1956979]), array([46.05100517]), array([45.90915751]), array([45.77009849]), array([45.63377278]), array([45.50012618]), array([45.36910555]), array([45.24065881]), array([45.1147349]), array([44.99128381]), array([44.8702565]), array([44.7516049]), array([44.6352819]), array([44.52124135]), array([44.40943799]), array([44.29982747]), array([44.19236632]), array([44.08701192]), array([43.98372253]), array([43.88245721]), array([43.78317585]), array([43.68583913]), array([43.5904085]), array([43.49684621]), array([43.40511522]), array([43.31517926]), array([43.22700275]), array([43.14055085]), array([43.05578938]), array([42.97268486]), array([42.89120447]), array([42.81131603]), array([42.73298803]), array([42.65618955]), array([42.58089031]), array([42.50706062]), array([42.43467138]), array([42.36369407]), array([42.29410074]), array([42.22586399]), array([42.15895696]), array([42.09335334]), array([42.02902732]), array([41.96595362]), array([41.90410746]), array([41.84346455]), array([41.78400107]), array([41.7256937]), array([41.66851955]), array([41.61245622]), array([41.55748172]), array([41.50357452]), array([41.45071351]), array([41.39887801]), array([41.34804772]), array([41.29820278]), array([41.24932371]), array([41.2013914]), array([41.15438714]), array([41.10829259]), array([41.06308976]), array([41.01876104]), array([40.97528914]), array([40.93265715]), array([40.89084845]), array([40.8498468]), array([40.80963624]), array([40.77020115]), array([40.73152621]), array([40.69359641]), array([40.65639704]), array([40.61991367]), array([40.58413218]), array([40.54903869]), array([40.51461964]), array([40.48086171]), array([40.44775186]), array([40.41527729]), array([40.38342547]), array([40.35218413]), array([40.3215412]), array([40.2914849]), array([40.26200365]), array([40.23308611]), array([40.20472118]), array([40.17689795]), array([40.14960574]), array([40.1228341]), array([40.09657276]), array([40.07081167]), array([40.04554097]), array([40.020751]), array([39.99643229]), array([39.97257557]), array([39.94917173]), array([39.92621186]), array([39.90368722]), array([39.88158924]), array([39.85990953]), array([39.83863986]), array([39.81777215]), array([39.79729851]), array([39.77721118]), array([39.75750256]), array([39.73816522]), array([39.71919184]), array([39.70057528]), array([39.68230853]), array([39.66438471]), array([39.64679708]), array([39.62953905]), array([39.61260413]), array([39.59598599]), array([39.5796784]), array([39.56367528]), array([39.54797064]), array([39.53255863]), array([39.51743351]), array([39.50258966]), array([39.48802155]), array([39.47372378]), array([39.45969106]), array([39.44591819]), array([39.43240007]), array([39.41913173]), array([39.40610826]), array([39.39332487]), array([39.38077687]), array([39.36845964]), array([39.35636867]), array([39.34449954]), array([39.33284791]), array([39.32140951]), array([39.3101802]), array([39.29915587]), array([39.28833253]), array([39.27770625]), array([39.26727318]), array([39.25702954]), array([39.24697165]), array([39.23709588]), array([39.22739867]), array([39.21787655]), array([39.2085261]), array([39.19934397]), array([39.19032688]), array([39.18147162]), array([39.17277505]), array([39.16423406]), array([39.15584563]), array([39.1476068]), array([39.13951465]), array([39.13156633]), array([39.12375906]), array([39.11609007]), array([39.1085567]), array([39.10115631]), array([39.09388632]), array([39.08674419]), array([39.07972745]), array([39.07283367]), array([39.06606046]), array([39.05940549]), array([39.05286646]), array([39.04644114]), array([39.04012732]), array([39.03392285]), array([39.02782561]), array([39.02183353]), array([39.01594458]), array([39.01015677]), array([39.00446814]), array([38.99887678]), array([38.99338082]), array([38.98797841]), array([38.98266776]), array([38.97744709]), array([38.97231468]), array([38.96726883]), array([38.96230787]), array([38.95743016]), array([38.95263412]), array([38.94791817]), array([38.94328078]), array([38.93872043]), array([38.93423566]), array([38.92982501]), array([38.92548706]), array([38.92122043]), array([38.91702374]), array([38.91289567]), array([38.9088349]), array([38.90484014]), array([38.90091013]), array([38.89704365]), array([38.89323947]), array([38.88949642]), array([38.88581333]), array([38.88218906]), array([38.87862248]), array([38.87511251]), array([38.87165807]), array([38.8682581]), array([38.86491158]), array([38.86161749]), array([38.85837483]), array([38.85518264]), array([38.85203996]), array([38.84894585]), array([38.84589941]), array([38.84289972]), array([38.83994591]), array([38.83703711]), array([38.83417248]), array([38.83135119]), array([38.82857242]), array([38.82583538]), array([38.82313927]), array([38.82048335]), array([38.81786684]), array([38.81528902]), array([38.81274916]), array([38.81024656]), array([38.80778051]), array([38.80535035]), array([38.80295539]), array([38.80059499]), array([38.7982685]), array([38.79597529]), array([38.79371475]), array([38.79148627]), array([38.78928926]), array([38.78712314]), array([38.78498733]), array([38.78288128]), array([38.78080444]), array([38.77875627]), array([38.77673624]), array([38.77474385]), array([38.77277857]), array([38.77083992]), array([38.76892741]), array([38.76704055]), array([38.76517889]), array([38.76334196]), array([38.76152931]), array([38.75974051]), array([38.75797511]), array([38.7562327]), array([38.75451285]), array([38.75281517]), array([38.75113924]), array([38.74948469]), array([38.74785111]), array([38.74623815]), array([38.74464541]), array([38.74307256]), array([38.74151922]), array([38.73998504]), array([38.7384697]), array([38.73697285]), array([38.73549416]), array([38.73403331]), array([38.73258999]), array([38.73116388]), array([38.72975469]), array([38.7283621]), array([38.72698584]), array([38.72562561]), array([38.72428113]), array([38.72295212])]\n",
            "the final value of theta_0 is  [37.73064502]\n",
            "the final value of theta_1 is  [-0.38884517]\n",
            "the final value of theta_2 is  [1.37113765]\n",
            "the final value of theta_3 is  [-3.05769286]\n",
            "the final value of theta_4 is  [-4.40253939]\n",
            "the final value of theta_5 is  [3.51309505]\n",
            "the final value of theta_6 is  [3.06583106]\n",
            "the final value of theta_7 is  [0.80764068]\n"
          ],
          "name": "stdout"
        }
      ]
    },
    {
      "cell_type": "code",
      "metadata": {
        "id": "uTtRmK9G0EGX",
        "colab_type": "code",
        "outputId": "6a2ef586-8caa-4e28-b372-a1243a65b3d5",
        "colab": {
          "base_uri": "https://localhost:8080/",
          "height": 151
        }
      },
      "source": [
        "theta_array"
      ],
      "execution_count": 72,
      "outputs": [
        {
          "output_type": "execute_result",
          "data": {
            "text/plain": [
              "[array([37.73064502]),\n",
              " array([-0.38884517]),\n",
              " array([1.37113765]),\n",
              " array([-3.05769286]),\n",
              " array([-4.40253939]),\n",
              " array([3.51309505]),\n",
              " array([3.06583106]),\n",
              " array([0.80764068])]"
            ]
          },
          "metadata": {
            "tags": []
          },
          "execution_count": 72
        }
      ]
    },
    {
      "cell_type": "code",
      "metadata": {
        "id": "RM5Qjd0m2Pex",
        "colab_type": "code",
        "outputId": "62f41aff-e7a6-42fe-8d75-cd21b5d9f8db",
        "colab": {
          "base_uri": "https://localhost:8080/",
          "height": 34
        }
      },
      "source": [
        "predict=hypothesis(theta_array,1,2012.917,32,84.87,10,24.96,121.54024)     #making predictions using the optimized Θ values for a 1650 square feet house with 3 bedrooms\n",
        "predict"
      ],
      "execution_count": 86,
      "outputs": [
        {
          "output_type": "execute_result",
          "data": {
            "text/plain": [
              "array([2535.6533358])"
            ]
          },
          "metadata": {
            "tags": []
          },
          "execution_count": 86
        }
      ]
    }
  ]
}